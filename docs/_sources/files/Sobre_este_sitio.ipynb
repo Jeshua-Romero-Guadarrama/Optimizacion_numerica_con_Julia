{
 "cells": [
  {
   "cell_type": "markdown",
   "id": "5dc58d53",
   "metadata": {},
   "source": [
    "# Sobre_este_sitio"
   ]
  },
  {
   "cell_type": "markdown",
   "id": "fec1262d",
   "metadata": {},
   "source": [
    "<div class = \"video-w\">\n",
    "<div class = \"video-container\">\n",
    "<iframe frameborder=\"0\" scrolling=\"no\" marginheight=\"0\" marginwidth=\"0\"width=\"788.54\" height=\"443\" type=\"text/html\" src=\"https://www.youtube.com/embed/5johhf8DnLI?autoplay=0&fs=0&iv_load_policy=3&showinfo=0&rel=0&cc_load_policy=0&start=0&end=0&origin=http://youtubeembedcode.com\"><div><small><a href=\"https://youtubeembedcode.com/en/\">youtubeembedcode en</a></small></div><div><small><a href=\"https://enablecookies.info\">Enable cookies firefox</a></small></div><div><small><a href=\"https://youtubeembedcode.com/de/\">https://youtubeembedcode.com/de/</a></small></div><div><small><a href=\"https://www.unorules.org/uno-attack-rules/\">Uno rules</a></small></div><div><small><a href=\"https://youtubeembedcode.com/nl/\">https://youtubeembedcode.com/nl/</a></small></div><div><small><a href=\"https://googlemapsgenerator.com\">Google maps html embed</a></small></div></iframe>\n",
    "</div>\n",
    "</div>"
   ]
  }
 ],
 "metadata": {
  "hide_input": false,
  "kernelspec": {
   "display_name": "Python 3",
   "language": "python",
   "name": "python3"
  },
  "language_info": {
   "codemirror_mode": {
    "name": "ipython",
    "version": 3
   },
   "file_extension": ".py",
   "mimetype": "text/x-python",
   "name": "python",
   "nbconvert_exporter": "python",
   "pygments_lexer": "ipython3",
   "version": "3.8.8"
  },
  "latex_envs": {
   "LaTeX_envs_menu_present": true,
   "autoclose": false,
   "autocomplete": true,
   "bibliofile": "biblio.bib",
   "cite_by": "apalike",
   "current_citInitial": 1,
   "eqLabelWithNumbers": true,
   "eqNumInitial": 1,
   "hotkeys": {
    "equation": "Ctrl-E",
    "itemize": "Ctrl-I"
   },
   "labels_anchors": false,
   "latex_user_defs": false,
   "report_style_numbering": false,
   "user_envs_cfg": false
  },
  "nbTranslate": {
   "displayLangs": [
    "*"
   ],
   "hotkey": "alt-t",
   "langInMainMenu": true,
   "sourceLang": "en",
   "targetLang": "fr",
   "useGoogleTranslate": true
  },
  "toc": {
   "base_numbering": 1,
   "nav_menu": {},
   "number_sections": true,
   "sideBar": true,
   "skip_h1_title": false,
   "title_cell": "Tabla de contenido",
   "title_sidebar": "Contenido",
   "toc_cell": false,
   "toc_position": {},
   "toc_section_display": true,
   "toc_window_display": false
  },
  "varInspector": {
   "cols": {
    "lenName": 16,
    "lenType": 16,
    "lenVar": 40
   },
   "kernels_config": {
    "python": {
     "delete_cmd_postfix": "",
     "delete_cmd_prefix": "del ",
     "library": "var_list.py",
     "varRefreshCmd": "print(var_dic_list())"
    },
    "r": {
     "delete_cmd_postfix": ") ",
     "delete_cmd_prefix": "rm(",
     "library": "var_list.r",
     "varRefreshCmd": "cat(var_dic_list()) "
    }
   },
   "types_to_exclude": [
    "module",
    "function",
    "builtin_function_or_method",
    "instance",
    "_Feature"
   ],
   "window_display": false
  }
 },
 "nbformat": 4,
 "nbformat_minor": 5
}

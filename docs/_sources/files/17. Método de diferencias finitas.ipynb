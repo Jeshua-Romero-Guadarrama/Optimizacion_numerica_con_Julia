{
 "cells": [
  {
   "cell_type": "markdown",
   "metadata": {},
   "source": [
    "```{contents}\n",
    ":depth: 4\n",
    "```"
   ]
  },
  {
   "cell_type": "markdown",
   "metadata": {},
   "source": [
    "# Método de diferencias finitas"
   ]
  },
  {
   "cell_type": "markdown",
   "metadata": {},
   "source": [
    "Dada la ecuación diferencial, aplicar el Método de Diferencias Finitas Centradas consiste en:\n",
    "\n",
    "* Generar una malla del dominio.\n",
    "* Sustituir las aproximaciones a las derivadas para obtener un sistema algebraico de ecuaciones $$Au = b$$\n",
    "* Resolver el sistema de ecuaciones para obtener la aproximación a la solución en cada punto de la malla."
   ]
  },
  {
   "cell_type": "markdown",
   "metadata": {},
   "source": [
    "### <font color=blue> Problema en una dimensión con Condiciones de Frontera Dirichlet<font>"
   ]
  },
  {
   "cell_type": "markdown",
   "metadata": {},
   "source": [
    "Considéremos la ecuación $$u_{xx} + p (x) u_x + q (x) u = f (x)$$\n",
    "\n",
    "con $x\\in [\\alpha, \\beta]$ y condiciones de frontera:\n",
    "\n",
    "$$ {\\begin{cases}u(\\alpha)=u_\\alpha\\,\\\\u(\\beta)=u_\\beta\\end{cases}}$$"
   ]
  },
  {
   "cell_type": "markdown",
   "metadata": {},
   "source": [
    "Generación de una malla del dominio, partición del intervalo $[\\alpha, \\beta]$ en $n+2$ puntos: \n",
    "\n",
    "$$x_i = \\alpha  + ih$$\n",
    "\n",
    "con $i = 1, 2, \\ldots , n$ y $h = \\Delta x = \\frac{\\beta-\\alpha}{n+1}$.\n",
    "\n",
    "$$x_0=\\alpha, \\ \\ \\ x_{n+1}=\\beta$$"
   ]
  },
  {
   "cell_type": "markdown",
   "metadata": {},
   "source": [
    "Aproximación de las derivadas por medio de diferencias centradas:\n",
    "$$u_{xx} =\\frac{u_{i-1} - 2u_i + u_{i+1}}{h^2}$$\n",
    "$$u_x =\\frac{u_{i+1} - u_{i-1}}{2h}$$"
   ]
  },
  {
   "cell_type": "markdown",
   "metadata": {},
   "source": [
    "Sustituyendo en la ecuación diferencial:\n",
    "$$\\frac{u_{i-1} - 2u_i + u_{i+1}}{h^2}+p_i\\frac{u_{i+1} - u_{i-1}}{2h}+q_iu_i=f_i$$\n",
    "\n",
    "donde $ p_i, q_i, f_i$ son las evaluaciones $p (x), q (x), f (x)$ en $x=x_i$, respectivamente."
   ]
  },
  {
   "cell_type": "markdown",
   "metadata": {},
   "source": [
    "Agrupando los términos obtenemos:\n",
    "\n",
    "$$\\left[\\frac{1}{h^2}-\\frac{p_i}{2h}\\right]u_{i-1}+\\left[q_i-\\frac{2}{h^2}\\right]u_i+ \\left[\\frac{1}{h^2}+\\frac{p_i}{2h}\\right]u_{i+1}=f_i$$"
   ]
  },
  {
   "cell_type": "markdown",
   "metadata": {},
   "source": [
    "de donde se obtiene el sistema de ecuaciones\n",
    "\\begin{align*}\n",
    "\\left[\\frac{1}{h^2}-\\frac{p_1}{2h}\\right]u_{\\alpha}+\\left[q_1-\\frac{2}{h^2}\\right]u_1+ \\left[\\frac{1}{h^2}+\\frac{p_1}{2h}\\right]u_{2}&=f_1\\\\\n",
    "\\left[\\frac{1}{h^2}-\\frac{p_2}{2h}\\right]u_{1}+\\left[q_2-\\frac{2}{h^2}\\right]u_2+ \\left[\\frac{1}{h^2}+\\frac{p_2}{2h}\\right]u_{3}&=f_2\\\\\n",
    "\\left[\\frac{1}{h^2}-\\frac{p_3}{2h}\\right]u_{2}+\\left[q_3-\\frac{2}{h^2}\\right]u_3+ \\left[\\frac{1}{h^2}+\\frac{p_3}{2h}\\right]u_{4}&=f_3\\\\\n",
    "\\vdots\\\\\n",
    "\\left[\\frac{1}{h^2}-\\frac{p_{n-1}}{2h}\\right]u_{n-2}+\\left[q_{n-1}-\\frac{2}{h^2}\\right]u_{n-1}+ \\left[\\frac{1}{h^2}+\\frac{p_{n-1}}{2h}\\right]u_{n}&=f_{n-1}\\\\\n",
    "\\left[\\frac{1}{h^2}-\\frac{p_n}{2h}\\right]u_{n-1}+\\left[q_n-\\frac{2}{h^2}\\right]u_{n}+ \\left[\\frac{1}{h^2}+\\frac{p_n}{2h}\\right]u_{\\beta}&=f_n\n",
    "\\end{align*}"
   ]
  },
  {
   "cell_type": "markdown",
   "metadata": {},
   "source": [
    "escribiendo forma vectorial \n",
    "\n",
    "$$\\begin{pmatrix} q_1 h^2 - 2 & 1+\\frac{p_1h}{2}\\\\ 1-\\frac{p_2h}{2}&q_2 h^2 - 2 & 1+\\frac{p_2h}{2}\\\\  &1-\\frac{p_3h}{2}&q_3 h^2 - 2 & 1+\\frac{p_3h}{2}\\\\ & &  \\ddots  & \\ddots  & \\ddots \\\\ \n",
    "& & &  1-\\frac{p_{n-1}h}{2}&q_{n-1} h^2 - 2 & 1+\\frac{p_{n-1}h}{2}\\\\\n",
    "& & & & 1-\\frac{p_nh}{2}&q_n h^2 - 2  \\end{pmatrix}\\begin{pmatrix}u_1\\\\ u_2\\\\ u_3 \\\\ \\vdots\\\\  \\\\u_{n-1}\\\\ u_n \\end{pmatrix} = h^2 \\begin{pmatrix}f_1\\\\ f_2\\\\ f_3 \\\\ \\vdots\\\\  \\\\f_{n-1}\\\\ f_n \\end{pmatrix} + \\begin{pmatrix}-\\left[1 -\\frac{p_1 h}{2}\\right]u_{\\alpha} \\\\ 0\\\\  \\vdots\\\\  \\\\0 \\\\ - \\left[1+\\frac{p_nh}{2}\\right]u_{\\beta} \\end{pmatrix} $$\n",
    "\n",
    "$$Au=h^2f+c=b$$"
   ]
  },
  {
   "cell_type": "markdown",
   "metadata": {},
   "source": [
    "Observación:"
   ]
  },
  {
   "cell_type": "markdown",
   "metadata": {},
   "source": [
    "$$A= \\begin{pmatrix} - 2 & 1 \\\\ 1&- 2 & 1\\\\  &1&- 2 & 1\\\\ & &  \\ddots  & \\ddots  & \\ddots \\\\ \n",
    "& & &  1&- 2 & 1\\\\\n",
    "& & & & 1& - 2  \\end{pmatrix}+\\begin{pmatrix} q_1 h^2 &\\frac{p_1h}{2}\\\\ -\\frac{p_2h}{2}&q_2 h^2 & \\frac{p_2h}{2}\\\\  &-\\frac{p_3h}{2}&q_3 h^2 & \\frac{p_3h}{2}\\\\ & &  \\ddots  & \\ddots  & \\ddots \\\\ \n",
    "& & &  -\\frac{p_{n-1}h}{2}&q_{n-1} h^2  &\\frac{p_{n-1}h}{2}\\\\\n",
    "& & & & -\\frac{p_nh}{2}&q_n h^2   \\end{pmatrix} $$\n",
    "\n",
    "$$A= \\begin{pmatrix} - 2 & 1 \\\\ 1&- 2 & 1\\\\  &1&- 2 & 1\\\\ & &  \\ddots  & \\ddots  & \\ddots \\\\ \n",
    "& & &  1&- 2 & 1\\\\\n",
    "& & & & 1& - 2  \\end{pmatrix}+ h^2\\begin{pmatrix} q_1  \\\\ &q_2  &\\\\  &&q_3  & \\\\ & &    & \\ddots  &  \\\\ & & &  &q_{n-1}   &\\\\\n",
    "& & & & &q_n    \\end{pmatrix}+\\frac{h}{2}\\begin{pmatrix}0  &p_1\\\\ -p_2& 0& p_2\\\\  &-p_3&0 & p_3\\\\ & &  \\ddots  & \\ddots  & \\ddots \\\\ & & &  -p_{n-1}& 0 &p_{n-1}\\\\\n",
    "& & & & -p_n& 0  \\end{pmatrix}  $$"
   ]
  },
  {
   "cell_type": "markdown",
   "metadata": {},
   "source": [
    "Resolviendo el sistema de ecuaciones $$Au=b$$ se obtiene la solución aproximada en cada punto interior de la malla."
   ]
  },
  {
   "cell_type": "markdown",
   "metadata": {},
   "source": [
    "#### <font color=blue> Implementación numérica<font>"
   ]
  },
  {
   "cell_type": "markdown",
   "metadata": {},
   "source": [
    "Definimos la función `prodA` que se encargará de calcular el vector que resulte del producto $Au$, sin hacer el cálculo explícito de la matriz $A$. "
   ]
  },
  {
   "cell_type": "code",
   "execution_count": null,
   "metadata": {},
   "outputs": [],
   "source": [
    "function prodA(X::Array{Float64},h::Float64,q::Array{Float64},p::Array{Float64})\n",
    "    n  = length(X)\n",
    "    \n",
    "    A1X = zeros(n)\n",
    "    A1X[1] = -2X[1] +X[2]    \n",
    "    A1X[2:end-1] = X[1:end-2] - 2X[2:end-1] +X[3:end]\n",
    "    A1X[end] = X[end-1] - 2X[end]\n",
    "    \n",
    "    A2X = zeros(n)\n",
    "    A2X =h^2*q.*X\n",
    "    \n",
    "    A3X = zeros(n)\n",
    "    A3X[1] = (h/2)*p[1].*X[2]    \n",
    "    A3X[2:end-1] = (h/2)* p[2:end-1].*(-X[1:end-2]+X[3:end])\n",
    "    A3X[end] = -(h/2)*p[end].*X[end-1]\n",
    "    \n",
    "    AX = A1X+A2X+A3X\n",
    "    return AX\n",
    "end"
   ]
  },
  {
   "cell_type": "markdown",
   "metadata": {},
   "source": [
    "Definimos la función `vecb` que se encargará de calcular el vector del lado derecho de la ecuación $Au=b$"
   ]
  },
  {
   "cell_type": "code",
   "execution_count": null,
   "metadata": {},
   "outputs": [],
   "source": [
    "function vecb(f::Function, px::Array{Float64}, u₀::Number, uₙ₊₁::Number,p::Function)\n",
    "    # núm de pts en partición\n",
    "    n = length(px)\n",
    "    h = px[2]-px[1]\n",
    "    # lado derecho de la ecuación diferencial en la partición\n",
    "    fx = f.(px)\n",
    "    # lado derecho del sistema de ecuaciones lineales\n",
    "    b  = fx*h^2\n",
    "    b[1]  = b[1]- (1-p.(px[1])*(h/2))*u₀\n",
    "    b[end]= b[end]- (p.(px[end])*(h/2)+1)*uₙ₊₁\n",
    "    return b\n",
    "end"
   ]
  },
  {
   "cell_type": "markdown",
   "metadata": {},
   "source": [
    "Cargamos los paquetes para visualización y el uso de algunas funciones útiles."
   ]
  },
  {
   "cell_type": "code",
   "execution_count": null,
   "metadata": {},
   "outputs": [],
   "source": [
    "using Printf, LinearAlgebra,LaTeXStrings"
   ]
  },
  {
   "cell_type": "markdown",
   "metadata": {},
   "source": [
    "La función `miCG` resuelve el sistema $Au=b$ por medio del método del grafiente conjugado"
   ]
  },
  {
   "cell_type": "code",
   "execution_count": null,
   "metadata": {},
   "outputs": [],
   "source": [
    "function miCG(fun::Function,b::Array{Float64}, itmax::Int64 = 300, tol::Float64 = 1e-5)\n",
    "        #=\n",
    "            Rutina para resolver sistema de ecuaciones lineales\n",
    "                Ax=b\n",
    "            por método del gradiente conjugado\n",
    "    \n",
    "            Entrada: \n",
    "                función fun para realizar producto matriz vector\n",
    "                arreglo b   con el lado derecho\n",
    "            Salida:\n",
    "                arreglo x con la aproximación de la solución\n",
    "        =#\n",
    "\n",
    "\n",
    "            l = length(b)\n",
    "            # aprox inicial en el origen\n",
    "            x = zeros(l) \n",
    "            # gradiente inicial = residual inicial = - lado derecho\n",
    "            g = -copy(b) \n",
    "            # primera dirección contraria al gradiente inicial\n",
    "            d = -copy(g)\n",
    "            # contador \n",
    "            it = 0\n",
    "            # máximo numéro de iteraciones\n",
    "            #itmax = 300\n",
    "            # tamaño del gradiente\n",
    "            ng = norm(g)\n",
    "            # toleracia\n",
    "            #tol = 1e-5\n",
    "            # CICLO PRINCIPAL\n",
    "            while ng ≥ tol # criterio de paro por tamaño del gradiente\n",
    "                # muestra tamaño del gradiente\n",
    "                cad = @sprintf \"%1.5e\" ng\n",
    "                display(latexstring(\"\\$\\\\|g_{$it}\\\\|\\$ = \"*cad))\n",
    "                # rutina para producto matriz vector\n",
    "                Ad = fun(d)\n",
    "                # mínimo sobre la línea\n",
    "                α  = (g'*g) / (d'*Ad)\n",
    "                # actualiza la aproximación\n",
    "                x +=  α*d\n",
    "                # nuevo gradiente ortogonal al anterior\n",
    "                gnew = g + α*Ad\n",
    "                # coeficientes para A-ortogonalidad de las direcciones\n",
    "                β = (gnew'*gnew) / (g'*g)\n",
    "                # actualiza gradiente\n",
    "                g = gnew\n",
    "                # tamaño del gradiente\n",
    "                ng = norm(g)\n",
    "                # actualiza dirección\n",
    "                d = -g + β*d\n",
    "                # actualiza contador\n",
    "                it += 1\n",
    "                # criterio de paro por iteraciones\n",
    "                ( it ≥ itmax ) && break\n",
    "            end\n",
    "            if ( it < itmax ) \n",
    "               println(\"salí por tamaño de gradiente\")\n",
    "            else\n",
    "               println(\"salí por iteraciones\") \n",
    "            end\n",
    "            # muestra tamaño del último gradiente\n",
    "            cad = @sprintf \"%1.5e\" ng\n",
    "            display(latexstring(\"\\$\\\\|g_{$it}\\\\|\\$ = \"*cad))\n",
    "    return x\n",
    "end"
   ]
  },
  {
   "cell_type": "markdown",
   "metadata": {},
   "source": [
    "Creamos la función `ODE2_1DCG` que resuelve nuestro problema con ayuda de las rutinas previas. "
   ]
  },
  {
   "cell_type": "code",
   "execution_count": null,
   "metadata": {},
   "outputs": [],
   "source": [
    "function ODE2_1DCG(f::Function, p::Function, q::Function, n::Int64, u₀::Float64 = 0.0, uₙ₊₁::Float64 = 0.0, α::Float64 = 0.0, β::Float64 = 1.0 )\n",
    "    # partición del intervalo [0,1] en n+2 pts\n",
    "    px = LinRange(α,β,n+2)\n",
    "    # partición del intervalo (0,1) en n pts\n",
    "    px = collect(px)[2:end-1]\n",
    "    # lado derecho del sistema de ecuaciones\n",
    "    h=(β-α)/(n+1)\n",
    "    b = vecb(f, px, u₀, uₙ₊₁, p)\n",
    "    # solución del sistema de ecuaciones lineales por CG\n",
    "    P=collect(p.(px))\n",
    "    Q=collect(q.(px))\n",
    "    F= (x)-> prodA(x,h,Q,P)\n",
    "    ûx = miCG(F,b)\n",
    "    return px, ûx\n",
    "end"
   ]
  },
  {
   "cell_type": "markdown",
   "metadata": {},
   "source": [
    "##### <font color=blue> Ejemplo 01 <font>"
   ]
  },
  {
   "cell_type": "code",
   "execution_count": null,
   "metadata": {},
   "outputs": [],
   "source": [
    "f = x-> 0.0\n",
    "p = x-> 0.0\n",
    "q = x-> 1.0\n",
    "\n",
    "α = 0.0\n",
    "β = 10.0\n",
    "\n",
    "u₀   = 0.0\n",
    "uₙ₊₁ = 1.0\n",
    "\n",
    "n = 75"
   ]
  },
  {
   "cell_type": "markdown",
   "metadata": {},
   "source": [
    "**Solución numérica:**"
   ]
  },
  {
   "cell_type": "code",
   "execution_count": null,
   "metadata": {},
   "outputs": [],
   "source": [
    "px, ûx=ODE2_1DCG(f, p, q, n, u₀, uₙ₊₁, α, β )"
   ]
  },
  {
   "cell_type": "markdown",
   "metadata": {},
   "source": [
    "**Solución exacta:**"
   ]
  },
  {
   "cell_type": "code",
   "execution_count": null,
   "metadata": {},
   "outputs": [],
   "source": [
    "using PGFPlotsX"
   ]
  },
  {
   "cell_type": "code",
   "execution_count": null,
   "metadata": {},
   "outputs": [],
   "source": [
    "# solución analítica \n",
    "u(x) = csc(10)*sin(x)\n",
    "ux = u.(px);"
   ]
  },
  {
   "cell_type": "markdown",
   "metadata": {},
   "source": [
    "**Visualización de las soluciones:**"
   ]
  },
  {
   "cell_type": "code",
   "execution_count": null,
   "metadata": {},
   "outputs": [],
   "source": [
    "plt = @pgf Axis({\n",
    "        height = \"12cm\",\n",
    "        width  = \"12cm\",\n",
    "        xlabel = L\"$x$\",\n",
    "        },\n",
    "        PlotInc({\"no marks\",  color=\"blue\"},Coordinates(px,ux)),\n",
    "        LegendEntry(\"exact\"),\n",
    "        PlotInc({\"only marks\",color=\"red\"}, Coordinates(px,ûx)),\n",
    "        LegendEntry(\"aprox\")\n",
    "    )"
   ]
  },
  {
   "cell_type": "markdown",
   "metadata": {},
   "source": [
    "##### <font color=blue> Ejemplo 02<font>"
   ]
  },
  {
   "cell_type": "code",
   "execution_count": null,
   "metadata": {},
   "outputs": [],
   "source": [
    "f = x-> 0.0\n",
    "p = x-> x\n",
    "q = x-> -1.0\n",
    "\n",
    "α = 0.0\n",
    "β = 1.0\n",
    "\n",
    "u₀   = 0.0\n",
    "uₙ₊₁ = 1.0\n",
    "\n",
    "n = 10"
   ]
  },
  {
   "cell_type": "markdown",
   "metadata": {},
   "source": [
    "**Solución numérica:**"
   ]
  },
  {
   "cell_type": "code",
   "execution_count": null,
   "metadata": {},
   "outputs": [],
   "source": [
    "px, ûx=ODE2_1DCG(f, p, q, n, u₀, uₙ₊₁, α, β )\n"
   ]
  },
  {
   "cell_type": "markdown",
   "metadata": {},
   "source": [
    "**Solución exacta:**"
   ]
  },
  {
   "cell_type": "code",
   "execution_count": null,
   "metadata": {},
   "outputs": [],
   "source": [
    "# solución analítica\n",
    "u(x) =x\n",
    "ux = u.(px);"
   ]
  },
  {
   "cell_type": "markdown",
   "metadata": {},
   "source": [
    "**Visualización de las soluciones:**"
   ]
  },
  {
   "cell_type": "code",
   "execution_count": null,
   "metadata": {},
   "outputs": [],
   "source": [
    "plt = @pgf Axis({\n",
    "        height = \"12cm\",\n",
    "        width  = \"12cm\",\n",
    "        xlabel = L\"$x$\",\n",
    "        },\n",
    "        PlotInc({\"no marks\",  color=\"blue\"},Coordinates(px,ux)),\n",
    "        LegendEntry(\"exact\"),\n",
    "        PlotInc({\"only marks\",color=\"red\"}, Coordinates(px,ûx)),\n",
    "        LegendEntry(\"aprox\")\n",
    "    )"
   ]
  },
  {
   "cell_type": "markdown",
   "metadata": {},
   "source": [
    "##### <font color=blue> Ejemplo 03<font>"
   ]
  },
  {
   "cell_type": "code",
   "execution_count": null,
   "metadata": {},
   "outputs": [],
   "source": [
    "f= x-> 1/x^2\n",
    "p= x-> 3/x\n",
    "q= x-> 1/x^2\n",
    "\n",
    "α = 1.0\n",
    "β = 2.0\n",
    "\n",
    "u₀   = 0.0\n",
    "uₙ₊₁ = 0.0\n",
    "\n",
    "n = 20"
   ]
  },
  {
   "cell_type": "markdown",
   "metadata": {},
   "source": [
    "**Solución numérica:**"
   ]
  },
  {
   "cell_type": "code",
   "execution_count": null,
   "metadata": {},
   "outputs": [],
   "source": [
    "px, ûx=ODE2_1DCG(f, p, q, n, u₀, uₙ₊₁, α, β )"
   ]
  },
  {
   "cell_type": "markdown",
   "metadata": {},
   "source": [
    "**Solución exacta:**"
   ]
  },
  {
   "cell_type": "code",
   "execution_count": null,
   "metadata": {},
   "outputs": [],
   "source": [
    "# solución analítica\n",
    "u(x) = 1 - log(2*x)/(x*log(2))\n",
    "ux = u.(px);"
   ]
  },
  {
   "cell_type": "markdown",
   "metadata": {},
   "source": [
    "**Visualización de las soluciones:**"
   ]
  },
  {
   "cell_type": "code",
   "execution_count": null,
   "metadata": {},
   "outputs": [],
   "source": [
    "plt = @pgf Axis({\n",
    "        height = \"12cm\",\n",
    "        width  = \"12cm\",\n",
    "        xlabel = L\"$x$\",\n",
    "        },\n",
    "        PlotInc({\"no marks\",  color=\"blue\"},Coordinates(px,ux)),\n",
    "        LegendEntry(\"exact\"),\n",
    "        PlotInc({\"only marks\",color=\"red\"}, Coordinates(px,ûx)),\n",
    "        LegendEntry(\"aprox\")\n",
    "    )"
   ]
  }
 ],
 "metadata": {
  "hide_input": false,
  "kernelspec": {
   "display_name": "Julia 1.6.1",
   "language": "julia",
   "name": "julia-1.6"
  },
  "language_info": {
   "file_extension": ".jl",
   "mimetype": "application/julia",
   "name": "julia",
   "version": "1.6.1"
  },
  "latex_envs": {
   "LaTeX_envs_menu_present": true,
   "autoclose": false,
   "autocomplete": true,
   "bibliofile": "biblio.bib",
   "cite_by": "apalike",
   "current_citInitial": 1,
   "eqLabelWithNumbers": true,
   "eqNumInitial": 1,
   "hotkeys": {
    "equation": "Ctrl-E",
    "itemize": "Ctrl-I"
   },
   "labels_anchors": false,
   "latex_user_defs": false,
   "report_style_numbering": false,
   "user_envs_cfg": false
  },
  "nbTranslate": {
   "displayLangs": [
    "*"
   ],
   "hotkey": "alt-t",
   "langInMainMenu": true,
   "sourceLang": "en",
   "targetLang": "fr",
   "useGoogleTranslate": true
  },
  "toc": {
   "base_numbering": 1,
   "nav_menu": {},
   "number_sections": true,
   "sideBar": true,
   "skip_h1_title": false,
   "title_cell": "Tabla de contenido",
   "title_sidebar": "Contenido",
   "toc_cell": false,
   "toc_position": {},
   "toc_section_display": true,
   "toc_window_display": false
  },
  "varInspector": {
   "cols": {
    "lenName": 16,
    "lenType": 16,
    "lenVar": 40
   },
   "kernels_config": {
    "python": {
     "delete_cmd_postfix": "",
     "delete_cmd_prefix": "del ",
     "library": "var_list.py",
     "varRefreshCmd": "print(var_dic_list())"
    },
    "r": {
     "delete_cmd_postfix": ") ",
     "delete_cmd_prefix": "rm(",
     "library": "var_list.r",
     "varRefreshCmd": "cat(var_dic_list()) "
    }
   },
   "types_to_exclude": [
    "module",
    "function",
    "builtin_function_or_method",
    "instance",
    "_Feature"
   ],
   "window_display": false
  }
 },
 "nbformat": 4,
 "nbformat_minor": 2
}

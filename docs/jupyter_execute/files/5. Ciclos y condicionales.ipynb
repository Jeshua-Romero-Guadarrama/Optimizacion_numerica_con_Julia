{
 "cells": [
  {
   "cell_type": "markdown",
   "metadata": {},
   "source": [
    "```{contents}\n",
    ":depth: 4\n",
    "```"
   ]
  },
  {
   "cell_type": "markdown",
   "metadata": {},
   "source": [
    "# Ciclos y condicionales"
   ]
  },
  {
   "cell_type": "markdown",
   "metadata": {},
   "source": [
    "## <font color = blue> CONDICIONALES</font>\n",
    "\n",
    "### <font color = blue> ¿está o no está?</font>\n",
    "\n",
    "Para saber si el valor de una variable se encuentra en una estructura de datos usa `in`.\n",
    "\n",
    ">  El resultado es  `true` o `false`\n",
    "\n",
    "**Ejemplo para tuplas**"
   ]
  },
  {
   "cell_type": "code",
   "execution_count": null,
   "metadata": {},
   "outputs": [],
   "source": [
    "letra = \"α\"\n",
    "abc = (\"α\",\"β\",0,1)\n",
    "letra in abc"
   ]
  },
  {
   "cell_type": "markdown",
   "metadata": {},
   "source": [
    "**Ejemplo para arreglos**"
   ]
  },
  {
   "cell_type": "markdown",
   "metadata": {},
   "source": [
    "Creamos una variable `a` de tipo entero y una matriz aleatoria `C` de enteros entre 0 y 50\n",
    "\n",
    "Pregunta si el valor de la variable `a` está en el arreglo `C`."
   ]
  },
  {
   "cell_type": "code",
   "execution_count": null,
   "metadata": {},
   "outputs": [],
   "source": [
    "a = 21\n",
    "C = rand(0:50,5,5)"
   ]
  },
  {
   "cell_type": "code",
   "execution_count": null,
   "metadata": {},
   "outputs": [],
   "source": [
    "a in C"
   ]
  },
  {
   "cell_type": "markdown",
   "metadata": {},
   "source": [
    "### <font color = blue>Comparaciones</font>\n",
    "\n",
    "Sea $R$ matriz aleatoria $3\\times 3$ con elementos $1,10,100,1000$\n",
    "\n",
    "Pregunta si $R_{3,3}=1000$  usando `==`"
   ]
  },
  {
   "cell_type": "code",
   "execution_count": null,
   "metadata": {},
   "outputs": [],
   "source": [
    "R = rand([1,10,100,1000],3,3)"
   ]
  },
  {
   "cell_type": "code",
   "execution_count": null,
   "metadata": {},
   "outputs": [],
   "source": [
    "R[3,3] == 1000"
   ]
  },
  {
   "cell_type": "markdown",
   "metadata": {},
   "source": [
    "Pregunta si $R_{2,2}\\neq 100$ usando `≠`\n",
    "- Usa la combinación `\\ne` + `TAB` para obtener `≠`"
   ]
  },
  {
   "cell_type": "code",
   "execution_count": null,
   "metadata": {},
   "outputs": [],
   "source": [
    "R[2,2] ≠ 1000"
   ]
  },
  {
   "cell_type": "markdown",
   "metadata": {},
   "source": [
    "Pregunta si la matriz\n",
    "$A= \\begin{pmatrix}1 & 10 \\\\ 100 & 1000\\end{pmatrix}$\n",
    "es $\\begin{pmatrix}r_{1,1} & r_{1,2} \\\\ r_{2,1} & r_{2,2}\\end{pmatrix}$"
   ]
  },
  {
   "cell_type": "code",
   "execution_count": null,
   "metadata": {},
   "outputs": [],
   "source": [
    "A = [1 10\n",
    "     100 1000]\n",
    "A == R[1:2,1:2]"
   ]
  },
  {
   "cell_type": "markdown",
   "metadata": {},
   "source": [
    "Reemplaza las componentes de $R$ iguales a 1000 por cero usando `.==`"
   ]
  },
  {
   "cell_type": "code",
   "execution_count": null,
   "metadata": {},
   "outputs": [],
   "source": [
    "R[ R .== 1000] .= 0\n",
    "R"
   ]
  },
  {
   "cell_type": "markdown",
   "metadata": {},
   "source": [
    "Sea **r** número entero aleatorio entre 0 y 10.  Pregunta si $r\\leq 5$.\n",
    "- Usa la combinación `\\le` + `TAB` para obtener `≤`\n",
    "- Usa la combinación `\\ge` + `TAB`  para obtener `≥`"
   ]
  },
  {
   "cell_type": "code",
   "execution_count": null,
   "metadata": {},
   "outputs": [],
   "source": [
    "r = rand(0:10)\n",
    "r ≤ 5"
   ]
  },
  {
   "cell_type": "markdown",
   "metadata": {},
   "source": [
    "### <font color = blue> Operadores lógicos </font>\n",
    "<br>\n",
    "<font color = blue>**O**</font>\n",
    "\n",
    "1ra sintaxis\n",
    "```julia\n",
    "(condición1) | (condición2) | (condición3)\n",
    "```\n",
    "\n",
    "2da sintaxis\n",
    "```julia\n",
    "|(condición1, condición2, condición3)\n",
    "```"
   ]
  },
  {
   "cell_type": "markdown",
   "metadata": {},
   "source": [
    "**Ejemplo:**\n",
    "\n",
    "Pregunta si 40 o 17 o 23 están en el arreglo **C** con `|`"
   ]
  },
  {
   "cell_type": "code",
   "execution_count": null,
   "metadata": {},
   "outputs": [],
   "source": [
    "C = rand(0:50,5,5)"
   ]
  },
  {
   "cell_type": "code",
   "execution_count": null,
   "metadata": {},
   "outputs": [],
   "source": [
    "( 40 ∈ C ) | ( 17 ∈ C ) | ( 23 ∈ C ) "
   ]
  },
  {
   "cell_type": "code",
   "execution_count": null,
   "metadata": {},
   "outputs": [],
   "source": [
    "|( 40 ∈ C, 17 ∈ C, 23 ∈ C )"
   ]
  },
  {
   "cell_type": "markdown",
   "metadata": {},
   "source": [
    "<font color = blue>**Y**</font>\n",
    "\n",
    "sintaxis\n",
    "```julia\n",
    "(condición1) & (condición2) & (condición3)\n",
    "```"
   ]
  },
  {
   "cell_type": "markdown",
   "metadata": {},
   "source": [
    "**Ejemplo:**\n",
    "\n",
    "Pregunta si 9 y 28 están en el arreglo **C** con `&`"
   ]
  },
  {
   "cell_type": "code",
   "execution_count": null,
   "metadata": {},
   "outputs": [],
   "source": [
    "( 9 ∈ C ) & ( 28 ∈ C )"
   ]
  },
  {
   "cell_type": "markdown",
   "metadata": {},
   "source": [
    "### <font color=blue> IF, ELSE, ELSEIF</font>"
   ]
  },
  {
   "cell_type": "markdown",
   "metadata": {},
   "source": [
    "Síntaxis \n",
    "\n",
    "En una línea\n",
    "\n",
    "```julia\n",
    "if condición instrucciones; end\n",
    "```\n",
    "\n",
    "En varias líneas\n",
    "\n",
    "```julia\n",
    "if condición\n",
    "    instrucciones\n",
    "end\n",
    "```\n",
    "\n",
    "Como operador ternario\n",
    "\n",
    "```julia \n",
    "(condición) && (instrucción)\n",
    "```\n",
    "\n",
    "**Ejemplo**"
   ]
  },
  {
   "cell_type": "code",
   "execution_count": null,
   "metadata": {},
   "outputs": [],
   "source": [
    "r = rand([\"J,\",\"U\",\"L\",\"I\",\"A\"])\n",
    "if r == \"L\" println(\"$r\"); end"
   ]
  },
  {
   "cell_type": "markdown",
   "metadata": {},
   "source": [
    "Síntaxis\n",
    "\n",
    "\n",
    "```julia\n",
    "if condición\n",
    "    instrucciones 1\n",
    "else\n",
    "    instrucciones 2\n",
    "end\n",
    "```\n",
    "\n",
    "Síntaxis como operador ternario\n",
    "\n",
    "```julia \n",
    "condición ? instrucción 1 : instrucción 2\n",
    "```\n",
    "\n",
    "**Ejemplo**"
   ]
  },
  {
   "cell_type": "code",
   "execution_count": null,
   "metadata": {},
   "outputs": [],
   "source": [
    " |(r == \"L\",r == \"A\")  ?  println(\"acertaste\\nvalor de variable = $r\") : println(\"fallaste\")"
   ]
  },
  {
   "cell_type": "markdown",
   "metadata": {},
   "source": [
    "Sintaxis\n",
    "\n",
    "```julia\n",
    "if *condiciones 1*\n",
    "    *instrucciones 1*\n",
    "elseif *condiciones 2*\n",
    "    *instrucciones 2*\n",
    "else\n",
    "    *instrucciones 3*\n",
    "end\n",
    "```"
   ]
  },
  {
   "cell_type": "markdown",
   "metadata": {},
   "source": [
    "**Ejemplo**\n",
    "\n",
    "- Introduce lo siguiente:"
   ]
  },
  {
   "cell_type": "code",
   "execution_count": null,
   "metadata": {},
   "outputs": [],
   "source": [
    "ram = Sys.total_memory() *2.0^(-20);"
   ]
  },
  {
   "cell_type": "markdown",
   "metadata": {},
   "source": [
    "* Si $\\quad 2000 < \\text{ram} \\leq 4000, \\quad$  imprime mi RAM es de 4 GB; \n",
    "\n",
    "  en otro caso la muestra el valor de ram con `@sprintf` usando `%1.3e` y `println` \n",
    "  \n",
    "  Usa síntaxis de operador ternario"
   ]
  },
  {
   "cell_type": "code",
   "execution_count": null,
   "metadata": {},
   "outputs": [],
   "source": [
    "using Printf"
   ]
  },
  {
   "cell_type": "code",
   "execution_count": null,
   "metadata": {},
   "outputs": [],
   "source": [
    "if 2000 < ram ≤ 4000\n",
    "    s=@sprintf \"Mi RAM es de 4GB\"\n",
    "else\n",
    "    s=@sprintf \"Mi RAM es de %1.3e GB\" ram\n",
    "   end\n",
    "println(s)"
   ]
  },
  {
   "cell_type": "markdown",
   "metadata": {},
   "source": [
    "## <font color=blue> CICLOS </font>"
   ]
  },
  {
   "cell_type": "markdown",
   "metadata": {},
   "source": [
    "### <font color=blue>  while</font>\n",
    "\n",
    "La sintaxis es\n",
    "\n",
    "```julia\n",
    "while condición\n",
    "      instrucciones\n",
    "end\n",
    "```\n",
    "\n",
    "**Ejercicio**\n",
    "- inicializa variable y contador"
   ]
  },
  {
   "cell_type": "code",
   "execution_count": null,
   "metadata": {},
   "outputs": [],
   "source": [
    "x = 1.0; contador = 0; tmp = 0.0;"
   ]
  },
  {
   "cell_type": "markdown",
   "metadata": {},
   "source": [
    "* crea bucle para aumentar el valor de `x` por su doble\n",
    "\n",
    "    1. actualiza variable `tmp` para guardar el valor anterior de `x`\n",
    "\n",
    "    2. actualiza `x`\n",
    "    \n",
    "    3. aumenta `contador` en 1 por cada paso\n",
    "\n",
    "    4. en cada paso muestra el valor de `x` y de `contador`\n",
    "\n",
    "*  deten el bucle cuando ya NO se cumpla `x` > `tmp`"
   ]
  },
  {
   "cell_type": "code",
   "execution_count": null,
   "metadata": {},
   "outputs": [],
   "source": []
  },
  {
   "cell_type": "markdown",
   "metadata": {},
   "source": [
    "### <font color=blue>  for</font>"
   ]
  },
  {
   "cell_type": "markdown",
   "metadata": {},
   "source": [
    "La sintaxis es\n",
    "\n",
    "```julia\n",
    "for variable in iterable\n",
    "    instrucciones\n",
    "end\n",
    "```\n",
    "- puedes cambiar `in` por `∈`\n",
    "- el iterable puede ser un rango de números, un arreglo o tupla\n",
    "\n"
   ]
  },
  {
   "cell_type": "markdown",
   "metadata": {},
   "source": [
    "**Ejercicio** \n",
    "\n",
    "- El comando  `Pkg.installed()` regresa un diccionario con la lista de paquetes instalados y su correspondiente versión.\n",
    "\n",
    "- Use ciclo **for** para mostrar la lista completa de paquetes instalados sin las versiones"
   ]
  },
  {
   "cell_type": "code",
   "execution_count": null,
   "metadata": {},
   "outputs": [],
   "source": [
    "using Pkg\n",
    "Pkg.installed()"
   ]
  },
  {
   "cell_type": "code",
   "execution_count": null,
   "metadata": {},
   "outputs": [],
   "source": []
  },
  {
   "cell_type": "markdown",
   "metadata": {},
   "source": [
    "Podemos usar ciclo **for** para generar algunas matrices\n",
    "\n",
    "**Ejemplo:**\n",
    "\n",
    "Crea la matriz  $$t_{i,j} \\ = \\ j-i, \\quad i,j=1,\\dots,5$$\n",
    "\n",
    "Esta matriz mismas componentes en sus diagonales"
   ]
  },
  {
   "cell_type": "code",
   "execution_count": null,
   "metadata": {},
   "outputs": [],
   "source": [
    "T = [ i-j for j in 1:5, i in 1:5 ]"
   ]
  },
  {
   "cell_type": "markdown",
   "metadata": {},
   "source": [
    "¿qué pasa si cambia el orden de los índices?"
   ]
  },
  {
   "cell_type": "code",
   "execution_count": null,
   "metadata": {},
   "outputs": [],
   "source": []
  },
  {
   "cell_type": "markdown",
   "metadata": {},
   "source": [
    "* Usamos el macro `@elapsed` para mostrar el tiempo que tarda una instrucción\n",
    "\n",
    "**Ejemplo:**\n",
    "\n",
    "Llena una matriz de $10000 \\times 10000$ de modo que cada renglón o columna sea el mismo vector aleatorio **r**"
   ]
  },
  {
   "cell_type": "code",
   "execution_count": null,
   "metadata": {},
   "outputs": [],
   "source": [
    "n = 10000; r = rand(n);"
   ]
  },
  {
   "cell_type": "code",
   "execution_count": null,
   "metadata": {},
   "outputs": [],
   "source": [
    "A₁ = Array{Float64, 2}(undef, n, n);  #pre alocación de un arreglo sin inicialización\n",
    "@elapsed for i ∈ 1:n A₁[i,:] = r; end"
   ]
  },
  {
   "cell_type": "markdown",
   "metadata": {},
   "source": [
    "Ahora, llena una matriz de modo que cada columna sea **r**"
   ]
  },
  {
   "cell_type": "code",
   "execution_count": null,
   "metadata": {},
   "outputs": [],
   "source": [
    "A₂ = Array{Float64, 2}(undef, n, n);\n",
    "@elapsed for j ∈ 1:n A₂[:,j] = r; end"
   ]
  },
  {
   "cell_type": "markdown",
   "metadata": {},
   "source": [
    "Usa el comando `repeat` para llenar una matriz de modo que cada columna sea **r**"
   ]
  },
  {
   "cell_type": "code",
   "execution_count": null,
   "metadata": {},
   "outputs": [],
   "source": [
    "A₃ = Array{Float64, 2}(undef, n, n); \n",
    "@elapsed A₃ = repeat(r,1,n)"
   ]
  },
  {
   "cell_type": "markdown",
   "metadata": {},
   "source": [
    "> En julia, es más rápido acceder al segundo índice de un arreglo 2D\n"
   ]
  },
  {
   "cell_type": "code",
   "execution_count": null,
   "metadata": {},
   "outputs": [],
   "source": []
  }
 ],
 "metadata": {
  "hide_input": false,
  "kernelspec": {
   "display_name": "Julia 1.6.1",
   "language": "julia",
   "name": "julia-1.6"
  },
  "language_info": {
   "file_extension": ".jl",
   "mimetype": "application/julia",
   "name": "julia",
   "version": "1.6.1"
  },
  "latex_envs": {
   "LaTeX_envs_menu_present": true,
   "autoclose": false,
   "autocomplete": true,
   "bibliofile": "biblio.bib",
   "cite_by": "apalike",
   "current_citInitial": 1,
   "eqLabelWithNumbers": true,
   "eqNumInitial": 1,
   "hotkeys": {
    "equation": "Ctrl-E",
    "itemize": "Ctrl-I"
   },
   "labels_anchors": false,
   "latex_user_defs": false,
   "report_style_numbering": false,
   "user_envs_cfg": false
  },
  "nbTranslate": {
   "displayLangs": [
    "*"
   ],
   "hotkey": "alt-t",
   "langInMainMenu": true,
   "sourceLang": "en",
   "targetLang": "fr",
   "useGoogleTranslate": true
  },
  "toc": {
   "base_numbering": 1,
   "nav_menu": {},
   "number_sections": true,
   "sideBar": true,
   "skip_h1_title": false,
   "title_cell": "Tabla de contenido",
   "title_sidebar": "Contenido",
   "toc_cell": false,
   "toc_position": {},
   "toc_section_display": true,
   "toc_window_display": false
  },
  "varInspector": {
   "cols": {
    "lenName": 16,
    "lenType": 16,
    "lenVar": 40
   },
   "kernels_config": {
    "python": {
     "delete_cmd_postfix": "",
     "delete_cmd_prefix": "del ",
     "library": "var_list.py",
     "varRefreshCmd": "print(var_dic_list())"
    },
    "r": {
     "delete_cmd_postfix": ") ",
     "delete_cmd_prefix": "rm(",
     "library": "var_list.r",
     "varRefreshCmd": "cat(var_dic_list()) "
    }
   },
   "types_to_exclude": [
    "module",
    "function",
    "builtin_function_or_method",
    "instance",
    "_Feature"
   ],
   "window_display": false
  }
 },
 "nbformat": 4,
 "nbformat_minor": 2
}
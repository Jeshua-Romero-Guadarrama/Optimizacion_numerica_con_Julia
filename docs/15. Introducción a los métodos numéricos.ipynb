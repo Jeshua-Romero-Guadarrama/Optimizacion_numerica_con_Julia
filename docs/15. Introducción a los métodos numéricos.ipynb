{
 "cells": [
  {
   "cell_type": "markdown",
   "metadata": {},
   "source": [
    "```{contents}\n",
    ":depth: 4\n",
    "```"
   ]
  },
  {
   "cell_type": "markdown",
   "metadata": {},
   "source": [
    "# Introducción a los métodos numéricos"
   ]
  },
  {
   "cell_type": "markdown",
   "metadata": {},
   "source": [
    "Un método numérico es un procedimiento mediante el cual se obtiene de manera aproximada, la solución de ciertos problemas realizando cálculos aritméticos y lógicos. \n",
    "\n",
    "Se puede utilizar para:\n",
    "\n",
    "* explorar la depencias de modelos a ciertos parámetros\n",
    "* sugerir simetrías e hipótesis simplificadas para obtener modelos semi-analíticos\n",
    "* hacer predicciones\n",
    "* optimizar diseños"
   ]
  },
  {
   "cell_type": "markdown",
   "metadata": {},
   "source": [
    "## Método de Euler\n",
    "\n",
    "Queremos aproximar la solución de: $$y'=f(y,t), \\ \\ t\\geq 0$$ donde $y(t_0)=y_0$ es conocida.\n",
    "\n",
    "Se pide que $f$ sea bien comportada, es decir que sea analítica o Lipschitz continua, es decir\n",
    "\n",
    "* dada una norma $\\| \\cdot \\| $ $$ \\|f(x,t)-f(y,t)\\|\\leq \\lambda\\|x-y\\|,\\ \\ t\\geq0, \\forall x,y\\qquad  \\lambda >0$$\n",
    "\n",
    "Esto garantiza la unicidad de la solución."
   ]
  },
  {
   "cell_type": "markdown",
   "metadata": {},
   "source": [
    "Integrando de $t_0$ a $t_0+h$:\n",
    "\\begin{align*}\n",
    "y'=f(y,t) \\Rightarrow& \\ \\\\\n",
    "&\\int_{t_0}^{t_0+h}y' \\  dt =\\int_{t_0}^{t_0+h} f(y,t) \\  dt\\\\\n",
    "&\\Rightarrow y(t_0+h)=y(t_0)+\\int_{t_0}^{t_0+h} f(y,t) \\  dt\\\\\n",
    "\\end{align*}"
   ]
  },
  {
   "cell_type": "markdown",
   "metadata": {},
   "source": [
    "Sólo conocemos $y(t_0)$ y $f(y_0,t_0)$, entonces aproximar $y(t_0+h)$ equivale a hacer una aproximación de $$\\int_{t_0}^{t_0+h} f(y,t) \\  dt$$\n",
    "<img src=\"e15.svg\" width=\"600\">"
   ]
  },
  {
   "cell_type": "markdown",
   "metadata": {},
   "source": [
    "El método de Euler consiste en aproximar esta integral por la suma por abajo: $$ \\int_{t_0}^{t_0+h} f(y,t) \\  dt \\approx h f(y_0,t_0)$$"
   ]
  },
  {
   "cell_type": "markdown",
   "metadata": {},
   "source": [
    "Entonces $$y(t_0+h)=y(t_0)+hf(y_0,t_0)$$\n",
    "\n",
    "Si $y_n$ denota la aproximación de $y(t_n)$,\n",
    "\n",
    "y si tomamos una secuencia de tiempo $\\lbrace t_0, t_0+h, t_0+2h, t_0+3h, \\ldots \\rbrace=\\lbrace t_0, t_1, t_2, t_3, \\ldots \\rbrace$, \n",
    "\n",
    "entonces según el esquema anterior:\n",
    "\n",
    "\\begin{align*}\n",
    "y_1&=y_0+h f(y_0,t_0),\\qquad  t_1=t_0+h\\\\\n",
    "y_2&=y_1+h f(y_1,t_1),\\qquad  t_2=t_1+h\\\\\n",
    "y_3&=y_2+h f(y_2,t_2),\\qquad  t_3=t_2+h\\\\\n",
    "&\\vdots \\\\\n",
    "y_{n+1}&=y_n+h f(y_n,t_n),\\qquad  t_{n+1}=t_n+h\\\\\n",
    "\\end{align*}\n",
    "\n",
    "Cada paso de tiempo genera un nuevo error común a todo método numérico.\n",
    "\n",
    "¿Qué tan bueno es el método de Euler?\n",
    "\n",
    "¿El método converge?\n"
   ]
  },
  {
   "cell_type": "markdown",
   "metadata": {},
   "source": [
    "**Definición:** Un método para resolver la ecuación diferencial $y'=f(y,t)$ es convergente si $\\forall f$ Lipschitz se cumple $$\\lim_{h\\rightarrow 0} \\ \\max_{0\\leq n\\leq N} \\| y_n-y(t_n) \\|=0$$ tomando en cuenta que $N\\rightarrow \\infty$ cuando $h\\rightarrow 0$"
   ]
  },
  {
   "cell_type": "markdown",
   "metadata": {},
   "source": [
    "El método de Euler es convergente, la idea de la demostración es acotar el error.\n",
    "\n",
    "Por Taylor:\n",
    "\n",
    "\\begin{align*}\n",
    "y(t_{n+1})&= y(t_n+h)\\\\\n",
    "&=y(t_n) +hy'(t_n)+\\mathcal{O}(h^2)\n",
    "&=y(t_n) +hf(y,t_n)+\\mathcal{O}(h^2)\n",
    "\\end{align*}\n",
    "\n",
    "Si $e_n=y_n-y(t_n)$, entonces \n",
    "\n",
    "\n",
    "\\begin{align*}\n",
    "e_{n+1}&=y_{n+1}-y(t_n+h)\\\\\n",
    "&=y_{n+1}-\\left(y(t_n) +hf(y,t_n)+\\mathcal{O}(h^2)\\right)\\\\\n",
    "&=\\left(y_n+h f(y_n,t_n)\\right)-\\left(y(t_n) +hf(y,t_n)+\\mathcal{O}(h^2)\\right)\\\\\n",
    "&=e_n+h \\left(f(y_n,t_n)- f(y,t_n) \\right)+\\mathcal{O}(h^2)\\\\\n",
    "\\end{align*}\n",
    "\n",
    "usando la desigualdad del triángulo y el hecho que $f$ es Lipschitz:\n",
    "\n",
    "\n",
    "\\begin{align*}\n",
    "\\| e_{n+1} \\| & \\leq \\| e_n\\|+h \\|f(y_n,t_n)- f(y,t_n) \\|+\\mathcal{O}(h^2)\\\\\n",
    "& \\leq \\| e_n\\|+h \\lambda \\|y_n- y(t_n) \\|+\\mathcal{O}(h^2)\\\\\n",
    "& \\leq \\| e_n\\|+h \\lambda \\|e_n \\|+\\mathcal{O}(h^2)\\\\\n",
    "& \\leq \\left(1+\\lambda\\right) \\| e_n\\|+\\mathcal{O}(h^2)\\\\\n",
    "& \\leq \\left(1+\\lambda\\right) \\| e_n\\|+ch^2\\\\\n",
    "\\end{align*}\n",
    "\n",
    "\n",
    "Usando que $\\| e_{n} \\|  \\leq \\frac{c}{\\lambda}h\\left[ \\left(1+h\\lambda\\right)^n-1\\right], \\forall n$\n",
    "\n",
    "y que $1+h\\lambda\\leq e^{h\\lambda}$\n",
    "\n",
    "llegamos a $$\\| e_{n} \\|  \\leq  \\frac{ch}{\\lambda}\\left(e^{nh\\lambda}-1\\right) $$ que se anula a medida que $h\\rightarrow 0$, pues $hN\\rightarrow t_{max}$ cuando $N\\rightarrow \\infty.$"
   ]
  },
  {
   "cell_type": "markdown",
   "metadata": {},
   "source": [
    "Euler se puede escribir de la forma: $$y_{n+1}-\\left(y_n+h f(y_n,t_n)\\right) =0$$\n",
    "\n",
    "que resulta ser una aproximación de la solución real:\n",
    "\n",
    "\\begin{align*}\n",
    "y(t_n+h)-\\left(y(t_n)+h f(y,t_n)\\right) &=\\\\\n",
    "&=y(t_n)+hy'(t_n)+\\mathcal{O}(h^2)-\\left(y(t_n)+h f(y,t_n)\\right) \\\\\n",
    "&=\\mathcal{O}(h^{2})\n",
    "\\end{align*}\n",
    "\n",
    "Se dice que Euler es de orden 1.\n",
    "\n",
    "En general si se tiene un método de evolución temporal dado por:\n",
    "\n",
    "$$y_{n+1}=\\mathcal{F}\\left(f,h,y_0,y_1,\\ldots,y_n,y_{n+1}\\right)$$ es de orden $p$ si $$y(t_{n+1})-\\mathcal{F}\\left(f,h,y_0,y_1,\\ldots,y_n,y_{n+1}\\right)= \\mathcal{O}(h^{p+1})$$ cuando $N$ crece como $\\frac{1}{h}$.\n",
    "\n"
   ]
  },
  {
   "cell_type": "markdown",
   "metadata": {},
   "source": [
    "### Ejemplo:\n",
    "\n",
    "Hacer un código que resuelva $$y'=y; \\ \\ y(0)=1; \\ \\ t \\in [0,1] $$ \n",
    "\n",
    "y mostrar graficamente que cuando $h\\rightarrow 0$ la solución aproximada se acerca a la solución."
   ]
  },
  {
   "cell_type": "code",
   "execution_count": null,
   "metadata": {},
   "outputs": [],
   "source": [
    "x_0=0;\n",
    "x_inf=1;\n",
    "N=100;\n",
    "\n",
    "h=(x_inf-x_0)/N;\n",
    "y=zeros(N+1,1);\n",
    "y[1]=1.0;\n",
    "λ=1.0;\n",
    "x=LinRange(x_0,x_inf,N+1);\n",
    "\n",
    "for n=2:N+1\n",
    "  y[n]=y[n-1]+y[n-1]*h*λ;\n",
    "  end"
   ]
  },
  {
   "cell_type": "code",
   "execution_count": null,
   "metadata": {},
   "outputs": [],
   "source": [
    "using PyPlot\n",
    "\n",
    "plot(x,y);"
   ]
  },
  {
   "cell_type": "code",
   "execution_count": null,
   "metadata": {},
   "outputs": [],
   "source": [
    "function Eul(h)\n",
    "\n",
    "    N=floor(Int, 1/h);\n",
    "    y=zeros(N+1,1);\n",
    "    y[1]=1.0;\n",
    "    λ=1.0;\n",
    "\n",
    "    x_0=0;\n",
    "    x_inf=h*N+x_0;\n",
    "    \n",
    "    x=LinRange(x_0,x_inf,N+1);\n",
    "\n",
    "    for n=2:N+1\n",
    "        y[n]=y[n-1]+y[n-1]*h*λ;\n",
    "      end\n",
    "    \n",
    "    return x, y\n",
    "end\n"
   ]
  },
  {
   "cell_type": "code",
   "execution_count": null,
   "metadata": {},
   "outputs": [],
   "source": [
    "plot([0,1],[exp(1),exp(1)])\n",
    "    xlabel(\"t\")\n",
    "    ylabel(\"y\")\n",
    "    title(L\"Soluciones de $y'=y; \\ \\ y(0)=1; \\ \\ t \\in [0,1]$ para diferentes valores de $h$ \")\n",
    "\n",
    "for i in 2:5:1000\n",
    "    x,y=Eul(1/i);\n",
    "   \n",
    "    if i in [2 12 22 992]\n",
    "    plot(x,y,label=\"h = $(round(1/i; digits=3))\")\n",
    "        legend()\n",
    "        else plot(x,y)\n",
    "    end\n",
    "  \n",
    "end  "
   ]
  },
  {
   "cell_type": "markdown",
   "metadata": {
    "collapsed": true
   },
   "source": [
    "## Método del trapezoide\n",
    "\n",
    "> Buscamos una solución numérica al problema: $$y'=f(y,t), \\ \\ t\\in [t_0,T]$$ con $y(t_0)=y_0$.\n",
    "\n",
    "La solución es:  $$y(t)=y(t_0)+\\int_{t_0}^{t} f(y,\\tau) \\  d\\tau$$\n",
    "\n",
    "La idea del método es aproximar la integral por el área del trapezoide que se forma debajo de la curva: $$\\frac{t-t_0}{2}\\left(f(y_0,t_0)+f(y,t)\\right)$$\n",
    "\n",
    "<img src=\"t15.svg\" width=\"600\">\n"
   ]
  },
  {
   "cell_type": "markdown",
   "metadata": {
    "collapsed": true
   },
   "source": [
    "Extendiendo esta idea:\n",
    "\n",
    "$$y_{n+1}=y_n+\\frac{h}{2}\\left[f(y_n,t_n)+f(y_{n+1},t_{n+1})\\right], \\ \\ \\text{ para } t_{n+1}=t_n+h \\qquad \\forall  n $$\n",
    "\n",
    "$$y_n\\rightarrow y(t_n) , \\qquad\\text{ si } h \\rightarrow 0$$"
   ]
  },
  {
   "cell_type": "markdown",
   "metadata": {},
   "source": [
    "Para encontrar el orden sustituimos en la solución exacta:\n",
    "\n",
    "\\begin{align*}\n",
    "y(t_{n+1})&-y(t_n)-\\frac{h}{2}\\left(f(y,t_n)+f(y,t_{n+1})\\right)=\\\\\n",
    "&= y(t_{n+1})-\\left(y(t_n) +\\frac{h}{2}f(y,t_n)+\\frac{h}{2}f(y,t_{n+1})\\right)\\\\\n",
    "&= y(t_{n+1})-\\left(y(t_n) +\\frac{h}{2}y'(t_n)+\\frac{h}{2}y'(t_{n+1})\\right)\\\\\n",
    "&= \\left(y(t_n) +h y'(t_n)+\\frac{1}{2}h^2y''(t_n) + \\mathcal{O}(h^{3}) \\right)-\\left(y(t_n) +\\frac{h}{2}y'(t_n)+\\frac{h}{2} \\left( y'(t_n)+hy''(t_n) +  \\mathcal{O}(h^{2}) \\right) \\right)\\\\\n",
    "&= \\left(y(t_n) +h y'(t_n)+\\frac{1}{2}h^2y''(t_n) + \\mathcal{O}(h^{3}) \\right)-\\left(y(t_n) +\\frac{h}{2}y'(t_n)+\\frac{h}{2} \\left( y'(t_n)+hy''(t_n) +  \\mathcal{O}(h^{2}) \\right) \\right)\\\\\n",
    "&=\\mathcal{O}(h^{3}) \n",
    "\\end{align*}\n",
    "\n",
    "Entonces la regla del trapezoide es de segundo orden.\n",
    "\n",
    "* En la regla del trapezoide $y_{n+1}$ no está despejada, esto lo hace un *método implícito*\n",
    "* El método de Euler es un método explícito."
   ]
  },
  {
   "cell_type": "markdown",
   "metadata": {},
   "source": [
    "### Ejemplo:\n",
    "\n",
    "Hacer un código que resuelva $$y'=y; \\ \\ y(0)=1; \\ \\ t \\in [0,1] $$ con el método del Trapezoide:\n",
    "\n",
    "$$y_{n+1}=y_n+\\frac{h}{2}\\left[ f\\left( y_n,t_n \\right) +f\\left( y_{n+1},t_{n+1} \\right)  \\right] $$\n",
    "\n",
    " \\begin{align*}\n",
    "\\Rightarrow y_{n+1}&=y_n+\\frac{h}{2}\\left[ y_n +y_{n+1}  \\right]\\\\\n",
    "y_{n+1}&=y_n+\\frac{h}{2} y_n +\\frac{h}{2}y_{n+1} \\\\\n",
    "y_{n+1}-\\frac{h}{2}y_{n+1}&=y_n+\\frac{h}{2} y_n  \\\\\n",
    "\\end{align*}\n",
    "\n",
    "$$y_{n+1}=\\frac{2+h}{2-h}y_n$$"
   ]
  },
  {
   "cell_type": "code",
   "execution_count": null,
   "metadata": {},
   "outputs": [],
   "source": [
    "x_0=0;\n",
    "x_inf=1;\n",
    "N=100;\n",
    "\n",
    "h=(x_inf-x_0)/N;\n",
    "y=zeros(N+1,1);\n",
    "y[1]=1.0;\n",
    "λ=1.0;\n",
    "x=LinRange(x_0,x_inf,N+1);\n",
    "\n",
    "for n=2:N+1\n",
    "    y[n]=((2+h*λ)/(2-h*λ))*y[n-1];\n",
    "  end"
   ]
  },
  {
   "cell_type": "code",
   "execution_count": null,
   "metadata": {},
   "outputs": [],
   "source": [
    "plot(x,y);"
   ]
  },
  {
   "cell_type": "code",
   "execution_count": null,
   "metadata": {},
   "outputs": [],
   "source": [
    "function Trap(h)\n",
    "\n",
    "    N=floor(Int, 1/h);\n",
    "    y=zeros(N+1,1);\n",
    "    y[1]=1.0;\n",
    "    λ=1.0;\n",
    "\n",
    "    x_0=0;\n",
    "    x_inf=h*N+x_0;\n",
    "    \n",
    "    x=LinRange(x_0,x_inf,N+1);\n",
    "\n",
    "    for n=2:N+1\n",
    "        y[n]=((2+h*λ)/(2-h*λ))*y[n-1];\n",
    "      end\n",
    "    \n",
    "    return x, y\n",
    "end\n"
   ]
  },
  {
   "cell_type": "code",
   "execution_count": null,
   "metadata": {},
   "outputs": [],
   "source": [
    "plot([0,1],[exp(1),exp(1)])\n",
    "    xlabel(\"t\")\n",
    "    ylabel(\"y\")\n",
    "    title(L\"Soluciones de $y'=y; \\ \\ y(0)=1; \\ \\ t \\in [0,1]$ para diferentes valores de $h$ \")\n",
    "\n",
    "for i in 2:5:1000\n",
    "    x,y=Trap(1/i);\n",
    "   \n",
    "    if i in [2 12 22 992]\n",
    "    plot(x,y,label=\"h = $(round(1/i; digits=3))\")\n",
    "        legend()\n",
    "        else plot(x,y)\n",
    "    end\n",
    "  \n",
    "end  "
   ]
  },
  {
   "cell_type": "markdown",
   "metadata": {},
   "source": [
    "### Visualizando el orden de los métodos"
   ]
  },
  {
   "cell_type": "code",
   "execution_count": null,
   "metadata": {},
   "outputs": [],
   "source": [
    "function Eulf(N)\n",
    "    h=1/N;\n",
    "    y=1.0;\n",
    "    λ=1.0;\n",
    "    for n=1:N\n",
    "        y=(1.0+h*λ)*y;\n",
    "    end\n",
    "  return y\n",
    "end"
   ]
  },
  {
   "cell_type": "code",
   "execution_count": null,
   "metadata": {},
   "outputs": [],
   "source": [
    "function Trapf(N)\n",
    "    h=1/N;\n",
    "    y=1.0;\n",
    "    λ=1.0;\n",
    "        for n=1:N\n",
    "            y=((2.0+h*λ)/(2.0-h*λ))*y;\n",
    "          end\n",
    "    return y\n",
    "end"
   ]
  },
  {
   "cell_type": "code",
   "execution_count": null,
   "metadata": {},
   "outputs": [],
   "source": [
    "errT=[];\n",
    "errE=[];\n",
    "h=[];\n",
    "for i in floor.(Int, exp10.(range(1, 10, length=19)) )\n",
    "y1=Trapf(i);\n",
    "y2=Eulf(i);\n",
    "    h=append!(h,1/i);\n",
    "    errT=append!(errT, abs(exp(1)-y1));\n",
    "    errE=append!(errE, abs(exp(1)-y2));\n",
    "    end    \n",
    "  using PyPlot\n",
    "loglog(h,errT, basex=10,label=\"Trapezoide\",\":s\" );\n",
    "loglog(h,errE, basex=10,label=\"Euler\",\":s\");\n",
    "legend()   ;\n",
    "grid(1);\n",
    "    xlabel(\"h\");\n",
    "    ylabel(\"Eror Relativo\");\n",
    "title(L\"Comparación de soluciones en $x=1$\");"
   ]
  },
  {
   "cell_type": "code",
   "execution_count": null,
   "metadata": {},
   "outputs": [],
   "source": [
    "errT=[];\n",
    "errE=[];\n",
    "h=[];\n",
    "for i in floor.(Int, exp10.(range(1, 11, length=100)))\n",
    "y1=Trapf(i);\n",
    "y2=Eulf(i);\n",
    "    h=append!(h,1/i);\n",
    "    errT=append!(errT, abs(exp(1)-y1));\n",
    "    errE=append!(errE, abs(exp(1)-y2));\n",
    "    end    \n",
    "  using PyPlot\n",
    "loglog(h,errT, basex=10,label=\"Trapezoide\",\"\" );\n",
    "loglog(h,errE, basex=10,label=\"Euler\",\"\");\n",
    "legend()   ;\n",
    "grid(1)\n",
    "    xlabel(\"h\");\n",
    "    ylabel(\"Eror Relativo\");\n",
    "title(L\"Comparación de soluciones en $x=1$\");\n",
    "loglog(h,errT, basex=10,\"k.\" );\n",
    "loglog(h,errT, basex=10,label=\"Trapezoide\",\"\" );\n",
    "\n",
    "loglog(h,errE, basex=10,\"k.\" );\n",
    "loglog(h,errE, basex=10,label=\"Euler\");\n",
    "\n",
    "xlabel(\"h\");\n",
    "ylabel(\"Eror Relativo\");\n",
    "title(L\"Comparación de soluciones en $x=1$\");\n",
    "legend()   \n",
    "grid(1)"
   ]
  },
  {
   "cell_type": "markdown",
   "metadata": {},
   "source": [
    "## Método de Adams-Bashforth\n",
    "$$y'=f(y,t), \\ \\ t\\in [t_0,T]\\ \\ \\text{ con } y(t_0)=y_0$$\n",
    "$$y_{n+2}=y_{n+1}+h\\left[-\\frac{1}{2} f\\left( y_n,t_n \\right) +\\frac{3}{2} f\\left( y_{n+1},t_{n+1} \\right)  \\right] $$\n",
    "\n",
    "### Ejercicio 21:\n",
    "Hacer un código que resuelva $$y'=y; \\ \\ y(0)=1; \\ \\ t \\in [0,1] $$ \n",
    "        $$y_{n+2}=y_{n+1}\\left[1+\\frac{3}{2}h\\right]-\\frac{1}{2}hy_n $$\n",
    "        \n",
    "y realiza un gráfico para encontrar el orden del método.\n",
    "        "
   ]
  },
  {
   "cell_type": "code",
   "execution_count": null,
   "metadata": {},
   "outputs": [],
   "source": []
  },
  {
   "cell_type": "markdown",
   "metadata": {},
   "source": [
    "## Método RUNGE-KUTTA\n",
    "$$y'=f(y,t), \\ \\ t\\in [t_0,T]\\ \\ \\text{ con } y(t_0)=y_0$$\n",
    "$$y_{n+1}=y_n+\\frac{1}{6}\\left(k_1+2k_2+2k_3+k_4 \\right) $$\n",
    "con $$\\begin{cases}k_1= hf(y_n,t_n)\\\\ k_2= hf(y_n+\\frac{1}{2}k_1,t_n+\\frac{1}{2}h) \\\\ k_3= hf(y_n+\\frac{1}{2}k_2,t_n+\\frac{1}{2}h) \\\\ k_4= hf(y_n+k_3,t_n+h) \\end{cases}$$\n",
    "y realiza un gráfico para encontrar el orden del método.\n",
    "\n",
    "\n",
    "\n",
    "### Ejercicio 22:\n",
    "\n",
    "Hacer un código que resuelva $$y'=y; \\ \\ y(0)=1; \\ \\ t \\in [0,1] $$ \n",
    "\n",
    "\n",
    "Como $y'=y=f(y,t)$\n",
    "\n",
    "$$\\begin{cases}k_1=hy_n\\\\\n",
    "k_2=h\\left(y_n+\\frac{1}{2}k_1 \\right) =h\\left(y_n+\\frac{1}{2}hy_n \\right) =y_nh\\left(1+\\frac{1}{2}h \\right) \\\\ \n",
    "k_3=  h\\left(y_n+\\frac{1}{2}k_2\\right)= h\\left(y_n+\\frac{1}{2}y_n\\left(h+\\frac{1}{2}h^2 \\right)\\right)=y_nh\\left(1+\\frac{1}{2}h+\\frac{1}{4}h^2\\right) \\\\\n",
    "k_4= h\\left(y_n+y_nh\\left(1+\\frac{1}{2}h+\\frac{1}{4}h^2\\right)\\right) =y_nh\\left(1+h\\left(1+\\frac{1}{2}h+\\frac{1}{4}h^2\\right)\\right)=y_nh\\left(1+h+\\frac{1}{2}h^2+\\frac{1}{4}h^3\\right) \\end{cases}$$\n",
    "\n",
    "\n",
    "\\begin{align*}\n",
    "y_{n+1}&=y_n+\\frac{1}{6}\\left(k_1+2k_2+2k_3+k_4 \\right) \\\\\n",
    "&=y_n+\\frac{y_n}{6}\\left(h+2h\\left(1+\\frac{1}{2}h \\right)+2h\\left(1+\\frac{1}{2}h+\\frac{1}{4}h^2\\right)+h\\left(1+h+\\frac{1}{2}h^2+\\frac{1}{4}h^3\\right) \\right)\n",
    "\\end{align*}\n",
    "\n",
    "$$y_{n+1}=y_{n} \\left[  1+h+\\frac{h^2}{2}+\\frac{h^3}{6}+\\frac{h^4}{24}\\right] $$\n"
   ]
  },
  {
   "cell_type": "code",
   "execution_count": null,
   "metadata": {},
   "outputs": [],
   "source": []
  }
 ],
 "metadata": {
  "hide_input": false,
  "kernelspec": {
   "display_name": "Julia 1.6.1",
   "language": "julia",
   "name": "julia-1.6"
  },
  "language_info": {
   "file_extension": ".jl",
   "mimetype": "application/julia",
   "name": "julia",
   "version": "1.6.1"
  },
  "latex_envs": {
   "LaTeX_envs_menu_present": true,
   "autoclose": false,
   "autocomplete": true,
   "bibliofile": "biblio.bib",
   "cite_by": "apalike",
   "current_citInitial": 1,
   "eqLabelWithNumbers": true,
   "eqNumInitial": 1,
   "hotkeys": {
    "equation": "Ctrl-E",
    "itemize": "Ctrl-I"
   },
   "labels_anchors": false,
   "latex_user_defs": false,
   "report_style_numbering": false,
   "user_envs_cfg": false
  },
  "nbTranslate": {
   "displayLangs": [
    "*"
   ],
   "hotkey": "alt-t",
   "langInMainMenu": true,
   "sourceLang": "en",
   "targetLang": "fr",
   "useGoogleTranslate": true
  },
  "toc": {
   "base_numbering": 1,
   "nav_menu": {},
   "number_sections": true,
   "sideBar": true,
   "skip_h1_title": false,
   "title_cell": "Tabla de contenido",
   "title_sidebar": "Contenido",
   "toc_cell": false,
   "toc_position": {},
   "toc_section_display": true,
   "toc_window_display": false
  },
  "varInspector": {
   "cols": {
    "lenName": 16,
    "lenType": 16,
    "lenVar": 40
   },
   "kernels_config": {
    "python": {
     "delete_cmd_postfix": "",
     "delete_cmd_prefix": "del ",
     "library": "var_list.py",
     "varRefreshCmd": "print(var_dic_list())"
    },
    "r": {
     "delete_cmd_postfix": ") ",
     "delete_cmd_prefix": "rm(",
     "library": "var_list.r",
     "varRefreshCmd": "cat(var_dic_list()) "
    }
   },
   "types_to_exclude": [
    "module",
    "function",
    "builtin_function_or_method",
    "instance",
    "_Feature"
   ],
   "window_display": false
  }
 },
 "nbformat": 4,
 "nbformat_minor": 2
}

{
 "cells": [
  {
   "cell_type": "markdown",
   "metadata": {},
   "source": [
    "```{contents}\n",
    ":depth: 4\n",
    "```"
   ]
  },
  {
   "cell_type": "markdown",
   "metadata": {},
   "source": [
    "# Aproximación de operadores diferenciales"
   ]
  },
  {
   "cell_type": "markdown",
   "metadata": {},
   "source": [
    "## Aproximación de $f'$\n",
    "\n",
    "Podemos aproximar la derivada de una función\n",
    "$$f^{\\prime }(x)=\\lim _{h\\to 0}{f(x+h)-f(x) \\over h}$$\n",
    "por las expresiones: \n",
    "1. $f^{\\prime }(x)\\approx {f(x+h)-f(x) \\over h}$\n",
    "2. $f^{\\prime }(x)\\approx {f(x)-f(x-h) \\over h}$\n",
    "3. $f^{\\prime }(x)\\approx {f(x+h)-f(x-h) \\over 2h}$\n",
    "\n",
    "que son buenas aproximaciones para $h$ pequeño.\n"
   ]
  },
  {
   "cell_type": "markdown",
   "metadata": {},
   "source": [
    "En efecto, para $f^{\\prime }(x)\\approx {f(x+h)-f(x-h) \\over 2h}$ tenemos:\n",
    "\n",
    "Usamos la fórmula de Taylor de $f$ alrededor de $x$ para $f(x-h)$ y $f(x+h)$: \n",
    "\n",
    "$$f(x+h)=f(x)+f'(x)h+\\frac{f''(x)h^2}{2!}+\\frac{f'''(c_1)h^3}{3!}$$\n",
    "$$f(x-h)=f(x)-f'(x)h+\\frac{f''(x)h^2}{2!}-\\frac{f'''(c_2)h^3}{3!}$$\n",
    "\n",
    "Restando ambas expresiones:\n",
    "$$f(x+h)-f(x-h)=2f'(x)h+\\frac{f'''(c_1)h^3+f'''(c_2)h^3}{3!}$$\n",
    "\n",
    "Despejando $f'$\n",
    "$$f^{\\prime }(x)= {f(x+h)-f(x-h) \\over 2h}+\\mathcal{O}(h^2)$$\n",
    "\n",
    "\n",
    "$$\\therefore f^{\\prime }(x)\\approx {f(x+h)-f(x-h) \\over 2h} $$"
   ]
  },
  {
   "cell_type": "markdown",
   "metadata": {},
   "source": [
    "## Aproximación de $f''$\n",
    "\n",
    "Usamos la fórmula de Taylor de $f$ alrededor de $x$ para $f(x-h)$ y $f(x+h)$: \n",
    "\n",
    "$$f(x+h)=f(x)+f'(x)h+\\frac{f''(x)h^2}{2!}+\\frac{f^{(3)}(x)h^3}{3!}+\\frac{f^{(4)} (c_1)h^4}{4!}$$\n",
    "$$f(x-h)=f(x)-f'(x)h+\\frac{f''(x)h^2}{2!}-\\frac{f^{(3)}(x)h^3}{3!}+\\frac{f^{(4)} (c_2)h^4}{4!}$$\n",
    "\n",
    "Sumando ambas expresiones:\n",
    "$$f(x+h)+f(x-h)=2f(x)+2\\frac{f''(x)h^2}{2!}+\\frac{f^{(4)}(c_1)h^4+f^{(4)}(c_2)h^4}{4!}$$\n",
    "\n",
    "Despejando $f''$\n",
    "$$f^{''}(x)= {f(x+h)+2f(x)+f(x-h) \\over h^2}+\\mathcal{O}(h^2)$$\n",
    "\n",
    "\n",
    "$$\\therefore f^{''}(x)= {f(x+h)+2f(x)+f(x-h) \\over h^2} $$"
   ]
  },
  {
   "cell_type": "markdown",
   "metadata": {},
   "source": [
    "## Para una función $f=f(x,y)$"
   ]
  },
  {
   "cell_type": "markdown",
   "metadata": {},
   "source": [
    "\\begin{aligned}\n",
    "f_{x}(x,y)&\\approx {\\frac {f(x+h,y)-f(x-h,y)}{2h}}\\\\f_{y}(x,y)&\\approx {\\frac {f(x,y+k)-f(x,y-k)}{2k}}\\\\\n",
    "f_{xx}(x,y)&\\approx {\\frac {f(x+h,y)-2f(x,y)+f(x-h,y)}{h^{2}}}\\\\\n",
    "f_{yy}(x,y)&\\approx {\\frac {f(x,y+k)-2f(x,y)+f(x,y-k)}{k^{2}}}\\\\\n",
    "f_{xy}(x,y)&\\approx {\\frac {f(x+h,y+k)-f(x+h,y-k)-f(x-h,y+k)+f(x-h,y-k)}{4hk}}\\end{aligned}"
   ]
  },
  {
   "cell_type": "markdown",
   "metadata": {},
   "source": [
    "### Ecuación de diferencias para el Laplaciano\n"
   ]
  },
  {
   "cell_type": "markdown",
   "metadata": {},
   "source": [
    "En coordenadas cartesianas $$ \\Delta u={\\frac {\\partial ^{2}u}{\\partial x^{2}}}+{\\frac {\\partial ^{2}u}{\\partial y^{2}}}$$\n",
    "\n",
    "Si $${\\frac {\\partial ^{2}u}{\\partial x^{2}}} \\approx {\\frac {u(x+h,y)-2u(x,y)+u(x-h,y)}{h^{2}}}$$ $${\\frac {\\partial ^{2}u}{\\partial y^{2}}} \\approx {\\frac {u(x,y+k)-2u(x,y)+u(x,y-k)}{k^{2}}}$$\n",
    "\n",
    "Entonces: \n",
    "\n",
    "$$ \\Delta u={\\frac {\\partial ^{2}u}{\\partial x^{2}}}+{\\frac {\\partial ^{2}u}{\\partial y^{2}}}\\approx {\\frac {u(x-h,y)+u(x+h,y)-4u(x,y)+u(x,y-k)+u(x,y+k)}{h^{2}}}$$\n"
   ]
  },
  {
   "cell_type": "markdown",
   "metadata": {},
   "source": [
    "## <font color=blue>Método de Diferencias Finitas para la ecuación de Poisson.<font>\n",
    "\n",
    "\n",
    "### Problemas de Dirichlet."
   ]
  },
  {
   "cell_type": "markdown",
   "metadata": {},
   "source": [
    "El problema de DIRICHLET en el plano es\n",
    "\n",
    "Hallar la función $u(x,y)$ verifcando:\n",
    "\n",
    "* $\\Delta u={\\frac {\\partial ^{2}u}{\\partial x^{2}}}+{\\frac {\\partial ^{2}u}{\\partial y^{2}}}=f(x,y), \\ \\  (x,y)\\in R$\n",
    "* $u(x,y) =g(x,y)$,\n",
    "* si $(x,y)∈\\partial R$ entonces $u(x,y)$ es continua en $R$\n",
    "\n",
    "\n",
    "donde $R$ es un dominio abierto de $\\mathbb{R}^2$.\n",
    "\n",
    "En particular supongamos que $R=(0,1)\\times (0,1)$ \n",
    "y tomamos una red de $M\\times M$-nodos interiores uniformemente distribuidos; es decir, cada nodo es: $$(x_i,y_j):=(ih,jh)$$ con $h=\\frac{1}{M+1} , \\ \\ \\ i,j= 0,1,\\ldots,M+1$\n",
    "\n",
    "\n",
    "Las condiciones de frontera quedan en la forma siguiente:\n",
    "\n",
    "* $u(x,0) =f_0(x),\\ \\ \\ $ $u(x,1) =f_1(x), \\ \\ 0\\leq x \\leq 1 $ \n",
    "* $u(0,y) =g_0(y),\\ \\ \\ $  $u(1,y) =g_1(y), \\ \\ 0\\leq y \\leq 1 $ "
   ]
  },
  {
   "cell_type": "markdown",
   "metadata": {},
   "source": [
    "#### Método de diferencias finitas\n",
    "\n",
    "$$\\frac {\\partial ^{2}u}{\\partial x^{2}} \\approx \\frac{u_{i+1,j}−2u_{ij}+u_{i-1,j}}{h^2}$$\n",
    "$$\\frac {\\partial ^{2}u}{\\partial x^{2}} \\approx \\frac{u_{i,j+1}−2u_{ij}+u_{i,j-1}}{h^2}$$\n",
    "\n",
    "Desde aquí, la ecuación de Poisson tiene la discretización siguiente:\n",
    "\n",
    "$$v_{i−1,j}+v_{i+1,j}−4v_{ij}+v_{i,j−1}+v_{i,j+1}=h^2f(x_i,y_j)$$\n",
    "\n",
    "para $i,j= 1,\\ldots ,M$\n",
    "\n",
    "que junto a las condiciones de frontera\n",
    "\n",
    "$$v_{0j}=f_{0}(0,y_j), \\ \\ v_{M+1,j}=f_1(1,y_j)$$ $$v_{i0}=g_0(x_i,0),\\ \\ v_{i,M+1}=g_1(x_i,1)$$\n",
    "\n",
    "conduce a un sistema de $M^2$ ecuaciones, que en forma matricial se puede expresar como:\n",
    "\n",
    "$$\\textbf{Av}=-\\textbf{b}+h^2\\textbf{F}$$\n",
    "\n",
    "donde $$A=\\begin{pmatrix} B & I & 0 & 0 \\\\ I & B & \\ddots & 0\\\\ 0 & \\ddots& \\ddots& I \\\\ 0 & 0 & I & B\\end{pmatrix}$$ con $$B=\\begin{pmatrix} -4 & 1 & 0 & 0 \\\\ 1 & -4 & \\ddots & 0\\\\ 0 & \\ddots& \\ddots& 1 \\\\ 0 & 0 & 1 & -4\\end{pmatrix}_{M\\times M}\\ ;  \\ \\text{  } I=I_M$$\n",
    "\n",
    "$\\textbf{v}= (v_{11},\\ldots,v_{M1},v_{12},\\ldots,v_{M2},\\ldots,\\ldots,v_{1M},\\ldots,v_{MM})^t$\n",
    "\n",
    "$\\textbf{b}= (b_1,\\ldots,b_i,\\ldots,b_M)^t$\n",
    "\n",
    "$b_1= (v_{01}+v_{10},v_{20},\\ldots,v_{M−1,0},v_{M0}+v_{M+1,1})$\n",
    "\n",
    "$b_j= (v_{0j},0,\\ldots,0,v_{M+1,j})\\ $ si $\\ j= 2,\\ldots,M−1$\n",
    "\n",
    "$b_M= (v_{0M}+v_{1,M+1},v_{2,M+1},\\ldots,v_{M−1,M+1},v_{M,M+1}+v_{M+1,M})$\n",
    "\n",
    "$\\textbf{F}= (f_{11},\\ldots,f_{M1},f_{12},\\ldots,f_{M2},\\ldots,\\ldots,f_{1M},\\ldots,f_{MM})^t$"
   ]
  },
  {
   "cell_type": "code",
   "execution_count": null,
   "metadata": {},
   "outputs": [],
   "source": []
  }
 ],
 "metadata": {
  "hide_input": false,
  "kernelspec": {
   "display_name": "Julia 1.6.1",
   "language": "julia",
   "name": "julia-1.6"
  },
  "language_info": {
   "file_extension": ".jl",
   "mimetype": "application/julia",
   "name": "julia",
   "version": "1.6.1"
  },
  "latex_envs": {
   "LaTeX_envs_menu_present": true,
   "autoclose": false,
   "autocomplete": true,
   "bibliofile": "biblio.bib",
   "cite_by": "apalike",
   "current_citInitial": 1,
   "eqLabelWithNumbers": true,
   "eqNumInitial": 1,
   "hotkeys": {
    "equation": "Ctrl-E",
    "itemize": "Ctrl-I"
   },
   "labels_anchors": false,
   "latex_user_defs": false,
   "report_style_numbering": false,
   "user_envs_cfg": false
  },
  "nbTranslate": {
   "displayLangs": [
    "*"
   ],
   "hotkey": "alt-t",
   "langInMainMenu": true,
   "sourceLang": "en",
   "targetLang": "fr",
   "useGoogleTranslate": true
  },
  "toc": {
   "base_numbering": 1,
   "nav_menu": {},
   "number_sections": true,
   "sideBar": true,
   "skip_h1_title": false,
   "title_cell": "Tabla de contenido",
   "title_sidebar": "Contenido",
   "toc_cell": false,
   "toc_position": {},
   "toc_section_display": true,
   "toc_window_display": false
  },
  "varInspector": {
   "cols": {
    "lenName": 16,
    "lenType": 16,
    "lenVar": 40
   },
   "kernels_config": {
    "python": {
     "delete_cmd_postfix": "",
     "delete_cmd_prefix": "del ",
     "library": "var_list.py",
     "varRefreshCmd": "print(var_dic_list())"
    },
    "r": {
     "delete_cmd_postfix": ") ",
     "delete_cmd_prefix": "rm(",
     "library": "var_list.r",
     "varRefreshCmd": "cat(var_dic_list()) "
    }
   },
   "types_to_exclude": [
    "module",
    "function",
    "builtin_function_or_method",
    "instance",
    "_Feature"
   ],
   "window_display": false
  }
 },
 "nbformat": 4,
 "nbformat_minor": 2
}
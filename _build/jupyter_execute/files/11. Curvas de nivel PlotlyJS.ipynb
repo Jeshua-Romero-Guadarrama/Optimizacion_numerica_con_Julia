{
 "cells": [
  {
   "cell_type": "markdown",
   "metadata": {},
   "source": [
    "```{contents}\n",
    ":depth: 4\n",
    "```"
   ]
  },
  {
   "cell_type": "markdown",
   "metadata": {},
   "source": [
    "# Curvas de nivel PlotlyJS"
   ]
  },
  {
   "cell_type": "markdown",
   "metadata": {},
   "source": [
    "## <font color=blue>Curvas de nivel de $z=f(x,y)$<font> y gráficas con Paquete <font color=\"blue\">PlotlyJS</font>"
   ]
  },
  {
   "cell_type": "markdown",
   "metadata": {},
   "source": [
    "Cargamos paquete para graficar"
   ]
  },
  {
   "cell_type": "code",
   "execution_count": null,
   "metadata": {},
   "outputs": [],
   "source": [
    "using PlotlyJS"
   ]
  },
  {
   "cell_type": "markdown",
   "metadata": {},
   "source": [
    "Definimos opciones de estilo y trazado"
   ]
  },
  {
   "cell_type": "code",
   "execution_count": null,
   "metadata": {},
   "outputs": [],
   "source": [
    "layout = Layout(showlegend = false,\n",
    "                autosize   = false, \n",
    "\t            width  = 800, \n",
    "\t            height = 800,\n",
    "\t\t\t\txaxis_constrain   = \"range\", #restringe los ejes al dominio/(al rango)\n",
    "\t            yaxis_scaleanchor = \"x\") #Preservar la relación de aspecto"
   ]
  },
  {
   "cell_type": "markdown",
   "metadata": {},
   "source": [
    "Rutina para trazar curvas de nivel"
   ]
  },
  {
   "cell_type": "code",
   "execution_count": null,
   "metadata": {},
   "outputs": [],
   "source": [
    "\"\"\"\n",
    "Contornos(f,Ix,Iy)\n",
    "\n",
    "Rutina para trazar curvas de nivel de una función f: [a, b] × [c, d] → R\n",
    "\n",
    "ENTRADA\n",
    "\n",
    "    f   rutina para evaluar la función\n",
    "\n",
    "        entrada: x arreglo 1D de longitud 2\n",
    "\n",
    "        salida: evaluación de f en x\n",
    "\n",
    "    Ix  partición del intervalo [a, b], de tipo LinRange\n",
    "\n",
    "    Iy  partición del intervalo [c, d], de tipo es LinRange\n",
    "\n",
    "SALIDA\n",
    "\n",
    "    plt figura con la gráfica de las curvas de nivel\n",
    "\"\"\"\n",
    "function Contornos(f::Function, Ix::LinRange{Float64}, Iy::LinRange{Float64})\n",
    "\n",
    "\tn  = length(Iy)\n",
    "\tz  = [f([xᵢ;yⱼ]) for xᵢ ∈ Ix,  yⱼ ∈ Iy]\n",
    "\tz_ = [z[:,j] for j in 1:n]\n",
    "\tdata = contour(z=z_, x=Ix, y=Iy, showscale  = false)\n",
    "\tplt  = plot(data,layout)\n",
    "\n",
    "\tdisplay(plt)\n",
    "    \n",
    "    return plt\n",
    "\n",
    "end"
   ]
  },
  {
   "cell_type": "code",
   "execution_count": null,
   "metadata": {},
   "outputs": [],
   "source": [
    "?Contornos"
   ]
  },
  {
   "cell_type": "markdown",
   "metadata": {},
   "source": [
    "Definimos la función"
   ]
  },
  {
   "cell_type": "code",
   "execution_count": null,
   "metadata": {},
   "outputs": [],
   "source": [
    "f(x::Array{Float64}) =  (x[1]^2+x[2]^2-1).^2+(x[2]-x[1]^2).^2"
   ]
  },
  {
   "cell_type": "markdown",
   "metadata": {},
   "source": [
    "Definimos los intervalos con LinRange"
   ]
  },
  {
   "cell_type": "code",
   "execution_count": null,
   "metadata": {},
   "outputs": [],
   "source": [
    "Ix = LinRange(-1.,1.,501)\n",
    "Iy = LinRange(-.2,1.2,501)"
   ]
  },
  {
   "cell_type": "markdown",
   "metadata": {},
   "source": [
    "Plot contours"
   ]
  },
  {
   "cell_type": "code",
   "execution_count": null,
   "metadata": {},
   "outputs": [],
   "source": [
    "Contornos(f,Ix,Iy);"
   ]
  }
 ],
 "metadata": {
  "hide_input": false,
  "kernelspec": {
   "display_name": "Julia 1.6.1",
   "language": "julia",
   "name": "julia-1.6"
  },
  "language_info": {
   "file_extension": ".jl",
   "mimetype": "application/julia",
   "name": "julia",
   "version": "1.6.1"
  },
  "latex_envs": {
   "LaTeX_envs_menu_present": true,
   "autoclose": false,
   "autocomplete": true,
   "bibliofile": "biblio.bib",
   "cite_by": "apalike",
   "current_citInitial": 1,
   "eqLabelWithNumbers": true,
   "eqNumInitial": 1,
   "hotkeys": {
    "equation": "Ctrl-E",
    "itemize": "Ctrl-I"
   },
   "labels_anchors": false,
   "latex_user_defs": false,
   "report_style_numbering": false,
   "user_envs_cfg": false
  },
  "nbTranslate": {
   "displayLangs": [
    "*"
   ],
   "hotkey": "alt-t",
   "langInMainMenu": true,
   "sourceLang": "en",
   "targetLang": "fr",
   "useGoogleTranslate": true
  },
  "toc": {
   "base_numbering": 1,
   "nav_menu": {},
   "number_sections": true,
   "sideBar": true,
   "skip_h1_title": false,
   "title_cell": "Tabla de contenido",
   "title_sidebar": "Contenido",
   "toc_cell": false,
   "toc_position": {},
   "toc_section_display": true,
   "toc_window_display": false
  },
  "varInspector": {
   "cols": {
    "lenName": 16,
    "lenType": 16,
    "lenVar": 40
   },
   "kernels_config": {
    "python": {
     "delete_cmd_postfix": "",
     "delete_cmd_prefix": "del ",
     "library": "var_list.py",
     "varRefreshCmd": "print(var_dic_list())"
    },
    "r": {
     "delete_cmd_postfix": ") ",
     "delete_cmd_prefix": "rm(",
     "library": "var_list.r",
     "varRefreshCmd": "cat(var_dic_list()) "
    }
   },
   "types_to_exclude": [
    "module",
    "function",
    "builtin_function_or_method",
    "instance",
    "_Feature"
   ],
   "window_display": false
  }
 },
 "nbformat": 4,
 "nbformat_minor": 2
}
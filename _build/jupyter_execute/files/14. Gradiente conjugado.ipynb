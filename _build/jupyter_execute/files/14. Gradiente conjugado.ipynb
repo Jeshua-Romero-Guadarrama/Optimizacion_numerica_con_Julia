{
 "cells": [
  {
   "cell_type": "markdown",
   "metadata": {},
   "source": [
    "```{contents}\n",
    ":depth: 4\n",
    "```"
   ]
  },
  {
   "cell_type": "markdown",
   "metadata": {},
   "source": [
    "# Gradiente conjugado"
   ]
  },
  {
   "cell_type": "markdown",
   "metadata": {},
   "source": [
    "## Gradiente conjugado"
   ]
  },
  {
   "cell_type": "markdown",
   "metadata": {},
   "source": [
    "### Métodos de dirección de descenso"
   ]
  },
  {
   "cell_type": "markdown",
   "metadata": {},
   "source": [
    "Supongamos que queremos minimizar funciones cuadráticas convexas $f:\\mathbb{R}^n→\\mathbb{R}$ de la forma \n",
    "\n",
    "$$ f(x)=\\frac{1}{2}x^tAx−x^tb $$ \n",
    "\n",
    "\n",
    "donde $x,b\\in \\mathbb{R}^n$ y $A\\in \\mathbb{R}^{n\\times n} $ es una matriz simétrica positiva definida.\n"
   ]
  },
  {
   "cell_type": "markdown",
   "metadata": {},
   "source": [
    "Para minimizar $f (x)$ calculamos primero su gradiente \n",
    "\n",
    "$$\\nabla f(x)=\\nabla \\left(\\frac{1}{2}x^tAx−x^tb\\right)=Ax-b, $$\n",
    "\n",
    "igualando a cero:\n",
    "\n",
    "$$A x=b,$$\n",
    "\n",
    "es decir, para minimizar $f$ debemos resolver un sistema lineal de ecuaciones.\n"
   ]
  },
  {
   "cell_type": "markdown",
   "metadata": {},
   "source": [
    "Si $A$ es simétrica y positiva definida, entonces podemos definir un producto interior:\n",
    "\n",
    "$$\\langle u,v \\rangle_A:= u^t A v=\\langle A^t u,v \\rangle  = \\langle Au,v  \\rangle = \\langle u,A v \\rangle   $$"
   ]
  },
  {
   "cell_type": "markdown",
   "metadata": {},
   "source": [
    "### Método del  descenso del gradiente "
   ]
  },
  {
   "cell_type": "markdown",
   "metadata": {},
   "source": [
    "Una opción intuitiva para elegir la dirección de descenso $d$ es la dirección opuesta al gradiente $\\nabla f(x)$, de ahí el nombre del método. "
   ]
  },
  {
   "cell_type": "markdown",
   "metadata": {},
   "source": [
    "$d=-\\nabla f(x)=-(Ax-b)=b-Ax$"
   ]
  },
  {
   "cell_type": "markdown",
   "metadata": {},
   "source": [
    "de modo que buscamos el mínimo de $f$ sobre la recta: $x+\\alpha d$\n",
    "\n",
    "esto es, encontrar un $\\alpha$ que minimice $f$: \n",
    "\n",
    "$$\\min_{\\alpha}\\ f(x+\\alpha d)$$\n",
    "\n",
    "$$\\begin{align*}\n",
    "f\\left(x+\\alpha d\\right)&=\\frac{1}{2}\\left(x+\\alpha d\\right)^tA\\left(x+\\alpha d\\right)−\\left(x+\\alpha d\\right)^tb\\\\\n",
    "&= \\frac{1}{2}\\left(x^t+\\alpha d^t\\right)\\left(Ax+\\alpha Ad\\right)−\\left(x^tb+\\alpha d^tb\\right)\\\\\n",
    "&= \\frac{1}{2}\\left(x^t+\\alpha d^t\\right)Ax+\\frac{1}{2}\\alpha \\left(x^t+\\alpha d^t\\right)Ad−\\left(x^tb+\\alpha d^tb\\right)\\\\\n",
    "&= \\frac{1}{2}(x^tAx+\\alpha d^tAx)+\\frac{1}{2} \\left(\\alpha x^tAd+\\alpha^2 d^tAd \\right) −\\left(x^tb+\\alpha d^tb\\right)\\\\\n",
    "&= \\frac{1}{2}\\alpha^2 d^tAd+\\alpha \\left( \\frac{1}{2}d^tAx+ \\frac{1}{2}x^tAd-d^tb\\right)+\\left(\\frac{1}{2}x^tAx-x^tb\\right)\\\\\n",
    "&= \\frac{1}{2}\\alpha^2 d^tAd+\\alpha \\left( d^tAx-d^tb\\right)+\\left(\\frac{1}{2}x^tAx-x^tb\\right)\\\\\n",
    "&= \\frac{1}{2}\\alpha^2 d^tAd+\\alpha d^t\\left( Ax-b\\right)+\\left(\\frac{1}{2}x^tAx-x^tb\\right)\n",
    "\\end{align*}\n",
    "$$\n",
    "\n",
    "Derivando respecto de $\\alpha$ e igualando a cero obtenemos: \n",
    "\n",
    "$$\\alpha=-\\frac{d^t (Ax-b)}{d^tAd}$$\n"
   ]
  },
  {
   "cell_type": "markdown",
   "metadata": {},
   "source": [
    "El método de descenso de gradiente es:\n",
    "\n",
    "* Entrada: $A, x_0, b, \\varepsilon$\n",
    "\n",
    "    $i \\leftarrow 0$\n",
    "    \n",
    "* Repetir  \n",
    "    $d_i \\leftarrow b-Ax_{i}$\n",
    "\n",
    "    $\\alpha_i \\leftarrow \\frac{d_i^td_i}{d_i^t A d_i} $\n",
    "\n",
    "    $x_{i+1} \\leftarrow x_i+\\alpha_id_i$ \n",
    "\n",
    "    $i   \\leftarrow i+1 $\n",
    " \n",
    " Hasta que $\\lVert d_i \\rVert < \\varepsilon$ \n",
    "\n"
   ]
  },
  {
   "cell_type": "code",
   "execution_count": null,
   "metadata": {},
   "outputs": [],
   "source": [
    "using PGFPlotsX, Contour, LaTeXStrings, Latexify, Printf, LinearAlgebra"
   ]
  },
  {
   "cell_type": "code",
   "execution_count": null,
   "metadata": {},
   "outputs": [],
   "source": [
    "\"\"\"\n",
    "Rutina para resolver el sistema de ecuaciones lineales `Ax=b` por método de descenso del gradiente\n",
    "\n",
    "Entrada: \n",
    "\n",
    "* `A`  arreglo n×n \n",
    "* `b`  arreglo n×1 \n",
    "* `itmax`  número máximo de iteraciones\n",
    "* `tol`  tolerancia a la aproximación\n",
    "\n",
    "Salida:\n",
    "\n",
    "* `x` arreglo con la aproximación de la solución\n",
    "* `X` conjunto de aproximaciones de x\n",
    "\"\"\"\n",
    "function miG(A::Array{Float64},b::Array{Float64}, itmax::Int64, tol::Float64)\n",
    "        n = length(b)\n",
    "\n",
    "        x = zeros(n,1)    # aprox inicial en el origen\n",
    "        it = 0        # contador \n",
    "        nd = norm(b)        # tamaño del residual\n",
    "        XX=[]\n",
    "        # CICLO PRINCIPAL\n",
    "            while nd ≥ tol # criterio de paro por tamaño del residual\n",
    "                XX=push!(XX,x)\n",
    "        \n",
    "                # muestra tamaño del gradiente\n",
    "                cad = @sprintf \"%1.5e\" nd\n",
    "                display(latexstring(\"\\$\\\\|d_{$it}\\\\|\\$ = \"*cad))\n",
    "                d = b-A*x       # nuevo gradiente ortogonal al anterior\n",
    "                α  = d'*d / (d'*A*d)                # mínimo sobre la línea\n",
    "                x +=  α[1]*d               # actualiza la aproximación\n",
    "                it += 1                # actualiza contador\n",
    "                ( it ≥ itmax ) && break                # criterio de paro por iteraciones\n",
    "                nd=norm(d)\n",
    "            end\n",
    "    \n",
    "            if ( it < itmax ) \n",
    "               println(\"salí por tamaño de gradiente\")\n",
    "            else\n",
    "               println(\"salí por iteraciones\") \n",
    "            end\n",
    "\n",
    "            cad = @sprintf \"%1.5e\" nd            # muestra tamaño del último residual\n",
    "            display(latexstring(\"\\$\\\\|g_{$it}\\\\|\\$ = \"*cad))\n",
    "            XX=push!(XX,x)\n",
    "            XX=[( i[1],i[2] ) for i in XX]\n",
    "\n",
    "    return x,XX\n",
    "end"
   ]
  },
  {
   "cell_type": "code",
   "execution_count": null,
   "metadata": {},
   "outputs": [],
   "source": [
    "A=[6.0 -5.0; -5.0 5.0]\n",
    "b=[4.0;0.0]\n",
    "A\\b"
   ]
  },
  {
   "cell_type": "code",
   "execution_count": null,
   "metadata": {},
   "outputs": [],
   "source": [
    "latexify(A)"
   ]
  },
  {
   "cell_type": "code",
   "execution_count": null,
   "metadata": {},
   "outputs": [],
   "source": [
    "x,XX=miG(A,b, 1000,  1e-5);"
   ]
  },
  {
   "cell_type": "code",
   "execution_count": null,
   "metadata": {},
   "outputs": [],
   "source": [
    "X = LinRange((x[1]-5),(x[1]+5),50)\n",
    "Y = LinRange((x[2]-5),(x[2]+5),50)\n",
    "R=[ (i,j) for  i in X, j in Y];"
   ]
  },
  {
   "cell_type": "code",
   "execution_count": null,
   "metadata": {},
   "outputs": [],
   "source": [
    "f = (u) -> ((1/2)*[u[1] u[2]] *A*[u[1]; u[2]])[1]-b'*[u[1]; u[2]]\n",
    "c =  contours(X, Y, f.(R), 20)"
   ]
  },
  {
   "cell_type": "code",
   "execution_count": null,
   "metadata": {},
   "outputs": [],
   "source": [
    "    plt = @pgf Axis(\n",
    "    {\n",
    "        xlabel = \"x\",\n",
    "        ylabel = \"y\",\n",
    "    },\n",
    "     Plot({\n",
    "     color = \"red\",\n",
    "    },\n",
    "    Table(c)),\n",
    "    Plot(\n",
    "        {\n",
    "        },\n",
    "        Coordinates(XX)\n",
    "    )\n",
    ")"
   ]
  },
  {
   "cell_type": "code",
   "execution_count": null,
   "metadata": {},
   "outputs": [],
   "source": [
    "display(plt)"
   ]
  },
  {
   "cell_type": "markdown",
   "metadata": {},
   "source": [
    "### Método del  gradiente conjugado"
   ]
  },
  {
   "cell_type": "markdown",
   "metadata": {},
   "source": [
    "**Definición:** Decimos que dos vectores $u,v$ no nulos, son conjugados con respecto a $A$ si:\n",
    "\n",
    "$$\\langle u,v \\rangle_A=0, \\text{ con } u\\neq v$$"
   ]
  },
  {
   "cell_type": "markdown",
   "metadata": {},
   "source": [
    "es decir, dos vectores son conjugados si son ortogonales con respecto a este producto interior"
   ]
  },
  {
   "cell_type": "markdown",
   "metadata": {},
   "source": [
    "**Observación:** Supongamos que $\\lbrace p_1, p_2,\\ldots ,p_n\\rbrace$ es un conjunto de direcciones mutuamente conjugadas, es decir, que cumplen \n",
    "\n",
    "$$p_i^tAp_j=0 \\text{ para } i\\neq j$$\n",
    "\n",
    "El conjunto $\\lbrace p_1, p_2,\\ldots ,p_n\\rbrace$ es una base de $\\mathbb{R}^n$. \n",
    "\n",
    "Esto es, si $x^*$ es la solución de $Ax = b$ $$Ax^*=b$$ entonces: \n",
    "\n",
    "$$x^*=\\alpha_1 p_1+\\alpha_2 p_2+\\ldots+\\alpha_n p_n,$$\n",
    "\n",
    "los coeficientes están dados a partir de la combinación lineal\n",
    "\n",
    "$$A x^*=\\alpha_1 A p_1+\\alpha_2 A p_2+\\ldots+\\alpha_n A p_n=b$$\n",
    "\n",
    "multiplicando por $p_i^t$\n",
    "\n",
    "$$p_i^tA x^*=p_i^t(\\alpha_1 A p_1+\\alpha_2 A p_2+\\ldots+\\alpha_n A p_n)=p_i^tb$$\n",
    "\n",
    "$$\\alpha_ip_i^t A p_i =p_i^tb$$\n",
    "\n",
    "$$\\therefore \\alpha_i =\\frac{p_i^tb}{p_i^t A p_i}=\\frac{\\langle p_i,b  \\rangle}{\\langle p_i,p_i  \\rangle}_A=\\frac{\\langle p_i,b  \\rangle}{\\lVert p_i \\rVert^2_A }  $$"
   ]
  },
  {
   "cell_type": "markdown",
   "metadata": {},
   "source": [
    "### Idea del método"
   ]
  },
  {
   "cell_type": "markdown",
   "metadata": {},
   "source": [
    "* La idea del algoritmo es utilizar direcciones conjugadas para el descenso en la búsqueda del punto\n",
    "óptimo $x^*$, es decir:\n",
    "\n",
    "* Primero encontramos una secuencia de $n$ direcciones conjugadas y luego computamos los coeficientes $\\alpha_i$.\n",
    "\n",
    "* El algoritmo de gradiente conjugado garantiza la obtención de una solución en un máximo de $n$ iteraciones.\n"
   ]
  },
  {
   "cell_type": "markdown",
   "metadata": {},
   "source": [
    "El algoritmo es el siguiente:"
   ]
  },
  {
   "cell_type": "markdown",
   "metadata": {},
   "source": [
    "* Entrada: $A, x_0, b, \\varepsilon$\n",
    "\n",
    "    $r_0 \\leftarrow Ax_0-b$\n",
    "\n",
    "    $p_0 \\leftarrow -r_0$\n",
    "\n",
    "    $i \\leftarrow 0$\n",
    "    \n",
    "* Mientras mientras $\\lVert r_i \\rVert > \\varepsilon$  \n",
    "\n",
    "    $\\alpha_i \\leftarrow -\\frac{r_i^tp_i}{p_i^t A p_i} $\n",
    "\n",
    "    $x_{i+1} \\leftarrow x_i+\\alpha_ip_i$ \n",
    "\n",
    "    $r_{i+1} \\leftarrow Ax_{i+1}-b$\n",
    "\n",
    "    $\\beta_{i+1}   \\leftarrow \\frac{r_{i+1}^tr_{i+1}}{r_i^t r_i} $\n",
    "\n",
    "    $p_{i+1}   \\leftarrow -r_{i+1}+\\beta_{i+1}p_i$\n",
    "    \n",
    "    $i   \\leftarrow i+1 $"
   ]
  },
  {
   "cell_type": "markdown",
   "metadata": {},
   "source": [
    "Generalmente no es necesario realizar las $n$ iteraciones, se puede definir la precisión deseada limitando la convergencia con una tolerancia $\\varepsilon$."
   ]
  },
  {
   "cell_type": "markdown",
   "metadata": {},
   "source": [
    "El proceso más lento del algoritmo es la multiplicación matriz-vector"
   ]
  },
  {
   "cell_type": "code",
   "execution_count": null,
   "metadata": {},
   "outputs": [],
   "source": [
    "\"\"\"\n",
    "Rutina para resolver el sistema de ecuaciones lineales `Ax=b` por método del gradiente conjugado\n",
    "\n",
    "Entrada: \n",
    "\n",
    "* `A`  arreglo n×n \n",
    "* `b`  arreglo n×1 \n",
    "* `itmax`  número máximo de iteraciones\n",
    "* `tol`  tolerancia a la aproximación\n",
    "\n",
    "Salida:\n",
    "\n",
    "* `x` arreglo con la aproximación de la solución\n",
    "\"\"\"\n",
    "function miGC(A::Array{Float64},b::Array{Float64}, itmax::Int64, tol::Float64)\n",
    "        n = length(b)\n",
    "\n",
    "        x = vec(zeros(n))    # aprox inicial en el origen\n",
    "        r = -vec(b)        # gradiente inicial = residual inicial = - lado derecho \n",
    "        p = -r       # primera dirección contraria al gradiente inicial\n",
    "        it = 0        # contador \n",
    "        nr = norm(r)        # tamaño del residual\n",
    "        XX=[]\n",
    "\n",
    "        # CICLO PRINCIPAL\n",
    "            while nr ≥ tol # criterio de paro por tamaño del gradiente\n",
    "                XX=push!(XX,x)\n",
    "\n",
    "                # muestra tamaño del residual\n",
    "                cad = @sprintf \"%1.5e\" nr\n",
    "                display(latexstring(\"\\$\\\\|r_{$it}\\\\|\\$ = \"*cad))\n",
    "        \n",
    "                α  = -r'*p / (p'*A*p)                # mínimo sobre la línea\n",
    "                x +=  α[1]*p                # actualiza la aproximación\n",
    "                rnew = A*x-b        # nuevo residual ortogonal al anterior\n",
    "                β = ((rnew'*rnew) / (r'*r))[1]        # coeficientes para A-ortogonalidad de las direcciones\n",
    "                r = rnew                # actualiza gradiente\n",
    "                nr = norm(r)                # tamaño del residual\n",
    "                p = -r + β*p                # actualiza dirección\n",
    "                it += 1                # actualiza contador\n",
    "                ( it ≥ itmax ) && break                # criterio de paro por iteraciones\n",
    "            end\n",
    "    \n",
    "            if ( it < itmax ) \n",
    "               println(\"salí por tamaño de gradiente\")\n",
    "            else\n",
    "               println(\"salí por iteraciones\") \n",
    "            end\n",
    "\n",
    "            cad = @sprintf \"%1.5e\" nr            # muestra tamaño del último residual\n",
    "            display(latexstring(\"\\$\\\\|r_{$it}\\\\|\\$ = \"*cad))\n",
    "                XX=push!(XX,x)\n",
    "\n",
    "                XX=[( i[1],i[2] ) for i in XX]\n",
    "\n",
    "    return x,XX\n",
    "end"
   ]
  },
  {
   "cell_type": "markdown",
   "metadata": {},
   "source": [
    "x,XXc=miGC(A,b, 300,  1e-5);"
   ]
  },
  {
   "cell_type": "code",
   "execution_count": null,
   "metadata": {},
   "outputs": [],
   "source": [
    "X = LinRange((x[1]-5),(x[1]+5),50)\n",
    "Y = LinRange((x[2]-5),(x[2]+5),50)\n",
    "R=[ (i,j) for  i in X, j in Y];"
   ]
  },
  {
   "cell_type": "code",
   "execution_count": null,
   "metadata": {},
   "outputs": [],
   "source": [
    "f = (u) -> ((1/2)*[u[1] u[2]] *A*[u[1]; u[2]])[1]-b'*[u[1]; u[2]]\n",
    "c =  contours(X, Y, f.(R), 20)"
   ]
  },
  {
   "cell_type": "code",
   "execution_count": null,
   "metadata": {},
   "outputs": [],
   "source": [
    "    plt = @pgf Axis(\n",
    "    {\n",
    "        xlabel = \"x\",\n",
    "        ylabel = \"y\",\n",
    "    },\n",
    "     Plot({\n",
    "     color = \"red\",\n",
    "    },\n",
    "    Table(c)),\n",
    "    Plot(\n",
    "        {\n",
    "        },\n",
    "        Coordinates(XXc)\n",
    "    ),\n",
    "    \n",
    "    Plot(\n",
    "        {\n",
    "        },\n",
    "        Coordinates(XX)\n",
    "    )\n",
    "    \n",
    ")"
   ]
  },
  {
   "cell_type": "code",
   "execution_count": null,
   "metadata": {},
   "outputs": [],
   "source": [
    "display(plt)"
   ]
  },
  {
   "cell_type": "markdown",
   "metadata": {},
   "source": [
    "### Paquete IterativeSolvers"
   ]
  },
  {
   "cell_type": "code",
   "execution_count": null,
   "metadata": {},
   "outputs": [],
   "source": [
    "using IterativeSolvers"
   ]
  },
  {
   "cell_type": "code",
   "execution_count": null,
   "metadata": {},
   "outputs": [],
   "source": [
    "?cg!"
   ]
  },
  {
   "cell_type": "code",
   "execution_count": null,
   "metadata": {},
   "outputs": [],
   "source": [
    "n = length(b)\n",
    "x = vec(zeros(n)) "
   ]
  },
  {
   "cell_type": "code",
   "execution_count": null,
   "metadata": {},
   "outputs": [],
   "source": [
    "cg!(x,A,b)"
   ]
  },
  {
   "cell_type": "markdown",
   "metadata": {},
   "source": [
    "## Ecuación de Poisson \n",
    "$${\\displaystyle \\Delta \\varphi =f\\,}$$"
   ]
  },
  {
   "cell_type": "markdown",
   "metadata": {},
   "source": [
    "### Ecuación de Poisson 1D"
   ]
  },
  {
   "cell_type": "markdown",
   "metadata": {},
   "source": [
    "Dada la función $f:[0,1]\\to\\mathbb R$, \n",
    "\n",
    "dados $\\alpha,\\beta\\in\\mathbb R$,\n",
    "\n",
    "hallar función $u:[0,1]\\to \\mathbb R$ tal que\n",
    "\n",
    "> $$\\begin{array}{rlc}\n",
    "u''(x) & = -f(x), &  0 < x<1 \\\\ \n",
    "u(0) & =\\alpha & \\\\\n",
    "u(1) & =\\beta & \\\\\n",
    "\\end{array}$$"
   ]
  },
  {
   "cell_type": "markdown",
   "metadata": {},
   "source": [
    "Particionamos el dominio en $n$-subintervalos introduciendo los puntos $x_i = ih$ con $h=\\frac{1}{n}$. \n",
    "\n",
    "De esta manera, para cada uno de los puntos interiores reemplazamos las derivadas por su aproximación de segundo orden en diferencias finitas (a partir de Taylor alrededor de $x_i$):\n",
    "\n",
    "$$\\frac{\\partial^2}{\\partial x^2} u(x_i) = \\frac{u_{i-1} -2 u_i + u_{i+1}}{h^2} - \\frac{h^2}{12} \\frac{\\partial^4}{\\partial x^4}u(\\xi_i)$$\n",
    "\n",
    "con $\\xi_i \\in (x_{i-1}, x_{i+1})$ por lo que:\n",
    "\n",
    "$$\\frac{v_{i-1}-2v_i+v_{i+1}}{h^2} = -f_i$$\n",
    "\n",
    "con un error de truncamiento local del orden de $O(h^2)$ y donde utilizamos la $v$ para hablar de la aproximación a la $u$. Si lo escribimos de manera matricial, tenemos:\n",
    "\n",
    "$$\\frac{1}{h^2} \\begin{bmatrix} -2 & 1 & & & & & \\\\ 1 & -2 & 1 & & & & \\\\ & 1 & -2 & 1 & & & \\\\ & & \\cdot & \\cdot & \\cdot & & \\\\ & & & \\cdot & \\cdot & \\cdot & \\\\ & & & & 1 & -2 & 1 \\\\ & & & & & 1 & -2\\end{bmatrix} \\begin{bmatrix} v_1 \\\\ v_2 \\\\ v_3 \\\\ \\cdot \\\\ \\cdot \\\\ v_{n-2} \\\\ v_{n-1} \\end{bmatrix} = - \\begin{bmatrix} f_1 \\\\ f_2 \\\\ f_3 \\\\ \\cdot \\\\ \\cdot \\\\ f_{n-2} \\\\ f_{n-1} \\end{bmatrix}$$"
   ]
  },
  {
   "cell_type": "markdown",
   "metadata": {},
   "source": [
    "Existen otros esquemas de mayor orden para la aproximación, por ejemplo el esquema central de cuarto orden:\n",
    "\n",
    "$$\\frac{\\partial^2}{\\partial x^2} u(x_i) = \\frac{-u_{i-2}+16u_{i-1}-30u_{i}+16u_{i+1}-u_{i+2}}{12 h^2} + \\frac{h^4}{90} \\frac{\\partial^6}{\\partial x^6}u(\\xi_i)$$\n",
    "\n",
    "con $\\xi_i \\in (x_{i-2},x_{i+2})$."
   ]
  },
  {
   "cell_type": "markdown",
   "metadata": {},
   "source": [
    "### Aproximación numérica de la solución\n",
    "\n",
    "Dado $n\\in\\mathbb R$\n",
    "\n",
    "Crea partición uniforme de $n+2$ puntos del intervalo cerrado $[0,1]$\n",
    "\n",
    "quitale los extremos para obtener una partición $P: x_1,\\dots,x_n$ de $n$ puntos del intervalo abierto $(0,1)$ \n",
    "\n",
    "con incremento $h=\\frac{1}{n+1}$\n",
    "\n",
    "Usando diferencias finitas centradas \n",
    "\n",
    ">$$\\dfrac{-u(x_{i-1}) + 2u(x_{i}) -u(x_{i+1})  }{1/(n+1)^2} \\approx f(x_i)$$\n",
    "\n",
    "la ecuación de Poisson se puede escribir como el\n",
    "sistema de ecuaciones\n",
    "\n",
    ">$$Tu = b$$\n",
    "\n",
    "donde \n",
    "\n",
    ">$$T=\n",
    "\\left[\\begin{array}{rrrr}\n",
    " 2 & -1 & & \\\\\n",
    " -1 & 2 & -1 & \\\\\n",
    "  & \\ddots & \\ddots & \\ddots  \\\\\n",
    "  & & -1 & 2\n",
    "\\end{array}\\right]_{n\\times n}\n",
    "\\qquad\n",
    "b = -\\frac{1}{(n+1)^2}\n",
    "\\left[\\begin{array}{r}\n",
    "   f(x_1) \\\\  f(x_2)\\\\ \\vdots \\\\ f(x_{n-1}) \\\\ f(x_n)\n",
    "\\end{array}\\right]\n",
    "+ \n",
    "\\left[\\begin{array}{r}\n",
    "  \\alpha \\\\  0 \\\\ \\vdots \\\\ 0 \\\\ \\beta\n",
    "\\end{array}\\right]\n",
    "$$\n",
    "\n"
   ]
  },
  {
   "cell_type": "markdown",
   "metadata": {},
   "source": [
    "### Actividad\n",
    "\n",
    "Crear rutina `prodT` para el producto de matriz $T$  por vector $u$\n",
    "\n",
    "ENTRADA:\n",
    "- arreglo 1D $u$ de $n$ componentes\n",
    "SALIDA:\n",
    "- arreglo 1D $y$ de $n$ componentes\n",
    "\n",
    "realiza el producto $Tu$ sin formar la matriz $T$\n",
    "\n",
    "Si $y=Tu$, ¿cuál es la componente $y_i$?\n",
    "\n",
    "Modifica rutina `prodT` para que realize producto de matriz $T$ por matriz $U$\n",
    "\n",
    "ENTRADA:\n",
    "- arreglo 2D $U$ de $n\\times n$\n",
    "SALIDA:\n",
    "- arreglo 2D $Y$ de $n\\times n$ \n",
    "\n",
    "Si $Y=TU$, ¿como queda el renglón $i$ de$Y$?"
   ]
  },
  {
   "cell_type": "code",
   "execution_count": null,
   "metadata": {},
   "outputs": [],
   "source": [
    "function prodT(X::Array{Float64})\n",
    "    s  = size(X)\n",
    "    TX = zeros(s)\n",
    "    TX[1,:] = 2X[1,:] -X[2,:]    \n",
    "    TX[2:end-1,:] = -X[1:end-2,:] + 2X[2:end-1,:] -X[3:end,:]\n",
    "    TX[end,:] = -X[end-1,:] + 2X[end,:]\n",
    "    return TX\n",
    "end"
   ]
  },
  {
   "cell_type": "markdown",
   "metadata": {},
   "source": [
    "Crear rutina `vecb` para formar el lado derecho $b$\n",
    "\n",
    "ENTRADA:\n",
    "- función $f$ (el lado derecho de la ecuación diferencial)\n",
    "- entero $n$ (núm de puntos en partición de $(0,1)$)\n",
    "- números flotantes $\\alpha,\\beta$ (condiciones de frontera)\n",
    "\n",
    "SALIDA:\n",
    "- arreglo 1D $b$ de $n$ componentes"
   ]
  },
  {
   "cell_type": "code",
   "execution_count": null,
   "metadata": {},
   "outputs": [],
   "source": [
    "function vecb(funf::Function, px::Array{Float64}, u₀::Number,uₙ₊₁::Number)\n",
    "    # núm de pts en partición\n",
    "    n = length(px)\n",
    "    # lado derecho de la ecuación diferencial en la partición\n",
    "    fx = funf.(px)\n",
    "    # lado derecho del sistema de ecuaciones lineales\n",
    "    b  = fx/(n+1)^2\n",
    "    b[1] += u₀\n",
    "    b[end] += uₙ₊₁\n",
    "    return b\n",
    "end"
   ]
  },
  {
   "cell_type": "markdown",
   "metadata": {},
   "source": [
    "Crear rutina `miCG` para resolver $Tu=b$ por el método de gradiente conjugado \n",
    "\n",
    "ENTRADA:\n",
    "- función `miprod` (rutina para producto matriz vector)\n",
    "- arreglo $b$ (el lado derecho del sistema de ecuaciones)\n",
    "- entero *itmax*  (número máximo de iteraciones)\n",
    "- número flotante *tol* (tolerancia para el tamaño del gradiente)\n",
    "\n",
    "SALIDA:\n",
    "- arreglo $u$ solución de $Tu=b$\n",
    "\n",
    "En cada iteración muestra el tamaño del gradiente \n",
    "puede usar lo siguiente en su código\n",
    "\n",
    "```julia\n",
    "\n",
    " cadena = @sprintf \"%1.5e\" normag\n",
    " display(latexstring(\"\\$\\\\|g_{$it}\\\\|\\$ = \"*cadena))\n",
    "```"
   ]
  },
  {
   "cell_type": "code",
   "execution_count": null,
   "metadata": {},
   "outputs": [],
   "source": [
    "function miCG(fun::Function,b::Array{Float64}, itmax::Int64 = 300, tol::Float64 = 1e-5)\n",
    "        #=\n",
    "            Rutina para resolver sistema de ecuaciones lineales\n",
    "                Ax=b\n",
    "            por método del gradiente conjugado\n",
    "    \n",
    "            Entrada: \n",
    "                función fun para realizar producto matriz vector\n",
    "                arreglo b   con el lado derecho\n",
    "            Salida:\n",
    "                arreglo x con la aproximación de la solución\n",
    "        =#\n",
    "\n",
    "            l = length(b)\n",
    "            # aprox inicial en el origen\n",
    "            x = zeros(l) \n",
    "            # gradiente inicial = residual inicial = - lado derecho\n",
    "            g = -copy(b) \n",
    "            # primera dirección contraria al gradiente inicial\n",
    "            d = -copy(g)\n",
    "            # contador \n",
    "            it = 0\n",
    "            # máximo numéro de iteraciones\n",
    "            #itmax = 300\n",
    "            # tamaño del gradiente\n",
    "            ng = norm(g)\n",
    "            # toleracia\n",
    "            #tol = 1e-5\n",
    "            # CICLO PRINCIPAL\n",
    "            while ng ≥ tol # criterio de paro por tamaño del gradiente\n",
    "                # muestra tamaño del gradiente\n",
    "                cad = @sprintf \"%1.5e\" ng\n",
    "                display(latexstring(\"\\$\\\\|g_{$it}\\\\|\\$ = \"*cad))\n",
    "                # rutina para producto matriz vector\n",
    "                Ad = fun(d)\n",
    "                # mínimo sobre la línea\n",
    "                α  = (g'*g) / (d'*Ad)\n",
    "                # actualiza la aproximación\n",
    "                x +=  α*d\n",
    "                # nuevo gradiente ortogonal al anterior\n",
    "                gnew = g + α*Ad\n",
    "                # coeficientes para A-ortogonalidad de las direcciones\n",
    "                β = (gnew'*gnew) / (g'*g)\n",
    "                # actualiza gradiente\n",
    "                g = gnew\n",
    "                # tamaño del gradiente\n",
    "                ng = norm(g)\n",
    "                # actualiza dirección\n",
    "                d = -g + β*d\n",
    "                # actualiza contador\n",
    "                it += 1\n",
    "                # criterio de paro por iteraciones\n",
    "                ( it ≥ itmax ) && break\n",
    "            end\n",
    "            if ( it < itmax ) \n",
    "               println(\"salí por tamaño de gradiente\")\n",
    "            else\n",
    "               println(\"salí por iteraciones\") \n",
    "            end\n",
    "            # muestra tamaño del último gradiente\n",
    "            cad = @sprintf \"%1.5e\" ng\n",
    "            display(latexstring(\"\\$\\\\|g_{$it}\\\\|\\$ = \"*cad))\n",
    "    return x\n",
    "end"
   ]
  },
  {
   "cell_type": "markdown",
   "metadata": {},
   "source": [
    "Crear rutina `Poisson1D` para resolver la Ec. de Poisson 1D por diferencias finitas\n",
    "\n",
    "ENTRADA:\n",
    "- función $f$ (el lado derecho de la ecuación diferencial)\n",
    "- entero $n$ (núm de puntos en partición de $(0,1)$)\n",
    "- números flotantes $\\alpha,\\beta$ (condiciones de frontera)\n",
    "\n",
    "SALIDA:\n",
    "- arreglo $\\widehat u$ con los valores aproximados de la solución \n",
    "  $$ \\widehat u = \\left[\\begin{array}{c}\n",
    "   u(x_1) \\\\  u(x_2)\\\\ \\vdots \\\\ u(x_{n-1}) \\\\ u(x_n)\n",
    "\\end{array}\\right]$$\n",
    "\n",
    "Esta rutina debe mandar a llamar a la rutina `miCG`\n",
    "\n",
    "La rutina `miCG` para gradiente conjugado debe usar como entradas \n",
    "\n",
    "a la rutina `prodT` y el vector que devuelve  `ladob`"
   ]
  },
  {
   "cell_type": "code",
   "execution_count": null,
   "metadata": {},
   "outputs": [],
   "source": [
    "function poisson1DCG(funf::Function, n::Int64, u₀::Number = 0,uₙ₊₁::Number = 0)\n",
    "    # partición del intervalo [0,1] en n+2 pts\n",
    "    px = LinRange(0,1,n+2)\n",
    "    # partición del intervalo (0,1) en n pts\n",
    "    px = collect(px)[2:end-1]\n",
    "    # lado derecho del sistema de ecuaciones\n",
    "    b = vecb(funf,px, u₀,uₙ₊₁)\n",
    "    # solución del sistema de ecuaciones lineales por CG\n",
    "    ûx = miCG(prodT,b)\n",
    "    return px, ûx\n",
    "end"
   ]
  },
  {
   "cell_type": "markdown",
   "metadata": {},
   "source": [
    "<font color=\"blue\">Pruebe su rutina `comparación1D` con la siguiente información</font>"
   ]
  },
  {
   "cell_type": "code",
   "execution_count": null,
   "metadata": {},
   "outputs": [],
   "source": [
    "# lado derecho de ecuación diferencial\n",
    "ff(x) =  cos(π*x)\n",
    "# solución analítica a la ecuación de poisson con el lado derecho anterior \n",
    "u(x) = (cos(π*x) + 2.0x - 1.0)/π^2"
   ]
  },
  {
   "cell_type": "code",
   "execution_count": null,
   "metadata": {},
   "outputs": [],
   "source": [
    "# partición y solución aprox en partición\n",
    "px, ûx = poisson1DCG(ff,30)\n",
    "# solución analítica en la partición\n",
    "ux = u.(px);"
   ]
  },
  {
   "cell_type": "code",
   "execution_count": null,
   "metadata": {},
   "outputs": [],
   "source": [
    "plt = @pgf Axis({\n",
    "        height = \"12cm\",\n",
    "        width  = \"12cm\",\n",
    "        xlabel = L\"$x$\",\n",
    "        ylabel = L\"$u(x) = \\frac{\\pi}{2}(\\cos(\\pi x) + 2x - 1)$\",\n",
    "        title  = \"solución de \"*L\"$-u''(x) = \\cos(\\pi x),\\ u(0)=u(1)=0 $\"*\" por CG\"\n",
    "        },\n",
    "        PlotInc({\"no marks\",  color=\"blue\"},Coordinates(px,ux)),\n",
    "        LegendEntry(\"exact\"),\n",
    "        PlotInc({\"only marks\",color=\"red\"}, Coordinates(px,ûx)),\n",
    "        LegendEntry(\"aprox\")\n",
    "    )"
   ]
  },
  {
   "cell_type": "code",
   "execution_count": null,
   "metadata": {},
   "outputs": [],
   "source": [
    "# guarda gráfica de solución\n",
    "pgfsave(\"sol1.pdf\", plt; include_preamble = true, dpi = 150)"
   ]
  }
 ],
 "metadata": {
  "hide_input": false,
  "kernelspec": {
   "display_name": "Julia 1.6.1",
   "language": "julia",
   "name": "julia-1.6"
  },
  "language_info": {
   "file_extension": ".jl",
   "mimetype": "application/julia",
   "name": "julia",
   "version": "1.6.1"
  },
  "latex_envs": {
   "LaTeX_envs_menu_present": true,
   "autoclose": false,
   "autocomplete": true,
   "bibliofile": "biblio.bib",
   "cite_by": "apalike",
   "current_citInitial": 1,
   "eqLabelWithNumbers": true,
   "eqNumInitial": 1,
   "hotkeys": {
    "equation": "Ctrl-E",
    "itemize": "Ctrl-I"
   },
   "labels_anchors": false,
   "latex_user_defs": false,
   "report_style_numbering": false,
   "user_envs_cfg": false
  },
  "nbTranslate": {
   "displayLangs": [
    "*"
   ],
   "hotkey": "alt-t",
   "langInMainMenu": true,
   "sourceLang": "en",
   "targetLang": "fr",
   "useGoogleTranslate": true
  },
  "toc": {
   "base_numbering": 1,
   "nav_menu": {},
   "number_sections": true,
   "sideBar": true,
   "skip_h1_title": false,
   "title_cell": "Tabla de contenido",
   "title_sidebar": "Contenido",
   "toc_cell": false,
   "toc_position": {},
   "toc_section_display": true,
   "toc_window_display": false
  },
  "varInspector": {
   "cols": {
    "lenName": 16,
    "lenType": 16,
    "lenVar": 40
   },
   "kernels_config": {
    "python": {
     "delete_cmd_postfix": "",
     "delete_cmd_prefix": "del ",
     "library": "var_list.py",
     "varRefreshCmd": "print(var_dic_list())"
    },
    "r": {
     "delete_cmd_postfix": ") ",
     "delete_cmd_prefix": "rm(",
     "library": "var_list.r",
     "varRefreshCmd": "cat(var_dic_list()) "
    }
   },
   "types_to_exclude": [
    "module",
    "function",
    "builtin_function_or_method",
    "instance",
    "_Feature"
   ],
   "window_display": false
  }
 },
 "nbformat": 4,
 "nbformat_minor": 2
}
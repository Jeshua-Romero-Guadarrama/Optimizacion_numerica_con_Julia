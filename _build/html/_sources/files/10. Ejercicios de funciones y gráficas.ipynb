{
 "cells": [
  {
   "cell_type": "markdown",
   "metadata": {},
   "source": [
    "```{contents}\n",
    ":depth: 4\n",
    "```"
   ]
  },
  {
   "cell_type": "markdown",
   "metadata": {},
   "source": [
    "# Ejercicios de funciones y gráficas"
   ]
  },
  {
   "cell_type": "markdown",
   "metadata": {},
   "source": [
    "**Ejercicio 16:**\n",
    "\n",
    "\n",
    "Escribe una rutina tal que\n",
    "\n",
    "- **Entrada:** entero $n$ \n",
    "\n",
    "- **Salida:** número de condición en norma euclidiana de la matriz de Hilbert de orden $n$ \n",
    "\n",
    "matriz de Hilbert $H_n$ dada por\n",
    "\n",
    "$$h_{i,j} = \\dfrac{1}{i+j-1}\\quad i,j=1,\\dots,n$$"
   ]
  },
  {
   "cell_type": "code",
   "execution_count": 1,
   "metadata": {},
   "outputs": [
    {
     "name": "stdout",
     "output_type": "stream",
     "text": [
      "include group.jl for user defined matrix generators\n",
      "verify download of index files...\n",
      "used remote site is https://sparse.tamu.edu/?per_page=All\n",
      "populating internal database...\n"
     ]
    }
   ],
   "source": [
    "using LinearAlgebra # paquete requerido\n",
    "using MatrixDepot # depósito de matrices"
   ]
  },
  {
   "cell_type": "code",
   "execution_count": 2,
   "metadata": {},
   "outputs": [
    {
     "name": "stdout",
     "output_type": "stream",
     "text": [
      "search: \u001b[0m\u001b[1mM\u001b[22m\u001b[0m\u001b[1ma\u001b[22m\u001b[0m\u001b[1mt\u001b[22m\u001b[0m\u001b[1mr\u001b[22m\u001b[0m\u001b[1mi\u001b[22m\u001b[0m\u001b[1mx\u001b[22m\u001b[0m\u001b[1mD\u001b[22m\u001b[0m\u001b[1me\u001b[22m\u001b[0m\u001b[1mp\u001b[22m\u001b[0m\u001b[1mo\u001b[22m\u001b[0m\u001b[1mt\u001b[22m \u001b[0m\u001b[1mm\u001b[22m\u001b[0m\u001b[1ma\u001b[22m\u001b[0m\u001b[1mt\u001b[22m\u001b[0m\u001b[1mr\u001b[22m\u001b[0m\u001b[1mi\u001b[22m\u001b[0m\u001b[1mx\u001b[22m\u001b[0m\u001b[1md\u001b[22m\u001b[0m\u001b[1me\u001b[22m\u001b[0m\u001b[1mp\u001b[22m\u001b[0m\u001b[1mo\u001b[22m\u001b[0m\u001b[1mt\u001b[22m\n",
      "\n"
     ]
    },
    {
     "data": {
      "text/latex": [
       "julia     MatrixDepot\n",
       "\n",
       "Give access to a wealth of sample and test matrices and accompanying data. A set of matrices is generated locally (with arguments controlling the special case). Another set is loaded from one of the publicly accessible matrix collections \\texttt{SuiteSparse Matrix Collection} (formerly \\texttt{University of Florida Matrix Collection}) and the \\texttt{Matrix Market Collection}.\n",
       "\n",
       "Access is like\n",
       "\n",
       "\\begin{verbatim}\n",
       "using MatrixDepot\n",
       "\n",
       "A = matrixdepot(\"hilb\", 10) # locally generated hilbert matrix dimensions (10,10)\n",
       "\n",
       "A = matrixdepot(\"HB/1138_bus\")     # named matrix of the SuiteSparse Collection\n",
       "A = matrixdepot(sp(1))             # same matrix using numerical id\n",
       "A = matrixdepot(\"Harwell*/*/1138_bus\") # matrix from the Matrix Market Collection \n",
       "\n",
       "md = mdopen(\"*/bfly\")   # named matrix with some extra data\n",
       "A = md.A\n",
       "co = md.coord\n",
       "tx = md(\"Gname_10.txt\")\n",
       "\n",
       "md = mdopen(\"gravity\", 10, false) # localy generated example with rhs and solution\n",
       "A = md.A\n",
       "b = md.b\n",
       "x = md.x\n",
       "\\end{verbatim}\n",
       "\\subsubparagraph{commands:}\n",
       "\\begin{verbatim}\n",
       "mdinfo, listdir, listgroups, matrixdepot, mdopen, listdata, mdlist,\n",
       "metasymbols, @addgroup, @modifygroup, @rmgroup.\n",
       "\\end{verbatim}\n",
       "\\subsubparagraph{selector patterns:}\n",
       "\\begin{verbatim}\n",
       "strings, string-patterns (using \"*\", \"?\", \"/\", \"**\"), regular expressions: for names\n",
       "builtin(42), user(3,5), sp(10:11,6,2833), mm(1): to access by integer id\n",
       "\\end{verbatim}\n",
       "\\subsubparagraph{predicate patterns:}\n",
       "\\begin{verbatim}\n",
       "isboolean, isinteger, isreal, iscomplex\n",
       "isgeneral, issymmetric, ishermitian, isskew\n",
       "isbuiltin, isuser, islocal, isremote, isloaded, isunloaded\n",
       "keyword(string expression), logical, hasdata(symbol), @pred(expression)\n",
       "\n",
       "see also: \"logical\" for logical combinations of all kinds of patterns.\n",
       "\\end{verbatim}\n"
      ],
      "text/markdown": [
       "julia     MatrixDepot\n",
       "\n",
       "Give access to a wealth of sample and test matrices and accompanying data. A set of matrices is generated locally (with arguments controlling the special case). Another set is loaded from one of the publicly accessible matrix collections `SuiteSparse Matrix Collection` (formerly `University of Florida Matrix Collection`) and the `Matrix Market Collection`.\n",
       "\n",
       "Access is like\n",
       "\n",
       "```\n",
       "using MatrixDepot\n",
       "\n",
       "A = matrixdepot(\"hilb\", 10) # locally generated hilbert matrix dimensions (10,10)\n",
       "\n",
       "A = matrixdepot(\"HB/1138_bus\")     # named matrix of the SuiteSparse Collection\n",
       "A = matrixdepot(sp(1))             # same matrix using numerical id\n",
       "A = matrixdepot(\"Harwell*/*/1138_bus\") # matrix from the Matrix Market Collection \n",
       "\n",
       "md = mdopen(\"*/bfly\")   # named matrix with some extra data\n",
       "A = md.A\n",
       "co = md.coord\n",
       "tx = md(\"Gname_10.txt\")\n",
       "\n",
       "md = mdopen(\"gravity\", 10, false) # localy generated example with rhs and solution\n",
       "A = md.A\n",
       "b = md.b\n",
       "x = md.x\n",
       "```\n",
       "\n",
       "###### commands:\n",
       "\n",
       "```\n",
       "mdinfo, listdir, listgroups, matrixdepot, mdopen, listdata, mdlist,\n",
       "metasymbols, @addgroup, @modifygroup, @rmgroup.\n",
       "```\n",
       "\n",
       "###### selector patterns:\n",
       "\n",
       "```\n",
       "strings, string-patterns (using \"*\", \"?\", \"/\", \"**\"), regular expressions: for names\n",
       "builtin(42), user(3,5), sp(10:11,6,2833), mm(1): to access by integer id\n",
       "```\n",
       "\n",
       "###### predicate patterns:\n",
       "\n",
       "```\n",
       "isboolean, isinteger, isreal, iscomplex\n",
       "isgeneral, issymmetric, ishermitian, isskew\n",
       "isbuiltin, isuser, islocal, isremote, isloaded, isunloaded\n",
       "keyword(string expression), logical, hasdata(symbol), @pred(expression)\n",
       "\n",
       "see also: \"logical\" for logical combinations of all kinds of patterns.\n",
       "```\n"
      ],
      "text/plain": [
       "  julia MatrixDepot\n",
       "\n",
       "  Give access to a wealth of sample and test matrices and accompanying data. A\n",
       "  set of matrices is generated locally (with arguments controlling the special\n",
       "  case). Another set is loaded from one of the publicly accessible matrix\n",
       "  collections \u001b[36mSuiteSparse Matrix Collection\u001b[39m (formerly \u001b[36mUniversity of Florida\n",
       "  Matrix Collection\u001b[39m) and the \u001b[36mMatrix Market Collection\u001b[39m.\n",
       "\n",
       "  Access is like\n",
       "\n",
       "\u001b[36m  using MatrixDepot\u001b[39m\n",
       "\u001b[36m  \u001b[39m\n",
       "\u001b[36m  A = matrixdepot(\"hilb\", 10) # locally generated hilbert matrix dimensions (10,10)\u001b[39m\n",
       "\u001b[36m  \u001b[39m\n",
       "\u001b[36m  A = matrixdepot(\"HB/1138_bus\")     # named matrix of the SuiteSparse Collection\u001b[39m\n",
       "\u001b[36m  A = matrixdepot(sp(1))             # same matrix using numerical id\u001b[39m\n",
       "\u001b[36m  A = matrixdepot(\"Harwell*/*/1138_bus\") # matrix from the Matrix Market Collection \u001b[39m\n",
       "\u001b[36m  \u001b[39m\n",
       "\u001b[36m  md = mdopen(\"*/bfly\")   # named matrix with some extra data\u001b[39m\n",
       "\u001b[36m  A = md.A\u001b[39m\n",
       "\u001b[36m  co = md.coord\u001b[39m\n",
       "\u001b[36m  tx = md(\"Gname_10.txt\")\u001b[39m\n",
       "\u001b[36m  \u001b[39m\n",
       "\u001b[36m  md = mdopen(\"gravity\", 10, false) # localy generated example with rhs and solution\u001b[39m\n",
       "\u001b[36m  A = md.A\u001b[39m\n",
       "\u001b[36m  b = md.b\u001b[39m\n",
       "\u001b[36m  x = md.x\u001b[39m\n",
       "\n",
       "\u001b[1m  commands:\u001b[22m\n",
       "\n",
       "\u001b[36m  mdinfo, listdir, listgroups, matrixdepot, mdopen, listdata, mdlist,\u001b[39m\n",
       "\u001b[36m  metasymbols, @addgroup, @modifygroup, @rmgroup.\u001b[39m\n",
       "\n",
       "\u001b[1m  selector patterns:\u001b[22m\n",
       "\n",
       "\u001b[36m  strings, string-patterns (using \"*\", \"?\", \"/\", \"**\"), regular expressions: for names\u001b[39m\n",
       "\u001b[36m  builtin(42), user(3,5), sp(10:11,6,2833), mm(1): to access by integer id\u001b[39m\n",
       "\n",
       "\u001b[1m  predicate patterns:\u001b[22m\n",
       "\n",
       "\u001b[36m  isboolean, isinteger, isreal, iscomplex\u001b[39m\n",
       "\u001b[36m  isgeneral, issymmetric, ishermitian, isskew\u001b[39m\n",
       "\u001b[36m  isbuiltin, isuser, islocal, isremote, isloaded, isunloaded\u001b[39m\n",
       "\u001b[36m  keyword(string expression), logical, hasdata(symbol), @pred(expression)\u001b[39m\n",
       "\u001b[36m  \u001b[39m\n",
       "\u001b[36m  see also: \"logical\" for logical combinations of all kinds of patterns.\u001b[39m"
      ]
     },
     "execution_count": 2,
     "metadata": {},
     "output_type": "execute_result"
    }
   ],
   "source": [
    "?MatrixDepot"
   ]
  },
  {
   "cell_type": "code",
   "execution_count": 3,
   "metadata": {},
   "outputs": [
    {
     "data": {
      "text/plain": [
       "3×3 Array{Float64,2}:\n",
       " 1.0       0.5       0.333333\n",
       " 0.5       0.333333  0.25    \n",
       " 0.333333  0.25      0.2     "
      ]
     },
     "execution_count": 3,
     "metadata": {},
     "output_type": "execute_result"
    }
   ],
   "source": [
    "A = matrixdepot(\"hilb\", 3)"
   ]
  },
  {
   "cell_type": "code",
   "execution_count": 12,
   "metadata": {},
   "outputs": [
    {
     "data": {
      "text/plain": [
       "CondicionHilbert (generic function with 1 method)"
      ]
     },
     "execution_count": 12,
     "metadata": {},
     "output_type": "execute_result"
    }
   ],
   "source": [
    "function CondicionHilbert(n::Int64)\n",
    "    #=\n",
    "    Entrada: entero 𝑛\n",
    "\n",
    "    Salida: número de condición en norma euclidiana de la matriz de Hilbert de orden 𝑛\n",
    "    =#\n",
    "    H = matrixdepot(\"hilb\", n) \n",
    "    return cond(H,2)\n",
    "end"
   ]
  },
  {
   "cell_type": "code",
   "execution_count": 13,
   "metadata": {},
   "outputs": [
    {
     "data": {
      "text/plain": [
       "1.6024859712306152e13"
      ]
     },
     "execution_count": 13,
     "metadata": {},
     "output_type": "execute_result"
    }
   ],
   "source": [
    "CondicionHilbert(10)"
   ]
  },
  {
   "cell_type": "code",
   "execution_count": 14,
   "metadata": {},
   "outputs": [
    {
     "name": "stdout",
     "output_type": "stream",
     "text": [
      "search: \u001b[0m\u001b[1mC\u001b[22m\u001b[0m\u001b[1mo\u001b[22m\u001b[0m\u001b[1mn\u001b[22m\u001b[0m\u001b[1md\u001b[22m\u001b[0m\u001b[1mi\u001b[22m\u001b[0m\u001b[1mc\u001b[22m\u001b[0m\u001b[1mi\u001b[22m\u001b[0m\u001b[1mo\u001b[22m\u001b[0m\u001b[1mn\u001b[22m\u001b[0m\u001b[1mH\u001b[22m\u001b[0m\u001b[1mi\u001b[22m\u001b[0m\u001b[1ml\u001b[22m\u001b[0m\u001b[1mb\u001b[22m\u001b[0m\u001b[1me\u001b[22m\u001b[0m\u001b[1mr\u001b[22m\u001b[0m\u001b[1mt\u001b[22m\n",
      "\n"
     ]
    },
    {
     "data": {
      "text/latex": [
       "No documentation found.\n",
       "\n",
       "\\texttt{CondicionHilbert} is a \\texttt{Function}.\n",
       "\n",
       "\\begin{verbatim}\n",
       "# 1 method for generic function \"CondicionHilbert\":\n",
       "[1] CondicionHilbert(n::Int64) in Main at In[12]:7\n",
       "\\end{verbatim}\n"
      ],
      "text/markdown": [
       "No documentation found.\n",
       "\n",
       "`CondicionHilbert` is a `Function`.\n",
       "\n",
       "```\n",
       "# 1 method for generic function \"CondicionHilbert\":\n",
       "[1] CondicionHilbert(n::Int64) in Main at In[12]:7\n",
       "```\n"
      ],
      "text/plain": [
       "  No documentation found.\n",
       "\n",
       "  \u001b[36mCondicionHilbert\u001b[39m is a \u001b[36mFunction\u001b[39m.\n",
       "\n",
       "\u001b[36m  # 1 method for generic function \"CondicionHilbert\":\u001b[39m\n",
       "\u001b[36m  [1] CondicionHilbert(n::Int64) in Main at In[12]:7\u001b[39m"
      ]
     },
     "execution_count": 14,
     "metadata": {},
     "output_type": "execute_result"
    }
   ],
   "source": [
    "?CondicionHilbert"
   ]
  },
  {
   "cell_type": "markdown",
   "metadata": {},
   "source": [
    "**Ejercicio 17:**\n",
    "\n",
    "Usa la rutina anterior para mostrar la gráfica de los puntos $(n,\\text{cond}(H_n))$ para $n=1,\\dots,20$"
   ]
  },
  {
   "cell_type": "code",
   "execution_count": 15,
   "metadata": {},
   "outputs": [
    {
     "data": {
      "text/plain": [
       "Plots.PyPlotBackend()"
      ]
     },
     "execution_count": 15,
     "metadata": {},
     "output_type": "execute_result"
    }
   ],
   "source": [
    "using Plots; pyplot()"
   ]
  },
  {
   "cell_type": "code",
   "execution_count": 19,
   "metadata": {},
   "outputs": [],
   "source": [
    "N=1:20\n",
    "y=CondicionHilbert.(N);"
   ]
  },
  {
   "cell_type": "code",
   "execution_count": 22,
   "metadata": {},
   "outputs": [
    {
     "data": {
      "image/png": "[encoded data removed]"
     },
     "execution_count": 22,
     "metadata": {},
     "output_type": "execute_result"
    }
   ],
   "source": [
    "plot(N,y,\n",
    "    # etiquetas para los ejes\n",
    "    xlabel = \"n\", ylabel = \"cond(H(n))\",  \n",
    "    # forma del punto y su tamaño\n",
    "    markershape = :circle, markersize = 3 ,\n",
    "    # color de la línea\n",
    "    linecolor = :green,\n",
    "    # etiqueta de la curva, su tamaño de letra y su posición\n",
    "    label = \"Cond(H(n))\", legendfont=12,  \n",
    "    # titulo y tamaño de letra\n",
    "    title = \"Mi Gráfica \", titlefont=14 )"
   ]
  },
  {
   "cell_type": "code",
   "execution_count": null,
   "metadata": {},
   "outputs": [],
   "source": []
  },
  {
   "cell_type": "code",
   "execution_count": null,
   "metadata": {},
   "outputs": [],
   "source": []
  },
  {
   "cell_type": "markdown",
   "metadata": {},
   "source": [
    "**Composición de Funciones en Julia. EJEMPLO**"
   ]
  },
  {
   "cell_type": "code",
   "execution_count": 23,
   "metadata": {},
   "outputs": [
    {
     "data": {
      "text/plain": [
       "simetrica (generic function with 1 method)"
      ]
     },
     "execution_count": 23,
     "metadata": {},
     "output_type": "execute_result"
    }
   ],
   "source": [
    "function  simetrica(A::Array{Float64},a::Number) \n",
    "    #=\n",
    "    Entrada: matriz de flotantes A\n",
    "             número a\n",
    "            \n",
    "    Salida: matrices simétricas Aₗ y Aᵤ\n",
    "    \n",
    "    Aₗ = Sₗ+ aI, Sₗ se obtiene al reflejar la triangular inferior de la matriz \n",
    "    Aᵤ = Sᵤ+ aI, Sᵤ se obtiene al reflejar la triangular superior de la matriz\n",
    "    =#\n",
    "    Sₗ = Float64.(Symmetric(A, :L)) \n",
    "    Sᵤ = Float64.(Symmetric(A, :U))\n",
    "    Aₗ = Sₗ + a*I\n",
    "    Aᵤ = Sᵤ + a*I\n",
    "    return Aₗ, Aᵤ\n",
    "end"
   ]
  },
  {
   "cell_type": "code",
   "execution_count": 24,
   "metadata": {},
   "outputs": [
    {
     "data": {
      "text/plain": [
       "prueba_chol (generic function with 1 method)"
      ]
     },
     "execution_count": 24,
     "metadata": {},
     "output_type": "execute_result"
    }
   ],
   "source": [
    "function prueba_chol(Aₗ::Array{Float64}, Aᵤ::Array{Float64})\n",
    "    #=\n",
    "      Entrada: matrices simétricas  Sₗ y Sᵤ\n",
    "      Salida: matriz triangular inferior L de la Factorización de Cholesky de Sₗ\n",
    "              matriz triangular superior U de la Factorización de Cholesky de Sᵤ\n",
    "      en caso de que la matriz no sea positiva definida, regresa la parte triangular\n",
    "      correspondiente  \n",
    "    =#\n",
    "    if isposdef(Aₗ)\n",
    "        L = cholesky(Aₗ).L\n",
    "    else\n",
    "        println(\"Aₗ no es positiva definida\\nte regreso la parte triangular inferior L\")\n",
    "        L = LowerTriangular(Aₗ)\n",
    "    end\n",
    "    if isposdef(Aᵤ)\n",
    "        U = cholesky(Aᵤ).U\n",
    "    else\n",
    "        println(\"Aᵤ no es positiva definida\\nte regreso la parte triangular superior U\") \n",
    "        U = UpperTriangular(Aᵤ)\n",
    "    end\n",
    "    return L, U\n",
    "end"
   ]
  },
  {
   "cell_type": "code",
   "execution_count": 25,
   "metadata": {},
   "outputs": [
    {
     "data": {
      "text/plain": [
       "5×5 Array{Float64,2}:\n",
       " 0.561756   0.070477  0.622058  0.414648   0.757868\n",
       " 0.772081   0.206144  0.615455  0.224505   0.555453\n",
       " 0.749207   0.516067  0.748591  0.289905   0.543176\n",
       " 0.0888231  0.673667  0.185403  0.492077   0.805031\n",
       " 0.287426   0.357406  0.634074  0.0207097  0.792546"
      ]
     },
     "execution_count": 25,
     "metadata": {},
     "output_type": "execute_result"
    }
   ],
   "source": [
    "A = rand(5,5)"
   ]
  },
  {
   "cell_type": "code",
   "execution_count": 26,
   "metadata": {},
   "outputs": [],
   "source": [
    "a = 0; # primero prueba con 0 y luego cambia este valor a 1 "
   ]
  },
  {
   "cell_type": "markdown",
   "metadata": {},
   "source": [
    "<font color=blue>usa `...` para pasar la salida de la 1ra rutina a la entrada de la 2da rutina\n",
    "</font>    "
   ]
  },
  {
   "cell_type": "code",
   "execution_count": 31,
   "metadata": {},
   "outputs": [],
   "source": [
    "L,U  = prueba_chol(simetrica(A,2)...);"
   ]
  },
  {
   "cell_type": "code",
   "execution_count": 29,
   "metadata": {},
   "outputs": [
    {
     "data": {
      "text/plain": [
       "Tuple{Array{Float64,2},Array{Float64,2}}"
      ]
     },
     "execution_count": 29,
     "metadata": {},
     "output_type": "execute_result"
    }
   ],
   "source": [
    "typeof(simetrica(A,a))"
   ]
  },
  {
   "cell_type": "code",
   "execution_count": 33,
   "metadata": {},
   "outputs": [
    {
     "data": {
      "text/plain": [
       "5×5 UpperTriangular{Float64,Array{Float64,2}}:\n",
       " 1.60055  0.044033  0.388653  0.259066   0.473505\n",
       "  ⋅       1.48466   0.403017  0.143534   0.360085\n",
       "  ⋅        ⋅        1.56049   0.0841865  0.137153\n",
       "  ⋅        ⋅         ⋅        1.54831    0.399875\n",
       "  ⋅        ⋅         ⋅         ⋅         1.50332 "
      ]
     },
     "execution_count": 33,
     "metadata": {},
     "output_type": "execute_result"
    }
   ],
   "source": [
    "U"
   ]
  },
  {
   "cell_type": "code",
   "execution_count": null,
   "metadata": {},
   "outputs": [],
   "source": [
    "Aₗ, Aᵤ = simetrica(A,a)\n",
    "Aₗ"
   ]
  },
  {
   "cell_type": "code",
   "execution_count": null,
   "metadata": {},
   "outputs": [],
   "source": [
    "L"
   ]
  },
  {
   "cell_type": "markdown",
   "metadata": {},
   "source": [
    "**Ejercicio 18:**"
   ]
  },
  {
   "cell_type": "markdown",
   "metadata": {},
   "source": [
    "Sean \n",
    "  \n",
    ">  $f_p(x)=\\|x\\|_p:\\mathbb R^2\\to \\mathbb R$\n",
    "\n",
    ">  $G_\\sigma(r)=\\exp(-\\sigma\\cdot r^2):\\mathbb R\\to \\mathbb R$\n",
    "\n",
    "Crea una rutina \n",
    "\n",
    "- Entrada: números $p\\geq 1,\\sigma>0$\n",
    "- Si $p$ y $\\sigma$ cumplen las restricciones,  debe graficar cuatro curvas de nivel de\n",
    "\n",
    "  $$\\phi(x)= (G_\\sigma\\circ f_p)(x)$$\n",
    "  \n",
    "  En caso contrario, muestra un aviso \n",
    "\n",
    "Prueba tu rutina con\n",
    "1. $p=1$ y $\\sigma=-1$\n",
    "2. $p=2$ y $\\sigma=1$\n",
    "3. $p=1$ y $\\sigma=2$\n"
   ]
  },
  {
   "cell_type": "code",
   "execution_count": null,
   "metadata": {},
   "outputs": [],
   "source": [
    "using PGFPlotsX\n",
    "using Contour"
   ]
  },
  {
   "cell_type": "code",
   "execution_count": null,
   "metadata": {},
   "outputs": [],
   "source": []
  },
  {
   "cell_type": "markdown",
   "metadata": {},
   "source": [
    "**Ejercicio 19:**"
   ]
  },
  {
   "cell_type": "markdown",
   "metadata": {},
   "source": [
    "Crea una rutina ***cuadrática*** para la función\n",
    "\n",
    "$$f(x)= x^TAx + b^Tx:\\mathbb R^2\\to\\mathbb R$$\n",
    "\n",
    "Entrada: \n",
    "  - matriz $A$ \n",
    "  - vector $b$\n",
    " \n",
    "Salida:\n",
    " \n",
    "  - función $f$ que realiza la evaluación de la cuadrática\n",
    "    \n",
    "    recibe arreglo $x$\n",
    "    \n",
    "    devuelve valor de la evalución\n",
    "\n",
    "Prueba tu rutina con\n",
    "\n",
    "- una matriz simétrica $A$ de tamaño $2\\times2$\n",
    "\n",
    "- el vector $b=\\begin{pmatrix} 1 \\\\ 1 \\end{pmatrix}$\n",
    "\n",
    "- el vector $x=\\begin{pmatrix} 1/\\sqrt{2} \\\\ 1/\\sqrt{2} \\end{pmatrix}$\n",
    "\n",
    "Gráfica la supercifie de $f$ en $\\quad -10\\leq x_1\\leq 10,\\ -10\\leq x_2\\leq 10$"
   ]
  },
  {
   "cell_type": "code",
   "execution_count": null,
   "metadata": {},
   "outputs": [],
   "source": [
    "using Plots; pyplot()"
   ]
  },
  {
   "cell_type": "code",
   "execution_count": null,
   "metadata": {},
   "outputs": [],
   "source": []
  },
  {
   "cell_type": "markdown",
   "metadata": {},
   "source": [
    "**Ejercicio 20:**"
   ]
  },
  {
   "cell_type": "markdown",
   "metadata": {},
   "source": [
    "Crea rutina ***linea*** para la evaluación de la recta\n",
    " \n",
    "> $p +\\alpha d,\\quad \\alpha\\in\\mathbb R$\n",
    "\n",
    "Entrada\n",
    "- arreglos $p,d$ de dos componentes\n",
    "\n",
    "Salida\n",
    "- función $L$ que realiza la evaluación de la recta\n",
    "  \n",
    "  recibe número $\\alpha$\n",
    "  \n",
    "  devuelve el arreglo $p +\\alpha d$"
   ]
  },
  {
   "cell_type": "markdown",
   "metadata": {},
   "source": [
    "Prueba tu rutina con\n",
    "\n",
    "- la dirección $d$ un vector aleatorio de 2 componentes \n",
    "\n",
    "- el vector $p=\\begin{pmatrix} 1 \\\\ 1 \\end{pmatrix}$\n",
    "\n",
    "- $\\alpha=-1$\n",
    "\n",
    "Usa la función $f$ del ejercicio 4 para graficar\n",
    " \n",
    " $$\\phi(\\alpha)=f(p +\\alpha d), \\quad -0\\leq\\alpha\\leq 10$$"
   ]
  },
  {
   "cell_type": "code",
   "execution_count": null,
   "metadata": {},
   "outputs": [],
   "source": []
  }
 ],
 "metadata": {
  "hide_input": false,
  "kernelspec": {
   "display_name": "Python 3",
   "language": "python",
   "name": "python3"
  },
  "language_info": {
   "codemirror_mode": {
    "name": "ipython",
    "version": 3
   },
   "file_extension": ".py",
   "mimetype": "text/x-python",
   "name": "python",
   "nbconvert_exporter": "python",
   "pygments_lexer": "ipython3",
   "version": "3.8.8"
  },
  "latex_envs": {
   "LaTeX_envs_menu_present": true,
   "autoclose": false,
   "autocomplete": true,
   "bibliofile": "biblio.bib",
   "cite_by": "apalike",
   "current_citInitial": 1,
   "eqLabelWithNumbers": true,
   "eqNumInitial": 1,
   "hotkeys": {
    "equation": "Ctrl-E",
    "itemize": "Ctrl-I"
   },
   "labels_anchors": false,
   "latex_user_defs": false,
   "report_style_numbering": false,
   "user_envs_cfg": false
  },
  "nbTranslate": {
   "displayLangs": [
    "*"
   ],
   "hotkey": "alt-t",
   "langInMainMenu": true,
   "sourceLang": "en",
   "targetLang": "fr",
   "useGoogleTranslate": true
  },
  "toc": {
   "base_numbering": 1,
   "nav_menu": {},
   "number_sections": true,
   "sideBar": true,
   "skip_h1_title": false,
   "title_cell": "Tabla de contenido",
   "title_sidebar": "Contenido",
   "toc_cell": false,
   "toc_position": {},
   "toc_section_display": true,
   "toc_window_display": false
  },
  "varInspector": {
   "cols": {
    "lenName": 16,
    "lenType": 16,
    "lenVar": 40
   },
   "kernels_config": {
    "python": {
     "delete_cmd_postfix": "",
     "delete_cmd_prefix": "del ",
     "library": "var_list.py",
     "varRefreshCmd": "print(var_dic_list())"
    },
    "r": {
     "delete_cmd_postfix": ") ",
     "delete_cmd_prefix": "rm(",
     "library": "var_list.r",
     "varRefreshCmd": "cat(var_dic_list()) "
    }
   },
   "types_to_exclude": [
    "module",
    "function",
    "builtin_function_or_method",
    "instance",
    "_Feature"
   ],
   "window_display": false
  }
 },
 "nbformat": 4,
 "nbformat_minor": 2
}

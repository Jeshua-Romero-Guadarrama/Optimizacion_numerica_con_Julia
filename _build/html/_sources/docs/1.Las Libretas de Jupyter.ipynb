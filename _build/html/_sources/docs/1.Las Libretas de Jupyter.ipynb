{
 "cells": [
  {
   "cell_type": "markdown",
   "metadata": {},
   "source": [
    "# <font color=blue>JUPYTER NOTEBOOKS <font>\n"
   ]
  },
  {
   "cell_type": "markdown",
   "metadata": {},
   "source": [
    "## <font color=\"#21860D\">¿Qué son?</font>\n",
    "\n",
    "**Las libretas de jupyter son interfaces gráficas de una terminal interactiva**\n",
    "\n",
    "- son archivos con extensión `.ipynb`\n",
    "\n",
    "- se ejecutan sobre un navegador web o la suite `nteract`\n",
    "\n",
    "- puedes poner texto\n",
    "\n",
    "- puedes ejecutar diferentes lenguajes de programación como \n",
    "\n",
    "  Python, Julia, R, Matlab, C++, etc. En nuestro caso usamos Julia."
   ]
  },
  {
   "cell_type": "markdown",
   "metadata": {
    "nteract": {
     "transient": {
      "deleting": false
     }
    }
   },
   "source": [
    "## <font color=\"#21860D\">Celdas</font>\n",
    "\n",
    "Las libretas se componen de celdas.  Cada una tiene dos modos\n",
    "\n",
    "- **code**  escribe y ejecuta código del lenguaje de programación\n",
    "  \n",
    "- **markdown** escribe texto"
   ]
  },
  {
   "cell_type": "markdown",
   "metadata": {},
   "source": [
    "EJEMPLO DE CELDA EN MODO MARKDOWN\n",
    "\n",
    "<font color=green>CÓDIGO DE JULIA</font> (*NO ejecutable*)\n",
    "\n",
    "```julia\n",
    "# EJEMPLO DE CELDA EN MODO CODE\n",
    "# CÓDIGO DE JULIA EJECUTABLE\n",
    "# presiona el icono Run\n",
    "using Latexify, LaTeXStrings\n",
    "\n",
    "A = [ i-j for j in 1:5, i in 1:5 ]\n",
    "\n",
    "B=A\n",
    "C=copy(A)\n",
    "\n",
    "display(latexstring(\"Matriz\\\\ A\"))\n",
    "display(latexify(A))\n",
    "\n",
    "A[end,1] = -1000\n",
    "\n",
    "display(latexstring(\"Matriz\\\\ B\"))\n",
    "display(latexify(B))\n",
    "display(latexstring(\"Matriz\\\\ C\"))\n",
    "display(latexify(C))\n",
    "```\n"
   ]
  },
  {
   "cell_type": "code",
   "execution_count": null,
   "metadata": {},
   "outputs": [],
   "source": [
    "# EJEMPLO DE CELDA EN MODO CODE\n",
    "# CÓDIGO DE JULIA EJECUTABLE\n",
    "# presiona el icono Run\n",
    "using Latexify, LaTeXStrings\n",
    "\n",
    "A = [ (2 ≤ i ≤ 4) ? i-j : 5 for i ∈ 1:5, j ∈ 1:5 ]\n",
    "\n",
    "B=A\n",
    "C=copy(A)\n",
    "\n",
    "display(latexstring(\"Matriz\\\\ A\"))\n",
    "display(latexify(A))\n",
    "\n",
    "A[end,1] = -1000\n",
    "\n",
    "display(latexstring(\"Matriz\\\\ B\"))\n",
    "display(latexify(B))\n",
    "display(latexstring(\"Matriz\\\\ C\"))\n",
    "display(latexify(C))\n"
   ]
  },
  {
   "cell_type": "markdown",
   "metadata": {},
   "source": [
    "Si no tienes instalados los paquetes ejecuta la siguiente celda para la instalación y vuele a ejecutar la celda anterior."
   ]
  },
  {
   "cell_type": "code",
   "execution_count": null,
   "metadata": {},
   "outputs": [],
   "source": [
    "using Pkg\n",
    "Pkg.add(\"Latexify\")\n",
    "Pkg.add(\"LaTeXStrings\")"
   ]
  },
  {
   "cell_type": "markdown",
   "metadata": {},
   "source": [
    "Usa el icono del disquette para guardar los cambios de la libreta\n",
    "\n",
    "\n",
    "Para salir presiona Logout, \n",
    "<br>\n",
    "regresa a la terminal \n",
    "<br>\n",
    "y presiona `CTRL`+`c` dos veces para detener Jupyter"
   ]
  }
 ],
 "metadata": {
  "kernelspec": {
   "display_name": "Julia 1.5.3",
   "language": "julia",
   "name": "julia-1.5"
  },
  "language_info": {
   "file_extension": ".jl",
   "mimetype": "application/julia",
   "name": "julia",
   "version": "1.5.3"
  },
  "nteract": {
   "version": "0.22.0"
  }
 },
 "nbformat": 4,
 "nbformat_minor": 2
}

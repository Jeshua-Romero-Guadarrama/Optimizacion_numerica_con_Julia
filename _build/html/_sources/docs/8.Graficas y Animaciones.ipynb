{
 "cells": [
  {
   "cell_type": "markdown",
   "metadata": {},
   "source": [
    "# <font color=blue>GRÁFICAS Y ANIMACIONES<font>"
   ]
  },
  {
   "cell_type": "markdown",
   "metadata": {},
   "source": [
    "<a name=\"contenidos\"></a>\n",
    "## Tabla de contenidos\n",
    "1. [Gráficas en 2D](#2D)\n",
    "    * [Plots](#plots)\n",
    "    * [Gráfica de Funciones en una Variable](#funciones)\n",
    "    * [Visualización de Datos 2D](#datos)\n",
    "      \n",
    "2. [Gráficas en 3D](#3D)\n",
    "    1. [Funciones de dos variables](#funcionesR2->R)\n",
    "    1. [Animaciones 3D](#animaciones3D)"
   ]
  },
  {
   "cell_type": "markdown",
   "metadata": {},
   "source": [
    "# [1. Gráficas en 2D](#contenidos) <a name=\"2D\"></a>\n"
   ]
  },
  {
   "cell_type": "markdown",
   "metadata": {},
   "source": [
    "## [Plots](#contenidos) <a name=\"plots\"></a>\n",
    "\n",
    "\n",
    "Usa el paquete `Plots` para graficar"
   ]
  },
  {
   "cell_type": "code",
   "execution_count": null,
   "metadata": {},
   "outputs": [],
   "source": [
    "using Plots"
   ]
  },
  {
   "cell_type": "markdown",
   "metadata": {},
   "source": [
    "Luego de cargarlo puedes usar una de los siguientes interfaces para mostrar las figuras\n",
    " \n",
    "- `gr()`  por defecto\n",
    "- `plotlyjs()` usa javascript, pueden existir conflictos con la visualización\n",
    "- `pyplot()` requiere matplotlib de python\n"
   ]
  },
  {
   "cell_type": "code",
   "execution_count": null,
   "metadata": {},
   "outputs": [],
   "source": [
    "pyplot()"
   ]
  },
  {
   "cell_type": "markdown",
   "metadata": {},
   "source": [
    "Si no tienes instalados los paquetes ejecuta la siguiente celda para la instalación y vuele a ejecutar la celda anterior."
   ]
  },
  {
   "cell_type": "code",
   "execution_count": null,
   "metadata": {},
   "outputs": [],
   "source": [
    "using Pkg\n",
    "Pkg.add(\"PyPlot\")\n",
    "Pkg.add(\"PlotlyJS\")\n",
    "Pkg.add(\"PGFPlotsX\")"
   ]
  },
  {
   "cell_type": "markdown",
   "metadata": {},
   "source": [
    "## [Gráfica de Funciones en una Variable](#contenidos) <a name=\"funciones\"></a>\n",
    "\n",
    "\n",
    "**Ejemplo**\n",
    "\n",
    "Graficar una función gaussiana sobre el intervalo $[-6,6]$ \n",
    "\n",
    "junto con puntos de una cuadrática"
   ]
  },
  {
   "cell_type": "code",
   "execution_count": null,
   "metadata": {},
   "outputs": [],
   "source": [
    "#función anónima  para la gaussiana\n",
    "f(x) = exp(-x^2/2)/√(2π)"
   ]
  },
  {
   "cell_type": "code",
   "execution_count": null,
   "metadata": {},
   "outputs": [],
   "source": [
    "# puntos de la cuadrática y=1/2-x²\n",
    "x = LinRange(-5,5,201)\n",
    "y = fill(1/2,201) - x.^2/50;"
   ]
  },
  {
   "cell_type": "code",
   "execution_count": null,
   "metadata": {},
   "outputs": [],
   "source": [
    "# gráfica de la gaussiana\n",
    "plt = plot(f,-6,6,label = \"f(x) = exp(-x²/2)/√(2π)\")"
   ]
  },
  {
   "cell_type": "markdown",
   "metadata": {},
   "source": [
    "Podemos superponer la gráfica anterior con otra usando `plot!`"
   ]
  },
  {
   "cell_type": "code",
   "execution_count": null,
   "metadata": {},
   "outputs": [],
   "source": [
    "# gráfica los puntos de la cuadrática\n",
    "scatter!(x,y,label = \"f₂(x) = 1/2 - x²/50\")"
   ]
  },
  {
   "cell_type": "markdown",
   "metadata": {},
   "source": [
    "Guardamos la figura"
   ]
  },
  {
   "cell_type": "code",
   "execution_count": null,
   "metadata": {},
   "outputs": [],
   "source": [
    "savefig(plt,\"mis gráficas.pdf\")"
   ]
  },
  {
   "cell_type": "markdown",
   "metadata": {},
   "source": [
    "## [Visualización de Datos](#contenidos) <a name=\"datos\"></a>\n",
    "\n",
    "**Podemos cargar los datos de un archivo de texto \n",
    "que describen a una curva y graficarla**"
   ]
  },
  {
   "cell_type": "markdown",
   "metadata": {},
   "source": [
    "1. Cargamos paquetes"
   ]
  },
  {
   "cell_type": "code",
   "execution_count": null,
   "metadata": {},
   "outputs": [],
   "source": [
    "using PGFPlotsX    #Paquete de Graficación basado en Latex-Tikz\n",
    "using LaTeXStrings #Para mostar código LaTex en pantalla\n",
    "using DelimitedFiles #Para importar tu archivo de texto con los datos"
   ]
  },
  {
   "cell_type": "markdown",
   "metadata": {},
   "source": [
    "2. Asignamos los datos a un arreglo"
   ]
  },
  {
   "cell_type": "code",
   "execution_count": null,
   "metadata": {},
   "outputs": [],
   "source": [
    "Data  = readdlm(\"datos.txt\");\n",
    "E     = Data[:,1]\n",
    "dos   = Data[:,2]\n",
    "p_dos = Data[:,3]\n",
    "display(Data)"
   ]
  },
  {
   "cell_type": "markdown",
   "metadata": {},
   "source": [
    "3. Gráfico con atributos"
   ]
  },
  {
   "cell_type": "code",
   "execution_count": null,
   "metadata": {},
   "outputs": [],
   "source": [
    "plt = @pgf Axis(\n",
    "    {\n",
    "        title = \"Densidad de Estados del Óxido de Aluminio\",\n",
    "        xlabel = \"Energía (eV)\",\n",
    "        ylabel = \"Densidad de Estados (Estados/eV)\",\n",
    "        height = \"7.5cm\",\n",
    "        width = \"15cm\",\n",
    "    },  \n",
    "    \n",
    "    LegendEntry(L\"Densidad\\ de\\ Estados\\ Al_2O_3\"),\n",
    "    \n",
    "    Plot(\n",
    "        {\n",
    "             color = \"blue\",\n",
    "        },\n",
    "        Coordinates(E,p_dos)\n",
    "    ),\n",
    "        \n",
    ")"
   ]
  },
  {
   "cell_type": "markdown",
   "metadata": {},
   "source": [
    "4. Guarda la Gráfica"
   ]
  },
  {
   "cell_type": "code",
   "execution_count": null,
   "metadata": {},
   "outputs": [],
   "source": [
    "pgfsave(\"gráfico.pdf\", plt; include_preamble = true, dpi = 300)"
   ]
  },
  {
   "cell_type": "markdown",
   "metadata": {},
   "source": [
    "# [2. Gráficas en 3D](#contenidos) <a name=\"3D\"></a>\n"
   ]
  },
  {
   "cell_type": "markdown",
   "metadata": {},
   "source": [
    "## [Funciones  de dos variables](#contenidos) <a name=\"funcionesR2->R\"></a>\n"
   ]
  },
  {
   "cell_type": "markdown",
   "metadata": {},
   "source": [
    "Podemos graficar una función $f:\\mathbb{R}^2\\rightarrow \\mathbb{R}$\n",
    "\n",
    "**Ejemplo:** Graficar $$f(x,y)=e^{-\\left(\\frac{x^2}{2}+\\frac{y^2}{2}\\right)}$$\n",
    "\n",
    "sobre el cuadrado $[-4,4]\\times[-4,4]$\n",
    "\n",
    "1. Cargamos Paquete de gráficación"
   ]
  },
  {
   "cell_type": "code",
   "execution_count": null,
   "metadata": {},
   "outputs": [],
   "source": [
    "# En esta libreta ya cargamos el módulo de gráficación con\n",
    "# backend pyplot por lo que no es necesario volver a cargarlo \n",
    "using Plots\n",
    "pyplot()"
   ]
  },
  {
   "cell_type": "markdown",
   "metadata": {},
   "source": [
    "2. Formamos rejilla sobre el cuadrado"
   ]
  },
  {
   "cell_type": "code",
   "execution_count": null,
   "metadata": {},
   "outputs": [],
   "source": [
    "n = 50\n",
    "rango = LinRange(-4,4,n)\n",
    "X = repeat(rango',n,1)\n",
    "Y = repeat(rango,1,n)"
   ]
  },
  {
   "cell_type": "markdown",
   "metadata": {},
   "source": [
    "3. Usamos `surface` para graficar la función"
   ]
  },
  {
   "cell_type": "code",
   "execution_count": null,
   "metadata": {},
   "outputs": [],
   "source": [
    "surface(X,Y, @. exp(-(X^2/2 + Y^2/2)))"
   ]
  },
  {
   "cell_type": "markdown",
   "metadata": {},
   "source": [
    "## [Animaciones 3D](#contenidos) <a name=\"animaciones3D\"></a>\n"
   ]
  },
  {
   "cell_type": "markdown",
   "metadata": {},
   "source": [
    "Animación que muestra la deformación del helicoide al catenoide\n",
    "\n",
    "Ambas superficies están dadas por la parametrización\n",
    "\n",
    "$\\begin{array}{ll}\n",
    " x(u,v) = & \\cos(\\theta)\\sin(u)\\sinh(v) + \\sin(\\theta)\\cos(u)\\cosh(v) \\\\\n",
    " y(u,v) = - & \\cos(\\theta)\\cos(u)\\sinh(v) + \\sin(\\theta)\\sin(u)\\cosh(v)\\\\\n",
    " z(u,v) = & u\\cos(\\theta) + v\\sin(\\theta)\n",
    "\\end{array}$\n",
    "\n",
    "donde $u\\in(-\\pi,\\pi]\\ $ y $ \\ v\\in\\mathbb R$\n",
    "\n",
    "- $\\theta=0 \\qquad\\longrightarrow\\quad$ helicoide \n",
    "- $\\theta=\\pi/2 \\ \\quad\\longrightarrow\\quad$ catenoide "
   ]
  },
  {
   "cell_type": "code",
   "execution_count": null,
   "metadata": {},
   "outputs": [],
   "source": [
    "n = 51\n",
    "animación2 = \n",
    "@animate for θ ∈ LinRange(0,π/2,11)\n",
    "            u = LinRange(-π,π,n)\n",
    "            v = LinRange(-1,1,n)\n",
    "    \n",
    "            x = cos(θ)*sin.(u)*sinh.(v)' +  sin(θ)*cos.(u)*cosh.(v)'\n",
    "            y = -cos(θ)*cos.(u)*sinh.(v)' +  sin(θ)*sin.(u)*cosh.(v)'\n",
    "            z = u*fill(cos(θ),1,n) +  fill(sin(θ),n)*v'\n",
    "    \n",
    "            surface(x,y,z, xlim=(-1,1), ylim=(-1.,1.), zlim=(-2.5,2.5))\n",
    "end\n",
    "gif(animación2, \"catenoid.gif\", fps = 1);"
   ]
  },
  {
   "cell_type": "markdown",
   "metadata": {},
   "source": [
    "- Usamos el comando `surface` para graficar las superficies\n",
    "- Usamos el macro `@animate` y el comando `gif` para generar la animación"
   ]
  },
  {
   "cell_type": "raw",
   "metadata": {},
   "source": [
    "Cambia esta celda al modo markdown y presiona Run para mostrar animación\n",
    "\n",
    "<img src=\"catenoid.gif\">  "
   ]
  },
  {
   "cell_type": "code",
   "execution_count": null,
   "metadata": {},
   "outputs": [],
   "source": []
  }
 ],
 "metadata": {
  "@webio": {
   "lastCommId": "723f483ad84d48a2ab863bc5da0bae11",
   "lastKernelId": "b74ffa66-e829-49d8-8c42-ccefe2bce92a"
  },
  "kernelspec": {
   "display_name": "Julia 1.5.3",
   "language": "julia",
   "name": "julia-1.5"
  },
  "language_info": {
   "file_extension": ".jl",
   "mimetype": "application/julia",
   "name": "julia",
   "version": "1.5.3"
  },
  "nteract": {
   "version": "0.22.0"
  }
 },
 "nbformat": 4,
 "nbformat_minor": 2
}

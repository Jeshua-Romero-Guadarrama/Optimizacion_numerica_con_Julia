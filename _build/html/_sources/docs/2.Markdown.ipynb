{
 "cells": [
  {
   "cell_type": "markdown",
   "metadata": {},
   "source": [
    "# <font color=blue>Introducción a Markdown <font>"
   ]
  },
  {
   "cell_type": "markdown",
   "metadata": {},
   "source": [
    "    \n",
    "<a name=\"contenidos\"></a>\n",
    "## Tabla de contenidos\n",
    "1. [Titulares](#titulares)\n",
    "2. [Estilos de Texto](#texto)\n",
    "3. [Enlaces](#enlaces)\n",
    "4. [Imágenes](#imágenes)\n",
    "5. [Tablas](#tablas)\n",
    "6. [Código](#code)\n",
    "7. [LaTeX en Markdown](#latex)\n",
    "8. [Exporta tu libreta](#exporta)"
   ]
  },
  {
   "cell_type": "markdown",
   "metadata": {},
   "source": [
    "## [1. Titulares](#contenidos) <a name=\"titulares\"></a>\n",
    "\n",
    "\n",
    "Usa `#` para indicar que un texto es un título.\n",
    "\n",
    "El número de caracteres `#` modifica el tamaño de los títulos:\n",
    "\n",
    "# Tamaño 1\n",
    "## Tamaño 2\n",
    "### Tamaño 3\n"
   ]
  },
  {
   "cell_type": "markdown",
   "metadata": {},
   "source": [
    "## [2. Estilos de Texto](#contenidos) <a name=\"texto\"></a>\n",
    "\n",
    "\n",
    "* `Texto marcado` colocando texto entre acentos invertidos: \\`texto\\`\n",
    "\n",
    "\n",
    "* *Texto en cursiva* colocando texto entre asteriscos: `*texto*` o entre guiones bajos: `_texto_`\n",
    "\n",
    "\n",
    "* **Texto en negritas** colocando texto entre dos asteriscos: `**texto**`\n",
    "\n",
    "\n",
    "* <font color=\"red\">Texto de color</font> usa código HTML: `<font color=\"COLOR\"> TEXTO </font>`"
   ]
  },
  {
   "cell_type": "markdown",
   "metadata": {},
   "source": [
    "## [3. Enlaces](#contenidos) <a name=\"enlaces\"></a>\n",
    "\n",
    "\n",
    "\n",
    "* Directo de URL: https://on6014-2021-2.blogspot.com/"
   ]
  },
  {
   "cell_type": "markdown",
   "metadata": {},
   "source": [
    "* Se pueden agregar vínculos con referencia:\n",
    "    * La [Facultad de Ciencias][1] se fundó en 1938.\n",
    "    * La [UNAM] fue fundada el 22 de septiembre de 1910.\n",
    "\n",
    "\n",
    "[1]: http://www.fciencias.unam.mx/\n",
    "[UNAM]: https://www.unam.mx/\n",
    "\n",
    "\n",
    "    Da doble click a esta celda para ver el formato."
   ]
  },
  {
   "cell_type": "markdown",
   "metadata": {},
   "source": [
    "* Se pueden hacer vínculos en el mismo documento, por ejemplo: \n",
    "\n",
    "  [Tabla de Contenidos](#contenidos)\n",
    " \n",
    "  Para activar el hipervínculo en este ejemplo ponemos\n",
    "  \n",
    "  `[Tabla de Contenidos](#contenidos)` \n",
    "  \n",
    "  en el texto y escribimos \n",
    "  \n",
    "  `<a name=\"contenidos\"></a>` \n",
    "  \n",
    "  en la parte del documento donde nos trasladamos."
   ]
  },
  {
   "cell_type": "markdown",
   "metadata": {
    "nteract": {
     "transient": {
      "deleting": false
     }
    }
   },
   "source": [
    "## [4. Imágenes](#contenidos) <a name=\"imágenes\"></a>\n",
    "\n",
    "```html\n",
    "Agrega imágenes con\n",
    "<img src=\"ruta imágen\">\n",
    "```\n",
    "\n",
    "<img src=\"FC.png\" width=\"300\">"
   ]
  },
  {
   "cell_type": "markdown",
   "metadata": {},
   "source": [
    "## [5. Tablas](#contenidos) <a name=\"tablas\"></a>\n",
    "\n",
    "\n",
    "Podemos hacer algunas tablas sencillas en Markdown:\n",
    "\n",
    "|Col1| Col2 | Col3        |\n",
    "| -- |------| -----------:|\n",
    "| 1  | a    | $\\alpha$    |\n",
    "| 2  | b    | $\\beta$     |\n",
    "| 3  | c    | $\\gamma$    |\n",
    "\n"
   ]
  },
  {
   "cell_type": "markdown",
   "metadata": {},
   "source": [
    "## [6. Código](#contenidos) <a name=\"code\"></a>\n",
    "\n",
    "Puedes escribir código no ejecutable con la síntaxis\n",
    "\n",
    "    \\`\\`\\`LENGUAJE DE PROGRAMACIÓN\n",
    "    \n",
    "    CÓDIGO\n",
    "    \n",
    "    \\`\\`\\`"
   ]
  },
  {
   "cell_type": "markdown",
   "metadata": {},
   "source": [
    "<font color=\"blue\"> **Ejemplo en Julia**</font>\n",
    "\n",
    ">```julia\n",
    "A = [abs(i-j) for i=1:5, j = 1:5]\n",
    "A-5I \n",
    "```\n",
    "\n",
    "**Haz doble click para ver el código de la celda**"
   ]
  },
  {
   "cell_type": "markdown",
   "metadata": {},
   "source": [
    "<font color=\"blue\">**Ejemplo en Python**</font>\n",
    "\n",
    "```python\n",
    "\n",
    "from numpy import array, cos\n",
    "\n",
    "x = array([0.1,0.5,1.3])\n",
    "y = cos(x)\n",
    "```\n",
    "\n",
    "**Haz doble click para ver el código de la celda**"
   ]
  },
  {
   "cell_type": "markdown",
   "metadata": {},
   "source": [
    "## [7. LaTeX en Markdown](#contenidos) <a name=\"latex\"></a>\n",
    "\n",
    "  Usa `$formula$` para insertar código de $\\LaTeX$ en misma línea que el texto: \n",
    ">  La  función $f(x)= x^2$ es una función cuadrática. \n",
    "\n",
    "  Usa `$$formula$$` para insertar código de $\\LaTeX$ en un renglón independiente:\n",
    ">  $$\\max_{\\substack{x\\in\\mathbb R^2 \\\\ \\|x\\|_1=1}} \\|Ax\\|_1 = ?$$"
   ]
  },
  {
   "cell_type": "markdown",
   "metadata": {},
   "source": [
    "> $$ {\\frac {\\pi }{4}}={\\cfrac {1}{1+{\\cfrac {1}{3+{\\cfrac {4}{5+{\\cfrac {9}{7+{\\cfrac {16}{9+{\\cfrac {25}{11+{\\cfrac {36}{13+{\\cfrac {49}{\\ddots }}}}}}}}}}}}}}}}$$\n"
   ]
  },
  {
   "cell_type": "markdown",
   "metadata": {},
   "source": [
    "## [8. Exporta tu libreta](#contenidos) <a name=\"exporta\"></a>"
   ]
  },
  {
   "cell_type": "markdown",
   "metadata": {},
   "source": [
    "\n",
    "Puedes compartir las libretas en internet y exportarlas en PDF, LaTeX y HTML\n",
    "\n",
    "1. Usa el icono del disquette para guardar los cambios de la libreta\n",
    "  \n",
    "2. En la barra de herramientas, busca `File` $>$  `Export PDF`\n",
    "\n",
    "3. Abre el archivo PDF generado"
   ]
  }
 ],
 "metadata": {
  "kernelspec": {
   "display_name": "Julia 1.5.3",
   "language": "julia",
   "name": "julia-1.5"
  },
  "language_info": {
   "file_extension": ".jl",
   "mimetype": "application/julia",
   "name": "julia",
   "version": "1.5.3"
  },
  "nteract": {
   "version": "0.22.0"
  }
 },
 "nbformat": 4,
 "nbformat_minor": 2
}

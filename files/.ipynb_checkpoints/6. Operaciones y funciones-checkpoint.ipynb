{
 "cells": [
  {
   "cell_type": "markdown",
   "metadata": {},
   "source": [
    "```{contents}\n",
    ":depth: 4\n",
    "```"
   ]
  },
  {
   "cell_type": "markdown",
   "metadata": {},
   "source": [
    "# Operaciones y funciones"
   ]
  },
  {
   "cell_type": "markdown",
   "metadata": {},
   "source": [
    "## <font color=blue>Operaciones</font>\n",
    "\n",
    "\n",
    "### <font color=blue>Operaciones con variables numéricas </font>                  \n",
    "\n",
    "Operaciones entre variables numéricas como `+`,`-`,`*`,`/` \n",
    "\n",
    "exponenciación `^`, residuo `%`  \n",
    "\n",
    "**Ejemplo:**\n",
    "\n",
    "Fórmula cuadrática"
   ]
  },
  {
   "cell_type": "code",
   "execution_count": null,
   "metadata": {},
   "outputs": [],
   "source": [
    "a = 1; b = 5; c = 1/2\n",
    "s = ( -b + √(b^2 - 4a*c) )/2a"
   ]
  },
  {
   "cell_type": "markdown",
   "metadata": {},
   "source": [
    "Nota que basta escribir \n",
    "```julia \n",
    "   2variable``` \n",
    "en vez de \n",
    "```julia \n",
    "   2*variable```\n",
    "lo mismo para cualquier otra cifra   "
   ]
  },
  {
   "cell_type": "markdown",
   "metadata": {},
   "source": [
    "### <font color=blue>Operaciones entre arreglos de números</font>\n",
    "\n",
    "\n",
    "Síntaxis para operaciones elemento a elemento\n",
    "\n",
    "\n",
    "- exponenciación  \n",
    "```julia \n",
    "arreglo1.^2```\n",
    "\n",
    "- multiplicación  \n",
    "```julia \n",
    "arreglo1 .* arreglo2```\n",
    "\n",
    "- división \n",
    "```julia \n",
    "arreglo1 ./ arreglo2```\n",
    "\n",
    "- residuo \n",
    "\n",
    "```julia \n",
    "arreglo1 .% arreglo2```\n",
    "\n",
    "- `+` y `-`   no requieren `.`\n",
    "\n",
    "**Ejemplo:**\n",
    "\n",
    "Residuo elemento a elemento"
   ]
  },
  {
   "cell_type": "code",
   "execution_count": null,
   "metadata": {},
   "outputs": [],
   "source": [
    "divi = [101.1 253.3 π]\n",
    "nume = [10 50 3]\n",
    "divi .% nume"
   ]
  },
  {
   "cell_type": "markdown",
   "metadata": {},
   "source": [
    "Síntaxis para operaciones entre matrices\n",
    "\n",
    "- Transpuesta conjugada\n",
    "```julia \n",
    " arreglo2D'```\n",
    " \n",
    "- Potencias de matrices\n",
    "```julia \n",
    " arreglo2D^2``` \n",
    "\n",
    "- Producto de matrices\n",
    "\n",
    "  NOTA: Los tamaños deben empatar\n",
    "  \n",
    "```julia \n",
    " arreglo2D * arreglo2D\n",
    "\n",
    " arreglo2D * arreglo1D```\n",
    " \n"
   ]
  },
  {
   "cell_type": "markdown",
   "metadata": {},
   "source": [
    "**Ejemplo:**\n",
    "\n",
    "Matriz de rango uno"
   ]
  },
  {
   "cell_type": "code",
   "execution_count": null,
   "metadata": {},
   "outputs": [],
   "source": [
    "u = collect(1:15)\n",
    "v = collect(2:2:30)\n",
    "C = u*v'"
   ]
  },
  {
   "cell_type": "markdown",
   "metadata": {},
   "source": [
    "Polinomio de matrices"
   ]
  },
  {
   "cell_type": "code",
   "execution_count": null,
   "metadata": {},
   "outputs": [],
   "source": [
    "C^3 + 2C^2 + 5C + 6 "
   ]
  },
  {
   "cell_type": "markdown",
   "metadata": {},
   "source": [
    "- Resuelve sistema de ecuaciones lineales\n",
    " ```julia \n",
    " arreglo2D \\ arreglo1D```\n",
    " \n",
    "**Ejemplo:**  "
   ]
  },
  {
   "cell_type": "code",
   "execution_count": null,
   "metadata": {},
   "outputs": [],
   "source": [
    "A = randn(5,5)\n",
    "b = ones(5)\n",
    "x = A\\b"
   ]
  },
  {
   "cell_type": "markdown",
   "metadata": {},
   "source": [
    "### <font color=blue>Operaciones entre cadenas</font>\n",
    "concatenación\n",
    "\n",
    "```julia \n",
    "cadena1 * cadena2 * cadena3```\n",
    "\n",
    "repite y concatena\n",
    "\n",
    "```julia \n",
    "cadena^2```"
   ]
  },
  {
   "cell_type": "markdown",
   "metadata": {},
   "source": [
    "## <font color=blue>Funciones</font>\n",
    "\n",
    "Son objetos que reciben una tupla de argumentos y devuelven un valor\n",
    "\n",
    "\n",
    "###  <font color=blue>Algunas funciones matemáticas predefinidas</font>\n",
    "\n",
    "trigonométricas como `sin`, `cos`, `tan`, `asin`,\n",
    "\n",
    "exponencial `exp`, logarítmo `log`, \n",
    "\n",
    "raíz cuadrada `sqrt` , valor absoluto `abs`,\n",
    " \n",
    "piso `floor`, techo `ceil` y muchas más\n",
    "\n",
    "###  <font color=blue>Algunas funciones para arreglos</font>"
   ]
  },
  {
   "cell_type": "code",
   "execution_count": null,
   "metadata": {},
   "outputs": [],
   "source": [
    "sum([1,3,4,5])"
   ]
  },
  {
   "cell_type": "code",
   "execution_count": null,
   "metadata": {},
   "outputs": [],
   "source": [
    "prod([-1,4,-5,-20])"
   ]
  },
  {
   "cell_type": "code",
   "execution_count": null,
   "metadata": {},
   "outputs": [],
   "source": [
    "minimum([-5,-20,0,10])"
   ]
  },
  {
   "cell_type": "code",
   "execution_count": null,
   "metadata": {},
   "outputs": [],
   "source": [
    "maximum([-5,-20,0,10])"
   ]
  },
  {
   "cell_type": "markdown",
   "metadata": {},
   "source": [
    "###  <font color=blue>Define tus propias funciones</font>\n",
    "\n",
    "Sintaxis para funciones especificadas por fórmula\n",
    "\n",
    "```julia \n",
    "nombre_función(variable1) = fórmula en variable1 \n",
    "```\n",
    "\n",
    "**Ejemplo:**"
   ]
  },
  {
   "cell_type": "code",
   "execution_count": null,
   "metadata": {},
   "outputs": [],
   "source": [
    "f₁(x) = x^2 +1 \n",
    "println(f₁(10))\n",
    "println(f₁(100))\n",
    "println(f₁(1000))"
   ]
  },
  {
   "cell_type": "markdown",
   "metadata": {},
   "source": [
    "Puede usar otras variables en la función además de la variable principal\n",
    "\n",
    "**Ejemplo:**"
   ]
  },
  {
   "cell_type": "code",
   "execution_count": null,
   "metadata": {},
   "outputs": [],
   "source": [
    "c₁ = 2; c₂ = 10\n",
    "f₂(x) = x^c₁ + c₂\n",
    "f₂(5.5)"
   ]
  },
  {
   "cell_type": "markdown",
   "metadata": {},
   "source": [
    "Si cambia el valor de una variable en la función,\n",
    "\n",
    "también cambia el resultado que regresa"
   ]
  },
  {
   "cell_type": "code",
   "execution_count": null,
   "metadata": {},
   "outputs": [],
   "source": [
    "c₂ = 20\n",
    "f₂(5.5)"
   ]
  },
  {
   "cell_type": "markdown",
   "metadata": {},
   "source": [
    "Trata de aplicar la  función `f₂` al  arreglo [-1,0,1]"
   ]
  },
  {
   "cell_type": "markdown",
   "metadata": {},
   "source": [
    "Sintaxis para **evaluar** funciones que reciben tuplas y arreglos\n",
    "\n",
    "```julia \n",
    "map(función,variables)\n",
    "```\n",
    "Evalua las variables elemento a elemento con base a la función \n",
    "\n",
    "**Ejemplos:**"
   ]
  },
  {
   "cell_type": "code",
   "execution_count": null,
   "metadata": {},
   "outputs": [],
   "source": [
    "f₃ = x -> (x > 1e-3)"
   ]
  },
  {
   "cell_type": "code",
   "execution_count": null,
   "metadata": {},
   "outputs": [],
   "source": [
    "map(f₃, 1:10)"
   ]
  },
  {
   "cell_type": "markdown",
   "metadata": {},
   "source": [
    "Rutinas como `map` reciben como argumento una función\n",
    "\n",
    "En ese caso podemos usar funciones anónimas con la sintaxis\n",
    "\n",
    "```julia\n",
    "variable1 -> fórmula en variable1\n",
    "```\n",
    "\n",
    "que podemos usar como\n",
    "\n",
    "```julia \n",
    " rutina(variable1 -> fórmula en variable1, otros argumentos) \n",
    "```\n",
    "**Ejemplo:**\n",
    "\n",
    "Evalua una tupla de números \n",
    "\n",
    "por cada elemento usa la aplicación\n",
    "\n",
    "$$ x \\mapsto \n",
    "\\begin{cases}\n",
    " \\sqrt x + 1, & \\text{si } x >0; \\\\\n",
    " x +1, & \\text{en otro caso}\n",
    "\\end{cases} $$"
   ]
  },
  {
   "cell_type": "code",
   "execution_count": null,
   "metadata": {},
   "outputs": [],
   "source": [
    "map(x -> (x > 0) ? √x + 1 : x + 1, (-5,0,π)) "
   ]
  },
  {
   "cell_type": "markdown",
   "metadata": {},
   "source": [
    "### <font color=blue>Broadcasting</font>\n",
    "\n",
    "Extiende las funciones para que reciban tuplas o arreglos usando la sintaxis\n",
    "\n",
    "```julia \n",
    "función.(variables)\n",
    "```\n",
    "\n",
    "De esa manera la función evalua elemento a elemento\n",
    "\n",
    "**Ejemplo:**\n",
    "\n",
    "Evalua los elementos del arreglo\n",
    "\n",
    "```julia\n",
    "a = [-5  -1//2  2.5  1e4]\n",
    "```\n",
    "usando la aplicación $x \\mapsto \\sqrt|x| +1$ "
   ]
  },
  {
   "cell_type": "code",
   "execution_count": null,
   "metadata": {},
   "outputs": [],
   "source": [
    "a = [-5  -1//2  2.5  1e4]"
   ]
  },
  {
   "cell_type": "code",
   "execution_count": null,
   "metadata": {},
   "outputs": [],
   "source": [
    "f = x -> sqrt(abs(x)) +1"
   ]
  },
  {
   "cell_type": "code",
   "execution_count": null,
   "metadata": {},
   "outputs": [],
   "source": [
    "f.(a)"
   ]
  },
  {
   "cell_type": "markdown",
   "metadata": {},
   "source": [
    "Sintaxis más general para funciones\n",
    "\n",
    "```julia \n",
    " function nombre(variable1::Tipo,variable2::Tipo)\n",
    "\n",
    " return variable_salida\n",
    "end\n",
    "```\n",
    "\n",
    "- Si el tipo de variable no se especifica, Julia tratara de inferirlo.\n",
    "\n",
    "**Ejemplo**\n",
    "\n",
    "Una función sencilla puede dar lugar a diferentes operaciones con base al tipo de argumentos"
   ]
  },
  {
   "cell_type": "code",
   "execution_count": null,
   "metadata": {},
   "outputs": [],
   "source": [
    "function p(A,n)\n",
    "    pA = A^n\n",
    "   return pA \n",
    "end"
   ]
  },
  {
   "cell_type": "code",
   "execution_count": null,
   "metadata": {},
   "outputs": [],
   "source": [
    "p.(fill(2.0,3,3),3)"
   ]
  },
  {
   "cell_type": "code",
   "execution_count": null,
   "metadata": {},
   "outputs": [],
   "source": [
    "p(fill(2.0,3,3),3)"
   ]
  },
  {
   "cell_type": "markdown",
   "metadata": {},
   "source": [
    "raíz cuadrada de una matriz "
   ]
  },
  {
   "cell_type": "code",
   "execution_count": null,
   "metadata": {},
   "outputs": [],
   "source": [
    "p(fill(2.0,3,3),1/2)"
   ]
  },
  {
   "cell_type": "markdown",
   "metadata": {},
   "source": [
    "concatenación elemento a elemento de arreglos de cadenas "
   ]
  },
  {
   "cell_type": "code",
   "execution_count": null,
   "metadata": {},
   "outputs": [],
   "source": [
    "p.(rand([\"a\",\"b\",\"c\",\"d\"],2,2),3)"
   ]
  },
  {
   "cell_type": "code",
   "execution_count": null,
   "metadata": {},
   "outputs": [],
   "source": []
  },
  {
   "cell_type": "markdown",
   "metadata": {},
   "source": [
    "###  <font color=blue>Conversiones</font>"
   ]
  },
  {
   "cell_type": "code",
   "execution_count": null,
   "metadata": {},
   "outputs": [],
   "source": [
    "Float64(101//5) # Racional ⟶ Flotante de 64 bits "
   ]
  },
  {
   "cell_type": "code",
   "execution_count": null,
   "metadata": {},
   "outputs": [],
   "source": [
    "println(typeof(π))\n",
    "Float32(π) # Irracional ⟶ Flotante de 32 bits"
   ]
  },
  {
   "cell_type": "code",
   "execution_count": null,
   "metadata": {},
   "outputs": [],
   "source": [
    "println(typeof(1024.5))\n",
    "Rational(1024.5) # Flotante ⟶ Racional"
   ]
  },
  {
   "cell_type": "code",
   "execution_count": null,
   "metadata": {},
   "outputs": [],
   "source": [
    "x = 1501.123; \n",
    "string(x) # Flotante ⟶ Cadena"
   ]
  },
  {
   "cell_type": "code",
   "execution_count": null,
   "metadata": {},
   "outputs": [],
   "source": [
    "Int64(floor(-1.55)) # Flotante ⟶ Entero (truncado)"
   ]
  },
  {
   "cell_type": "markdown",
   "metadata": {},
   "source": [
    "Para tuplas y arreglos usa `Float64.`, `Float32.`, `Rational.`, `Int64.`, `string.`"
   ]
  }
 ],
 "metadata": {
  "hide_input": false,
  "kernelspec": {
   "display_name": "Python 3",
   "language": "python",
   "name": "python3"
  },
  "language_info": {
   "codemirror_mode": {
    "name": "ipython",
    "version": 3
   },
   "file_extension": ".py",
   "mimetype": "text/x-python",
   "name": "python",
   "nbconvert_exporter": "python",
   "pygments_lexer": "ipython3",
   "version": "3.8.8"
  },
  "latex_envs": {
   "LaTeX_envs_menu_present": true,
   "autoclose": false,
   "autocomplete": true,
   "bibliofile": "biblio.bib",
   "cite_by": "apalike",
   "current_citInitial": 1,
   "eqLabelWithNumbers": true,
   "eqNumInitial": 1,
   "hotkeys": {
    "equation": "Ctrl-E",
    "itemize": "Ctrl-I"
   },
   "labels_anchors": false,
   "latex_user_defs": false,
   "report_style_numbering": false,
   "user_envs_cfg": false
  },
  "nbTranslate": {
   "displayLangs": [
    "*"
   ],
   "hotkey": "alt-t",
   "langInMainMenu": true,
   "sourceLang": "en",
   "targetLang": "fr",
   "useGoogleTranslate": true
  },
  "toc": {
   "base_numbering": 1,
   "nav_menu": {},
   "number_sections": true,
   "sideBar": true,
   "skip_h1_title": false,
   "title_cell": "Tabla de contenido",
   "title_sidebar": "Contenido",
   "toc_cell": false,
   "toc_position": {},
   "toc_section_display": true,
   "toc_window_display": false
  },
  "varInspector": {
   "cols": {
    "lenName": 16,
    "lenType": 16,
    "lenVar": 40
   },
   "kernels_config": {
    "python": {
     "delete_cmd_postfix": "",
     "delete_cmd_prefix": "del ",
     "library": "var_list.py",
     "varRefreshCmd": "print(var_dic_list())"
    },
    "r": {
     "delete_cmd_postfix": ") ",
     "delete_cmd_prefix": "rm(",
     "library": "var_list.r",
     "varRefreshCmd": "cat(var_dic_list()) "
    }
   },
   "types_to_exclude": [
    "module",
    "function",
    "builtin_function_or_method",
    "instance",
    "_Feature"
   ],
   "window_display": false
  }
 },
 "nbformat": 4,
 "nbformat_minor": 2
}
